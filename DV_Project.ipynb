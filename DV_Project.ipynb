{
  "nbformat": 4,
  "nbformat_minor": 0,
  "metadata": {
    "colab": {
      "name": "DV_Project (1).ipynb",
      "provenance": [],
      "toc_visible": true
    },
    "language_info": {
      "name": "python"
    },
    "kernelspec": {
      "name": "python3",
      "display_name": "Python 3"
    }
  },
  "cells": [
    {
      "cell_type": "markdown",
      "metadata": {
        "id": "8m0knTfdCv-Z"
      },
      "source": [
        "# Education in India"
      ]
    },
    {
      "cell_type": "markdown",
      "metadata": {
        "id": "6fcU33oXCv--"
      },
      "source": [
        "I'm doing my analysis of the literacy rate in Indian states and how it depends on the state's education indicators. I will be following dataset of Elementary state Report cards (2015-2016) from DISC 2001 http://udise.in/src.htm and will be marking my steps throughout the notebook and also put some set of questions."
      ]
    },
    {
      "cell_type": "markdown",
      "metadata": {
        "id": "Y6wrBCzyCv_A"
      },
      "source": [
        ">## Importing Libraries and Loading the data"
      ]
    },
    {
      "cell_type": "code",
      "metadata": {
        "colab": {
          "base_uri": "https://localhost:8080/"
        },
        "id": "6wc8wnn5Cv_B",
        "outputId": "782bd517-83ae-4e68-c742-29c1f179a31b"
      },
      "source": [
        "# Import libraries\n",
        "\n",
        "import pandas as pd\n",
        "import matplotlib.pyplot as plt\n",
        "import seaborn as sns\n",
        "import numpy as np\n",
        "!pip install chart-studio\n",
        "import chart_studio.plotly as py\n",
        "import plotly.graph_objs as go\n",
        "from plotly.offline import init_notebook_mode,iplot\n",
        "\n",
        "pd.set_option('display.max_rows', 10)\n",
        "pd.set_option('display.max_columns',100)\n",
        "plt.style.use('ggplot')"
      ],
      "execution_count": null,
      "outputs": [
        {
          "output_type": "stream",
          "text": [
            "Collecting chart-studio\n",
            "\u001b[?25l  Downloading https://files.pythonhosted.org/packages/ca/ce/330794a6b6ca4b9182c38fc69dd2a9cbff60fd49421cb8648ee5fee352dc/chart_studio-1.1.0-py3-none-any.whl (64kB)\n",
            "\r\u001b[K     |█████                           | 10kB 14.8MB/s eta 0:00:01\r\u001b[K     |██████████▏                     | 20kB 10.9MB/s eta 0:00:01\r\u001b[K     |███████████████▎                | 30kB 7.9MB/s eta 0:00:01\r\u001b[K     |████████████████████▍           | 40kB 7.3MB/s eta 0:00:01\r\u001b[K     |█████████████████████████▍      | 51kB 4.5MB/s eta 0:00:01\r\u001b[K     |██████████████████████████████▌ | 61kB 5.0MB/s eta 0:00:01\r\u001b[K     |████████████████████████████████| 71kB 3.3MB/s \n",
            "\u001b[?25hRequirement already satisfied: retrying>=1.3.3 in /usr/local/lib/python3.7/dist-packages (from chart-studio) (1.3.3)\n",
            "Requirement already satisfied: requests in /usr/local/lib/python3.7/dist-packages (from chart-studio) (2.23.0)\n",
            "Requirement already satisfied: plotly in /usr/local/lib/python3.7/dist-packages (from chart-studio) (4.4.1)\n",
            "Requirement already satisfied: six in /usr/local/lib/python3.7/dist-packages (from chart-studio) (1.15.0)\n",
            "Requirement already satisfied: urllib3!=1.25.0,!=1.25.1,<1.26,>=1.21.1 in /usr/local/lib/python3.7/dist-packages (from requests->chart-studio) (1.24.3)\n",
            "Requirement already satisfied: chardet<4,>=3.0.2 in /usr/local/lib/python3.7/dist-packages (from requests->chart-studio) (3.0.4)\n",
            "Requirement already satisfied: certifi>=2017.4.17 in /usr/local/lib/python3.7/dist-packages (from requests->chart-studio) (2020.12.5)\n",
            "Requirement already satisfied: idna<3,>=2.5 in /usr/local/lib/python3.7/dist-packages (from requests->chart-studio) (2.10)\n",
            "Installing collected packages: chart-studio\n",
            "Successfully installed chart-studio-1.1.0\n"
          ],
          "name": "stdout"
        }
      ]
    },
    {
      "cell_type": "code",
      "metadata": {
        "id": "1wDRfJKACv_C"
      },
      "source": [
        "# Reading in datasets\n",
        "dataset = pd.read_csv('2015_16_Statewise_Elementary.csv')\n",
        "headings = pd.read_csv('2015_16_Statewise_Elementary_headings.csv')"
      ],
      "execution_count": null,
      "outputs": []
    },
    {
      "cell_type": "markdown",
      "metadata": {
        "id": "P2sMvVU8Cv_D"
      },
      "source": [
        ">## Exploring the data"
      ]
    },
    {
      "cell_type": "markdown",
      "metadata": {
        "id": "25-3QWdfCv_E"
      },
      "source": [
        "Here, we are just taking a small look at the data to understand how to go about it working with it"
      ]
    },
    {
      "cell_type": "code",
      "metadata": {
        "colab": {
          "base_uri": "https://localhost:8080/"
        },
        "id": "DDp4BTA6Cv_E",
        "outputId": "66273e90-feae-4e8b-9e06-46853abaac52"
      },
      "source": [
        "# Checking the shape of the datasets\n",
        "print(dataset.shape)\n",
        "print(headings.shape)"
      ],
      "execution_count": null,
      "outputs": [
        {
          "output_type": "stream",
          "text": [
            "(36, 816)\n",
            "(816, 2)\n"
          ],
          "name": "stdout"
        }
      ]
    },
    {
      "cell_type": "code",
      "metadata": {
        "colab": {
          "base_uri": "https://localhost:8080/"
        },
        "id": "M0wald4dCv_J",
        "outputId": "3d982622-8c1c-42e2-b0a7-80a6d7e617f7"
      },
      "source": [
        "# Quick check for null entries\n",
        "dataset.isnull().sum()"
      ],
      "execution_count": null,
      "outputs": [
        {
          "output_type": "execute_result",
          "data": {
            "text/plain": [
              "AC_YEAR      0\n",
              "STATCD       0\n",
              "STATNAME     0\n",
              "DISTRICTS    0\n",
              "BLOCKS       0\n",
              "            ..\n",
              "TOTCLS3G     0\n",
              "TOTCLS4G     0\n",
              "TOTCLS5G     0\n",
              "TOTCLS6G     0\n",
              "TOTCLS7G     0\n",
              "Length: 816, dtype: int64"
            ]
          },
          "metadata": {
            "tags": []
          },
          "execution_count": 16
        }
      ]
    },
    {
      "cell_type": "markdown",
      "metadata": {
        "id": "UwTCeokxCv_N"
      },
      "source": [
        "No Null Values present"
      ]
    },
    {
      "cell_type": "code",
      "metadata": {
        "colab": {
          "base_uri": "https://localhost:8080/",
          "height": 282
        },
        "id": "agYQPg1FCv_O",
        "outputId": "8c61e3a1-a928-48b4-cdce-ca11384f5427"
      },
      "source": [
        "dataset.head(5)"
      ],
      "execution_count": null,
      "outputs": [
        {
          "output_type": "execute_result",
          "data": {
            "text/html": [
              "<div>\n",
              "<style scoped>\n",
              "    .dataframe tbody tr th:only-of-type {\n",
              "        vertical-align: middle;\n",
              "    }\n",
              "\n",
              "    .dataframe tbody tr th {\n",
              "        vertical-align: top;\n",
              "    }\n",
              "\n",
              "    .dataframe thead th {\n",
              "        text-align: right;\n",
              "    }\n",
              "</style>\n",
              "<table border=\"1\" class=\"dataframe\">\n",
              "  <thead>\n",
              "    <tr style=\"text-align: right;\">\n",
              "      <th></th>\n",
              "      <th>AC_YEAR</th>\n",
              "      <th>STATCD</th>\n",
              "      <th>STATNAME</th>\n",
              "      <th>DISTRICTS</th>\n",
              "      <th>BLOCKS</th>\n",
              "      <th>VILLAGES</th>\n",
              "      <th>CLUSTERS</th>\n",
              "      <th>TOTPOPULAT</th>\n",
              "      <th>P_URB_POP</th>\n",
              "      <th>POPULATION_0_6</th>\n",
              "      <th>GROWTHRATE</th>\n",
              "      <th>SEXRATIO</th>\n",
              "      <th>P_SC_POP</th>\n",
              "      <th>P_ST_POP</th>\n",
              "      <th>OVERALL_LI</th>\n",
              "      <th>FEMALE_LIT</th>\n",
              "      <th>MALE_LIT</th>\n",
              "      <th>AREA_SQKM</th>\n",
              "      <th>TOT_6_10_15</th>\n",
              "      <th>TOT_11_13_15</th>\n",
              "      <th>SCH1</th>\n",
              "      <th>SCH2</th>\n",
              "      <th>SCH3</th>\n",
              "      <th>SCH4</th>\n",
              "      <th>SCH5</th>\n",
              "      <th>SCH6</th>\n",
              "      <th>SCH7</th>\n",
              "      <th>SCH9</th>\n",
              "      <th>SCHTOT</th>\n",
              "      <th>SCH1G</th>\n",
              "      <th>SCH2G</th>\n",
              "      <th>SCH3G</th>\n",
              "      <th>SCH4G</th>\n",
              "      <th>SCH5G</th>\n",
              "      <th>SCH6G</th>\n",
              "      <th>SCH7G</th>\n",
              "      <th>SCH9G</th>\n",
              "      <th>SCHTOTG</th>\n",
              "      <th>SCH1P</th>\n",
              "      <th>SCH2P</th>\n",
              "      <th>SCH3P</th>\n",
              "      <th>SCH4P</th>\n",
              "      <th>SCH5P</th>\n",
              "      <th>SCH6P</th>\n",
              "      <th>SCH7P</th>\n",
              "      <th>SCH9P</th>\n",
              "      <th>SCHTOTP</th>\n",
              "      <th>SCH1M</th>\n",
              "      <th>SCH2M</th>\n",
              "      <th>SCH3M</th>\n",
              "      <th>...</th>\n",
              "      <th>ENRE36</th>\n",
              "      <th>ENRE37</th>\n",
              "      <th>ENRE41</th>\n",
              "      <th>ENRE42</th>\n",
              "      <th>ENRE43</th>\n",
              "      <th>ENRE44</th>\n",
              "      <th>ENRE45</th>\n",
              "      <th>ENRE46</th>\n",
              "      <th>ENRE47</th>\n",
              "      <th>ENRE51</th>\n",
              "      <th>ENRE52</th>\n",
              "      <th>ENRE53</th>\n",
              "      <th>ENRE54</th>\n",
              "      <th>ENRE55</th>\n",
              "      <th>ENRE56</th>\n",
              "      <th>ENRE57</th>\n",
              "      <th>PTXT_ALL</th>\n",
              "      <th>PTXT_SC</th>\n",
              "      <th>PTXT_ST</th>\n",
              "      <th>PUNI_ALL</th>\n",
              "      <th>PUNI_SC</th>\n",
              "      <th>PUNI_ST</th>\n",
              "      <th>UTXT_ALL</th>\n",
              "      <th>UTXT_SC</th>\n",
              "      <th>UTXT_ST</th>\n",
              "      <th>UUNI_ALL</th>\n",
              "      <th>UUNI_SC</th>\n",
              "      <th>UUNI_ST</th>\n",
              "      <th>TCH_5556M</th>\n",
              "      <th>TCH_5556F</th>\n",
              "      <th>TCH_5556T</th>\n",
              "      <th>TCH_5758M</th>\n",
              "      <th>TCH_5758F</th>\n",
              "      <th>TCH_5758T</th>\n",
              "      <th>TCH_5960M</th>\n",
              "      <th>TCH_5960F</th>\n",
              "      <th>TCH_5960T</th>\n",
              "      <th>PPTR30</th>\n",
              "      <th>UPTR35</th>\n",
              "      <th>PSCR30</th>\n",
              "      <th>USCR35</th>\n",
              "      <th>NOTCH_ASS</th>\n",
              "      <th>TCHINV</th>\n",
              "      <th>TOTCLS1G</th>\n",
              "      <th>TOTCLS2G</th>\n",
              "      <th>TOTCLS3G</th>\n",
              "      <th>TOTCLS4G</th>\n",
              "      <th>TOTCLS5G</th>\n",
              "      <th>TOTCLS6G</th>\n",
              "      <th>TOTCLS7G</th>\n",
              "    </tr>\n",
              "  </thead>\n",
              "  <tbody>\n",
              "    <tr>\n",
              "      <th>0</th>\n",
              "      <td>2015-16</td>\n",
              "      <td>1</td>\n",
              "      <td>JAMMU &amp; KASHMIR</td>\n",
              "      <td>22</td>\n",
              "      <td>201</td>\n",
              "      <td>7263</td>\n",
              "      <td>1628</td>\n",
              "      <td>12549</td>\n",
              "      <td>20.05</td>\n",
              "      <td>16.01</td>\n",
              "      <td>23.71</td>\n",
              "      <td>883</td>\n",
              "      <td>7.4</td>\n",
              "      <td>11.9</td>\n",
              "      <td>68.74</td>\n",
              "      <td>58.01</td>\n",
              "      <td>78.26</td>\n",
              "      <td>222236</td>\n",
              "      <td>1452682</td>\n",
              "      <td>865656</td>\n",
              "      <td>14604</td>\n",
              "      <td>10153</td>\n",
              "      <td>486</td>\n",
              "      <td>133</td>\n",
              "      <td>95</td>\n",
              "      <td>2693</td>\n",
              "      <td>414</td>\n",
              "      <td>0</td>\n",
              "      <td>28578</td>\n",
              "      <td>13166</td>\n",
              "      <td>8026</td>\n",
              "      <td>98</td>\n",
              "      <td>133</td>\n",
              "      <td>92</td>\n",
              "      <td>1401</td>\n",
              "      <td>413</td>\n",
              "      <td>0</td>\n",
              "      <td>23329</td>\n",
              "      <td>1436</td>\n",
              "      <td>2127</td>\n",
              "      <td>388</td>\n",
              "      <td>0</td>\n",
              "      <td>3</td>\n",
              "      <td>1292</td>\n",
              "      <td>1</td>\n",
              "      <td>0</td>\n",
              "      <td>5247</td>\n",
              "      <td>2</td>\n",
              "      <td>0</td>\n",
              "      <td>0</td>\n",
              "      <td>...</td>\n",
              "      <td>0</td>\n",
              "      <td>0</td>\n",
              "      <td>0</td>\n",
              "      <td>0</td>\n",
              "      <td>0</td>\n",
              "      <td>0</td>\n",
              "      <td>0</td>\n",
              "      <td>0</td>\n",
              "      <td>0</td>\n",
              "      <td>0</td>\n",
              "      <td>0</td>\n",
              "      <td>0</td>\n",
              "      <td>0</td>\n",
              "      <td>0</td>\n",
              "      <td>0</td>\n",
              "      <td>0</td>\n",
              "      <td>665604</td>\n",
              "      <td>61070</td>\n",
              "      <td>167781</td>\n",
              "      <td>486933</td>\n",
              "      <td>44904</td>\n",
              "      <td>123864</td>\n",
              "      <td>321576</td>\n",
              "      <td>34985</td>\n",
              "      <td>65079</td>\n",
              "      <td>229227</td>\n",
              "      <td>25588</td>\n",
              "      <td>47051</td>\n",
              "      <td>1933</td>\n",
              "      <td>1428</td>\n",
              "      <td>3361</td>\n",
              "      <td>816</td>\n",
              "      <td>530</td>\n",
              "      <td>1346</td>\n",
              "      <td>75</td>\n",
              "      <td>22</td>\n",
              "      <td>97</td>\n",
              "      <td>915</td>\n",
              "      <td>61</td>\n",
              "      <td>2173</td>\n",
              "      <td>1014</td>\n",
              "      <td>20491</td>\n",
              "      <td>1946</td>\n",
              "      <td>41171</td>\n",
              "      <td>62474</td>\n",
              "      <td>7878</td>\n",
              "      <td>564</td>\n",
              "      <td>495</td>\n",
              "      <td>24326</td>\n",
              "      <td>2001</td>\n",
              "    </tr>\n",
              "    <tr>\n",
              "      <th>1</th>\n",
              "      <td>2015-16</td>\n",
              "      <td>2</td>\n",
              "      <td>HIMACHAL PRADESH</td>\n",
              "      <td>12</td>\n",
              "      <td>124</td>\n",
              "      <td>10120</td>\n",
              "      <td>2243</td>\n",
              "      <td>6857</td>\n",
              "      <td>8.69</td>\n",
              "      <td>11.14</td>\n",
              "      <td>12.81</td>\n",
              "      <td>974</td>\n",
              "      <td>25.2</td>\n",
              "      <td>5.7</td>\n",
              "      <td>83.78</td>\n",
              "      <td>76.60</td>\n",
              "      <td>90.83</td>\n",
              "      <td>55673</td>\n",
              "      <td>588162</td>\n",
              "      <td>354221</td>\n",
              "      <td>11327</td>\n",
              "      <td>798</td>\n",
              "      <td>565</td>\n",
              "      <td>2132</td>\n",
              "      <td>1634</td>\n",
              "      <td>684</td>\n",
              "      <td>884</td>\n",
              "      <td>0</td>\n",
              "      <td>18024</td>\n",
              "      <td>10716</td>\n",
              "      <td>5</td>\n",
              "      <td>24</td>\n",
              "      <td>2131</td>\n",
              "      <td>1623</td>\n",
              "      <td>7</td>\n",
              "      <td>880</td>\n",
              "      <td>0</td>\n",
              "      <td>15386</td>\n",
              "      <td>610</td>\n",
              "      <td>793</td>\n",
              "      <td>541</td>\n",
              "      <td>1</td>\n",
              "      <td>11</td>\n",
              "      <td>677</td>\n",
              "      <td>4</td>\n",
              "      <td>0</td>\n",
              "      <td>2637</td>\n",
              "      <td>1</td>\n",
              "      <td>0</td>\n",
              "      <td>0</td>\n",
              "      <td>...</td>\n",
              "      <td>76</td>\n",
              "      <td>89</td>\n",
              "      <td>0</td>\n",
              "      <td>0</td>\n",
              "      <td>0</td>\n",
              "      <td>0</td>\n",
              "      <td>0</td>\n",
              "      <td>0</td>\n",
              "      <td>0</td>\n",
              "      <td>0</td>\n",
              "      <td>0</td>\n",
              "      <td>0</td>\n",
              "      <td>0</td>\n",
              "      <td>0</td>\n",
              "      <td>0</td>\n",
              "      <td>0</td>\n",
              "      <td>329673</td>\n",
              "      <td>122825</td>\n",
              "      <td>20439</td>\n",
              "      <td>319435</td>\n",
              "      <td>119118</td>\n",
              "      <td>19561</td>\n",
              "      <td>300370</td>\n",
              "      <td>113339</td>\n",
              "      <td>22577</td>\n",
              "      <td>332815</td>\n",
              "      <td>116201</td>\n",
              "      <td>23289</td>\n",
              "      <td>1316</td>\n",
              "      <td>918</td>\n",
              "      <td>2234</td>\n",
              "      <td>85</td>\n",
              "      <td>94</td>\n",
              "      <td>179</td>\n",
              "      <td>14</td>\n",
              "      <td>14</td>\n",
              "      <td>28</td>\n",
              "      <td>521</td>\n",
              "      <td>386</td>\n",
              "      <td>442</td>\n",
              "      <td>652</td>\n",
              "      <td>36054</td>\n",
              "      <td>3053</td>\n",
              "      <td>38307</td>\n",
              "      <td>6930</td>\n",
              "      <td>6909</td>\n",
              "      <td>6498</td>\n",
              "      <td>5445</td>\n",
              "      <td>6151</td>\n",
              "      <td>2717</td>\n",
              "    </tr>\n",
              "    <tr>\n",
              "      <th>2</th>\n",
              "      <td>2015-16</td>\n",
              "      <td>3</td>\n",
              "      <td>PUNJAB</td>\n",
              "      <td>22</td>\n",
              "      <td>146</td>\n",
              "      <td>13197</td>\n",
              "      <td>1780</td>\n",
              "      <td>27704</td>\n",
              "      <td>29.82</td>\n",
              "      <td>10.62</td>\n",
              "      <td>13.73</td>\n",
              "      <td>893</td>\n",
              "      <td>31.9</td>\n",
              "      <td>0.0</td>\n",
              "      <td>76.68</td>\n",
              "      <td>71.34</td>\n",
              "      <td>81.48</td>\n",
              "      <td>50362</td>\n",
              "      <td>2447062</td>\n",
              "      <td>1498066</td>\n",
              "      <td>14371</td>\n",
              "      <td>2582</td>\n",
              "      <td>2593</td>\n",
              "      <td>2864</td>\n",
              "      <td>1754</td>\n",
              "      <td>2743</td>\n",
              "      <td>1869</td>\n",
              "      <td>0</td>\n",
              "      <td>28776</td>\n",
              "      <td>13250</td>\n",
              "      <td>328</td>\n",
              "      <td>309</td>\n",
              "      <td>2858</td>\n",
              "      <td>1631</td>\n",
              "      <td>283</td>\n",
              "      <td>1829</td>\n",
              "      <td>0</td>\n",
              "      <td>20488</td>\n",
              "      <td>921</td>\n",
              "      <td>1916</td>\n",
              "      <td>2039</td>\n",
              "      <td>6</td>\n",
              "      <td>122</td>\n",
              "      <td>2124</td>\n",
              "      <td>35</td>\n",
              "      <td>0</td>\n",
              "      <td>7163</td>\n",
              "      <td>200</td>\n",
              "      <td>338</td>\n",
              "      <td>245</td>\n",
              "      <td>...</td>\n",
              "      <td>62874</td>\n",
              "      <td>1333</td>\n",
              "      <td>138</td>\n",
              "      <td>16</td>\n",
              "      <td>316</td>\n",
              "      <td>305</td>\n",
              "      <td>238</td>\n",
              "      <td>1543</td>\n",
              "      <td>0</td>\n",
              "      <td>322</td>\n",
              "      <td>389</td>\n",
              "      <td>0</td>\n",
              "      <td>0</td>\n",
              "      <td>0</td>\n",
              "      <td>89</td>\n",
              "      <td>0</td>\n",
              "      <td>1168711</td>\n",
              "      <td>755477</td>\n",
              "      <td>1043</td>\n",
              "      <td>1002514</td>\n",
              "      <td>717693</td>\n",
              "      <td>983</td>\n",
              "      <td>911360</td>\n",
              "      <td>582104</td>\n",
              "      <td>1374</td>\n",
              "      <td>637313</td>\n",
              "      <td>450571</td>\n",
              "      <td>1091</td>\n",
              "      <td>2321</td>\n",
              "      <td>4034</td>\n",
              "      <td>6355</td>\n",
              "      <td>1479</td>\n",
              "      <td>2277</td>\n",
              "      <td>3756</td>\n",
              "      <td>260</td>\n",
              "      <td>455</td>\n",
              "      <td>715</td>\n",
              "      <td>3687</td>\n",
              "      <td>1241</td>\n",
              "      <td>3668</td>\n",
              "      <td>2754</td>\n",
              "      <td>88618</td>\n",
              "      <td>14200</td>\n",
              "      <td>56222</td>\n",
              "      <td>23531</td>\n",
              "      <td>42532</td>\n",
              "      <td>9244</td>\n",
              "      <td>8406</td>\n",
              "      <td>30835</td>\n",
              "      <td>7218</td>\n",
              "    </tr>\n",
              "    <tr>\n",
              "      <th>3</th>\n",
              "      <td>2015-16</td>\n",
              "      <td>4</td>\n",
              "      <td>CHANDIGARH</td>\n",
              "      <td>1</td>\n",
              "      <td>20</td>\n",
              "      <td>84</td>\n",
              "      <td>20</td>\n",
              "      <td>1055</td>\n",
              "      <td>97.25</td>\n",
              "      <td>11.18</td>\n",
              "      <td>17.10</td>\n",
              "      <td>818</td>\n",
              "      <td>18.9</td>\n",
              "      <td>0.0</td>\n",
              "      <td>86.43</td>\n",
              "      <td>81.38</td>\n",
              "      <td>90.54</td>\n",
              "      <td>114</td>\n",
              "      <td>114473</td>\n",
              "      <td>67721</td>\n",
              "      <td>12</td>\n",
              "      <td>29</td>\n",
              "      <td>85</td>\n",
              "      <td>0</td>\n",
              "      <td>5</td>\n",
              "      <td>70</td>\n",
              "      <td>0</td>\n",
              "      <td>0</td>\n",
              "      <td>201</td>\n",
              "      <td>7</td>\n",
              "      <td>12</td>\n",
              "      <td>42</td>\n",
              "      <td>0</td>\n",
              "      <td>2</td>\n",
              "      <td>52</td>\n",
              "      <td>0</td>\n",
              "      <td>0</td>\n",
              "      <td>115</td>\n",
              "      <td>4</td>\n",
              "      <td>12</td>\n",
              "      <td>43</td>\n",
              "      <td>0</td>\n",
              "      <td>3</td>\n",
              "      <td>18</td>\n",
              "      <td>0</td>\n",
              "      <td>0</td>\n",
              "      <td>80</td>\n",
              "      <td>1</td>\n",
              "      <td>5</td>\n",
              "      <td>0</td>\n",
              "      <td>...</td>\n",
              "      <td>302</td>\n",
              "      <td>0</td>\n",
              "      <td>0</td>\n",
              "      <td>24</td>\n",
              "      <td>0</td>\n",
              "      <td>0</td>\n",
              "      <td>0</td>\n",
              "      <td>30</td>\n",
              "      <td>0</td>\n",
              "      <td>0</td>\n",
              "      <td>0</td>\n",
              "      <td>0</td>\n",
              "      <td>0</td>\n",
              "      <td>0</td>\n",
              "      <td>0</td>\n",
              "      <td>0</td>\n",
              "      <td>59945</td>\n",
              "      <td>6520</td>\n",
              "      <td>46</td>\n",
              "      <td>57242</td>\n",
              "      <td>6330</td>\n",
              "      <td>34</td>\n",
              "      <td>44236</td>\n",
              "      <td>6456</td>\n",
              "      <td>25</td>\n",
              "      <td>42094</td>\n",
              "      <td>6330</td>\n",
              "      <td>27</td>\n",
              "      <td>43</td>\n",
              "      <td>275</td>\n",
              "      <td>318</td>\n",
              "      <td>37</td>\n",
              "      <td>143</td>\n",
              "      <td>180</td>\n",
              "      <td>7</td>\n",
              "      <td>24</td>\n",
              "      <td>31</td>\n",
              "      <td>0</td>\n",
              "      <td>0</td>\n",
              "      <td>147</td>\n",
              "      <td>117</td>\n",
              "      <td>1994</td>\n",
              "      <td>218</td>\n",
              "      <td>135</td>\n",
              "      <td>419</td>\n",
              "      <td>2066</td>\n",
              "      <td>0</td>\n",
              "      <td>36</td>\n",
              "      <td>1398</td>\n",
              "      <td>0</td>\n",
              "    </tr>\n",
              "    <tr>\n",
              "      <th>4</th>\n",
              "      <td>2015-16</td>\n",
              "      <td>5</td>\n",
              "      <td>UTTARAKHAND</td>\n",
              "      <td>13</td>\n",
              "      <td>95</td>\n",
              "      <td>11989</td>\n",
              "      <td>995</td>\n",
              "      <td>10117</td>\n",
              "      <td>21.54</td>\n",
              "      <td>13.14</td>\n",
              "      <td>19.17</td>\n",
              "      <td>963</td>\n",
              "      <td>18.8</td>\n",
              "      <td>2.9</td>\n",
              "      <td>79.63</td>\n",
              "      <td>70.70</td>\n",
              "      <td>88.33</td>\n",
              "      <td>53483</td>\n",
              "      <td>1123220</td>\n",
              "      <td>687598</td>\n",
              "      <td>15497</td>\n",
              "      <td>1584</td>\n",
              "      <td>487</td>\n",
              "      <td>3433</td>\n",
              "      <td>1600</td>\n",
              "      <td>164</td>\n",
              "      <td>895</td>\n",
              "      <td>0</td>\n",
              "      <td>23660</td>\n",
              "      <td>12599</td>\n",
              "      <td>17</td>\n",
              "      <td>46</td>\n",
              "      <td>2806</td>\n",
              "      <td>1245</td>\n",
              "      <td>9</td>\n",
              "      <td>783</td>\n",
              "      <td>0</td>\n",
              "      <td>17505</td>\n",
              "      <td>2654</td>\n",
              "      <td>1457</td>\n",
              "      <td>441</td>\n",
              "      <td>618</td>\n",
              "      <td>355</td>\n",
              "      <td>151</td>\n",
              "      <td>111</td>\n",
              "      <td>0</td>\n",
              "      <td>5787</td>\n",
              "      <td>244</td>\n",
              "      <td>110</td>\n",
              "      <td>0</td>\n",
              "      <td>...</td>\n",
              "      <td>0</td>\n",
              "      <td>0</td>\n",
              "      <td>642</td>\n",
              "      <td>171</td>\n",
              "      <td>0</td>\n",
              "      <td>266</td>\n",
              "      <td>61</td>\n",
              "      <td>653</td>\n",
              "      <td>0</td>\n",
              "      <td>0</td>\n",
              "      <td>0</td>\n",
              "      <td>1304</td>\n",
              "      <td>0</td>\n",
              "      <td>0</td>\n",
              "      <td>0</td>\n",
              "      <td>0</td>\n",
              "      <td>477117</td>\n",
              "      <td>165623</td>\n",
              "      <td>13868</td>\n",
              "      <td>423433</td>\n",
              "      <td>158811</td>\n",
              "      <td>12398</td>\n",
              "      <td>313326</td>\n",
              "      <td>103971</td>\n",
              "      <td>10992</td>\n",
              "      <td>243224</td>\n",
              "      <td>85782</td>\n",
              "      <td>9204</td>\n",
              "      <td>2253</td>\n",
              "      <td>1220</td>\n",
              "      <td>3473</td>\n",
              "      <td>2263</td>\n",
              "      <td>1205</td>\n",
              "      <td>3468</td>\n",
              "      <td>798</td>\n",
              "      <td>360</td>\n",
              "      <td>1158</td>\n",
              "      <td>1945</td>\n",
              "      <td>786</td>\n",
              "      <td>1956</td>\n",
              "      <td>1147</td>\n",
              "      <td>12608</td>\n",
              "      <td>1024</td>\n",
              "      <td>48215</td>\n",
              "      <td>14587</td>\n",
              "      <td>7545</td>\n",
              "      <td>12388</td>\n",
              "      <td>6671</td>\n",
              "      <td>1855</td>\n",
              "      <td>3227</td>\n",
              "    </tr>\n",
              "  </tbody>\n",
              "</table>\n",
              "<p>5 rows × 816 columns</p>\n",
              "</div>"
            ],
            "text/plain": [
              "   AC_YEAR  STATCD          STATNAME  DISTRICTS  BLOCKS  VILLAGES  CLUSTERS  \\\n",
              "0  2015-16       1   JAMMU & KASHMIR         22     201      7263      1628   \n",
              "1  2015-16       2  HIMACHAL PRADESH         12     124     10120      2243   \n",
              "2  2015-16       3            PUNJAB         22     146     13197      1780   \n",
              "3  2015-16       4        CHANDIGARH          1      20        84        20   \n",
              "4  2015-16       5       UTTARAKHAND         13      95     11989       995   \n",
              "\n",
              "   TOTPOPULAT  P_URB_POP  POPULATION_0_6  GROWTHRATE  SEXRATIO  P_SC_POP  \\\n",
              "0       12549      20.05           16.01       23.71       883       7.4   \n",
              "1        6857       8.69           11.14       12.81       974      25.2   \n",
              "2       27704      29.82           10.62       13.73       893      31.9   \n",
              "3        1055      97.25           11.18       17.10       818      18.9   \n",
              "4       10117      21.54           13.14       19.17       963      18.8   \n",
              "\n",
              "   P_ST_POP  OVERALL_LI  FEMALE_LIT  MALE_LIT  AREA_SQKM  TOT_6_10_15  \\\n",
              "0      11.9       68.74       58.01     78.26     222236      1452682   \n",
              "1       5.7       83.78       76.60     90.83      55673       588162   \n",
              "2       0.0       76.68       71.34     81.48      50362      2447062   \n",
              "3       0.0       86.43       81.38     90.54        114       114473   \n",
              "4       2.9       79.63       70.70     88.33      53483      1123220   \n",
              "\n",
              "   TOT_11_13_15   SCH1   SCH2  SCH3  SCH4  SCH5  SCH6  SCH7  SCH9  SCHTOT  \\\n",
              "0        865656  14604  10153   486   133    95  2693   414     0   28578   \n",
              "1        354221  11327    798   565  2132  1634   684   884     0   18024   \n",
              "2       1498066  14371   2582  2593  2864  1754  2743  1869     0   28776   \n",
              "3         67721     12     29    85     0     5    70     0     0     201   \n",
              "4        687598  15497   1584   487  3433  1600   164   895     0   23660   \n",
              "\n",
              "   SCH1G  SCH2G  SCH3G  SCH4G  SCH5G  SCH6G  SCH7G  SCH9G  SCHTOTG  SCH1P  \\\n",
              "0  13166   8026     98    133     92   1401    413      0    23329   1436   \n",
              "1  10716      5     24   2131   1623      7    880      0    15386    610   \n",
              "2  13250    328    309   2858   1631    283   1829      0    20488    921   \n",
              "3      7     12     42      0      2     52      0      0      115      4   \n",
              "4  12599     17     46   2806   1245      9    783      0    17505   2654   \n",
              "\n",
              "   SCH2P  SCH3P  SCH4P  SCH5P  SCH6P  SCH7P  SCH9P  SCHTOTP  SCH1M  SCH2M  \\\n",
              "0   2127    388      0      3   1292      1      0     5247      2      0   \n",
              "1    793    541      1     11    677      4      0     2637      1      0   \n",
              "2   1916   2039      6    122   2124     35      0     7163    200    338   \n",
              "3     12     43      0      3     18      0      0       80      1      5   \n",
              "4   1457    441    618    355    151    111      0     5787    244    110   \n",
              "\n",
              "   SCH3M  ...  ENRE36  ENRE37  ENRE41  ENRE42  ENRE43  ENRE44  ENRE45  ENRE46  \\\n",
              "0      0  ...       0       0       0       0       0       0       0       0   \n",
              "1      0  ...      76      89       0       0       0       0       0       0   \n",
              "2    245  ...   62874    1333     138      16     316     305     238    1543   \n",
              "3      0  ...     302       0       0      24       0       0       0      30   \n",
              "4      0  ...       0       0     642     171       0     266      61     653   \n",
              "\n",
              "   ENRE47  ENRE51  ENRE52  ENRE53  ENRE54  ENRE55  ENRE56  ENRE57  PTXT_ALL  \\\n",
              "0       0       0       0       0       0       0       0       0    665604   \n",
              "1       0       0       0       0       0       0       0       0    329673   \n",
              "2       0     322     389       0       0       0      89       0   1168711   \n",
              "3       0       0       0       0       0       0       0       0     59945   \n",
              "4       0       0       0    1304       0       0       0       0    477117   \n",
              "\n",
              "   PTXT_SC  PTXT_ST  PUNI_ALL  PUNI_SC  PUNI_ST  UTXT_ALL  UTXT_SC  UTXT_ST  \\\n",
              "0    61070   167781    486933    44904   123864    321576    34985    65079   \n",
              "1   122825    20439    319435   119118    19561    300370   113339    22577   \n",
              "2   755477     1043   1002514   717693      983    911360   582104     1374   \n",
              "3     6520       46     57242     6330       34     44236     6456       25   \n",
              "4   165623    13868    423433   158811    12398    313326   103971    10992   \n",
              "\n",
              "   UUNI_ALL  UUNI_SC  UUNI_ST  TCH_5556M  TCH_5556F  TCH_5556T  TCH_5758M  \\\n",
              "0    229227    25588    47051       1933       1428       3361        816   \n",
              "1    332815   116201    23289       1316        918       2234         85   \n",
              "2    637313   450571     1091       2321       4034       6355       1479   \n",
              "3     42094     6330       27         43        275        318         37   \n",
              "4    243224    85782     9204       2253       1220       3473       2263   \n",
              "\n",
              "   TCH_5758F  TCH_5758T  TCH_5960M  TCH_5960F  TCH_5960T  PPTR30  UPTR35  \\\n",
              "0        530       1346         75         22         97     915      61   \n",
              "1         94        179         14         14         28     521     386   \n",
              "2       2277       3756        260        455        715    3687    1241   \n",
              "3        143        180          7         24         31       0       0   \n",
              "4       1205       3468        798        360       1158    1945     786   \n",
              "\n",
              "   PSCR30  USCR35  NOTCH_ASS  TCHINV  TOTCLS1G  TOTCLS2G  TOTCLS3G  TOTCLS4G  \\\n",
              "0    2173    1014      20491    1946     41171     62474      7878       564   \n",
              "1     442     652      36054    3053     38307      6930      6909      6498   \n",
              "2    3668    2754      88618   14200     56222     23531     42532      9244   \n",
              "3     147     117       1994     218       135       419      2066         0   \n",
              "4    1956    1147      12608    1024     48215     14587      7545     12388   \n",
              "\n",
              "   TOTCLS5G  TOTCLS6G  TOTCLS7G  \n",
              "0       495     24326      2001  \n",
              "1      5445      6151      2717  \n",
              "2      8406     30835      7218  \n",
              "3        36      1398         0  \n",
              "4      6671      1855      3227  \n",
              "\n",
              "[5 rows x 816 columns]"
            ]
          },
          "metadata": {
            "tags": []
          },
          "execution_count": 17
        }
      ]
    },
    {
      "cell_type": "code",
      "metadata": {
        "colab": {
          "base_uri": "https://localhost:8080/",
          "height": 198
        },
        "id": "drQrtbpnCv_R",
        "outputId": "ef011b7d-fe6f-4144-837d-b1cd35084622"
      },
      "source": [
        "headings.head(5)"
      ],
      "execution_count": null,
      "outputs": [
        {
          "output_type": "execute_result",
          "data": {
            "text/html": [
              "<div>\n",
              "<style scoped>\n",
              "    .dataframe tbody tr th:only-of-type {\n",
              "        vertical-align: middle;\n",
              "    }\n",
              "\n",
              "    .dataframe tbody tr th {\n",
              "        vertical-align: top;\n",
              "    }\n",
              "\n",
              "    .dataframe thead th {\n",
              "        text-align: right;\n",
              "    }\n",
              "</style>\n",
              "<table border=\"1\" class=\"dataframe\">\n",
              "  <thead>\n",
              "    <tr style=\"text-align: right;\">\n",
              "      <th></th>\n",
              "      <th>Field name</th>\n",
              "      <th>Description</th>\n",
              "    </tr>\n",
              "  </thead>\n",
              "  <tbody>\n",
              "    <tr>\n",
              "      <th>0</th>\n",
              "      <td>AC_YEAR</td>\n",
              "      <td>AC_YEAR: AC_YEAR</td>\n",
              "    </tr>\n",
              "    <tr>\n",
              "      <th>1</th>\n",
              "      <td>STATCD</td>\n",
              "      <td>Data Reported from: Data Reported from</td>\n",
              "    </tr>\n",
              "    <tr>\n",
              "      <th>2</th>\n",
              "      <td>STATNAME</td>\n",
              "      <td>Data Reported from: Data Reported from</td>\n",
              "    </tr>\n",
              "    <tr>\n",
              "      <th>3</th>\n",
              "      <td>DISTRICTS</td>\n",
              "      <td>Data Reported from: Data Reported from</td>\n",
              "    </tr>\n",
              "    <tr>\n",
              "      <th>4</th>\n",
              "      <td>BLOCKS</td>\n",
              "      <td>Data Reported from: Data Reported from</td>\n",
              "    </tr>\n",
              "  </tbody>\n",
              "</table>\n",
              "</div>"
            ],
            "text/plain": [
              "  Field name                             Description\n",
              "0    AC_YEAR                        AC_YEAR: AC_YEAR\n",
              "1     STATCD  Data Reported from: Data Reported from\n",
              "2   STATNAME  Data Reported from: Data Reported from\n",
              "3  DISTRICTS  Data Reported from: Data Reported from\n",
              "4     BLOCKS  Data Reported from: Data Reported from"
            ]
          },
          "metadata": {
            "tags": []
          },
          "execution_count": 18
        }
      ]
    },
    {
      "cell_type": "markdown",
      "metadata": {
        "id": "dHpw5Wf_Cv_R"
      },
      "source": [
        "We see that:\n",
        ">* Dataset contains the different states along with their education indicator values.\n",
        ">* headings gives us the description of the various labels used in elementary."
      ]
    },
    {
      "cell_type": "markdown",
      "metadata": {
        "id": "HUIviPUrCv_S"
      },
      "source": [
        "## Some Set of Questions for Understanding:\n",
        "\n",
        "We will be trying to answer the following questions : \n",
        ">1. Which states have the highest and the lowest literacy rates? \n",
        ">2. How are the top states different from the bottom states and what factors can the bottom states work on to increase their literacy rate?\n",
        ">> * from above Question i'm try to analysis and answer some set of questions on the basics of Literacy rate in these states and what factors affacts the bottom states  \n",
        ">>> * Diffrence Between Male and Female Literacy rate.\n",
        ">>> * Which states have minimum and maximum number of private schools?\n",
        ">>> * Which state have only Gov. Schools?\n",
        ">>> * Dropout rate from class 8th to 9th.\n",
        ">>> * Urban and Rural Population in Scchools.\n",
        ">3. Which class is the dropout rate maximum in ?\n",
        "\n",
        "\n",
        "These questions help us not only in determining which states are the top and bottom 3 w.r.t. to overall literacy rate, but also in studying about factors that affect these states. The 3rd question is really important from the governments view as it gives us the class/age of the child where he/she is most likely to dropout and thus, that particluar age group can be targeted with highly personal and specialized incentives."
      ]
    },
    { 
      "cell_type": "markdown",
      "metadata": {
        "id": "wwkL0nGDCv_T"
      },
      "source": [
        "## Data Understanding"
      ]
    },
    {
      "cell_type": "code",
      "metadata": {
        "colab": {
          "base_uri": "https://localhost:8080/"
        },
        "id": "stDt2XaYCv_U",
        "outputId": "3eb95a27-40c6-4bd1-ceb5-5d91751772f1"
      },
      "source": [
        "# The overall state literacy rate\n",
        "dataset['OVERALL_LI'].describe()"
      ],
      "execution_count": null,
      "outputs": [
        {
          "output_type": "execute_result",
          "data": {
            "text/plain": [
              "count    36.000000\n",
              "mean     78.309444\n",
              "std       8.257752\n",
              "min      63.820000\n",
              "25%      70.937500\n",
              "50%      78.480000\n",
              "75%      86.287500\n",
              "max      93.910000\n",
              "Name: OVERALL_LI, dtype: float64"
            ]
          },
          "metadata": {
            "tags": []
          },
          "execution_count": 19
        }
      ]
    },
    {
      "cell_type": "code",
      "metadata": {
        "colab": {
          "base_uri": "https://localhost:8080/"
        },
        "id": "OdbsJGiUCv_U",
        "outputId": "1dcf3d20-2c13-4857-ab78-5a51cb3f85fa"
      },
      "source": [
        "# Areas of all states\n",
        "dataset.AREA_SQKM.describe()"
      ],
      "execution_count": null,
      "outputs": [
        {
          "output_type": "execute_result",
          "data": {
            "text/plain": [
              "count        36.000000\n",
              "mean      94501.111111\n",
              "std      102321.909726\n",
              "min          32.000000\n",
              "25%        9926.750000\n",
              "50%       54578.000000\n",
              "75%      140320.000000\n",
              "max      342239.000000\n",
              "Name: AREA_SQKM, dtype: float64"
            ]
          },
          "metadata": {
            "tags": []
          },
          "execution_count": 20
        }
      ]
    },
    {
      "cell_type": "code",
      "metadata": {
        "colab": {
          "base_uri": "https://localhost:8080/"
        },
        "id": "uFD9Q-AdCv_Y",
        "outputId": "bb55fc55-f1ea-41ac-9540-ef044b9508d6"
      },
      "source": [
        "# Growth Rate of all States\n",
        "dataset.GROWTHRATE.describe()"
      ],
      "execution_count": null,
      "outputs": [
        {
          "output_type": "execute_result",
          "data": {
            "text/plain": [
              "count    36.000000\n",
              "mean     19.990556\n",
              "std      11.455856\n",
              "min      -0.470000\n",
              "25%      13.880000\n",
              "50%      18.910000\n",
              "75%      22.637500\n",
              "max      55.500000\n",
              "Name: GROWTHRATE, dtype: float64"
            ]
          },
          "metadata": {
            "tags": []
          },
          "execution_count": 21
        }
      ]
    },
    {
      "cell_type": "code",
      "metadata": {
        "colab": {
          "base_uri": "https://localhost:8080/",
          "height": 127
        },
        "id": "HBuJMOICCv_Z",
        "outputId": "ade1255f-386f-49a7-ae47-c929004fff47"
      },
      "source": [
        "dataset[dataset.GROWTHRATE < 0]"
      ],
      "execution_count": null,
      "outputs": [
        {
          "output_type": "execute_result",
          "data": {
            "text/html": [
              "<div>\n",
              "<style scoped>\n",
              "    .dataframe tbody tr th:only-of-type {\n",
              "        vertical-align: middle;\n",
              "    }\n",
              "\n",
              "    .dataframe tbody tr th {\n",
              "        vertical-align: top;\n",
              "    }\n",
              "\n",
              "    .dataframe thead th {\n",
              "        text-align: right;\n",
              "    }\n",
              "</style>\n",
              "<table border=\"1\" class=\"dataframe\">\n",
              "  <thead>\n",
              "    <tr style=\"text-align: right;\">\n",
              "      <th></th>\n",
              "      <th>AC_YEAR</th>\n",
              "      <th>STATCD</th>\n",
              "      <th>STATNAME</th>\n",
              "      <th>DISTRICTS</th>\n",
              "      <th>BLOCKS</th>\n",
              "      <th>VILLAGES</th>\n",
              "      <th>CLUSTERS</th>\n",
              "      <th>TOTPOPULAT</th>\n",
              "      <th>P_URB_POP</th>\n",
              "      <th>POPULATION_0_6</th>\n",
              "      <th>GROWTHRATE</th>\n",
              "      <th>SEXRATIO</th>\n",
              "      <th>P_SC_POP</th>\n",
              "      <th>P_ST_POP</th>\n",
              "      <th>OVERALL_LI</th>\n",
              "      <th>FEMALE_LIT</th>\n",
              "      <th>MALE_LIT</th>\n",
              "      <th>AREA_SQKM</th>\n",
              "      <th>TOT_6_10_15</th>\n",
              "      <th>TOT_11_13_15</th>\n",
              "      <th>SCH1</th>\n",
              "      <th>SCH2</th>\n",
              "      <th>SCH3</th>\n",
              "      <th>SCH4</th>\n",
              "      <th>SCH5</th>\n",
              "      <th>SCH6</th>\n",
              "      <th>SCH7</th>\n",
              "      <th>SCH9</th>\n",
              "      <th>SCHTOT</th>\n",
              "      <th>SCH1G</th>\n",
              "      <th>SCH2G</th>\n",
              "      <th>SCH3G</th>\n",
              "      <th>SCH4G</th>\n",
              "      <th>SCH5G</th>\n",
              "      <th>SCH6G</th>\n",
              "      <th>SCH7G</th>\n",
              "      <th>SCH9G</th>\n",
              "      <th>SCHTOTG</th>\n",
              "      <th>SCH1P</th>\n",
              "      <th>SCH2P</th>\n",
              "      <th>SCH3P</th>\n",
              "      <th>SCH4P</th>\n",
              "      <th>SCH5P</th>\n",
              "      <th>SCH6P</th>\n",
              "      <th>SCH7P</th>\n",
              "      <th>SCH9P</th>\n",
              "      <th>SCHTOTP</th>\n",
              "      <th>SCH1M</th>\n",
              "      <th>SCH2M</th>\n",
              "      <th>SCH3M</th>\n",
              "      <th>...</th>\n",
              "      <th>ENRE36</th>\n",
              "      <th>ENRE37</th>\n",
              "      <th>ENRE41</th>\n",
              "      <th>ENRE42</th>\n",
              "      <th>ENRE43</th>\n",
              "      <th>ENRE44</th>\n",
              "      <th>ENRE45</th>\n",
              "      <th>ENRE46</th>\n",
              "      <th>ENRE47</th>\n",
              "      <th>ENRE51</th>\n",
              "      <th>ENRE52</th>\n",
              "      <th>ENRE53</th>\n",
              "      <th>ENRE54</th>\n",
              "      <th>ENRE55</th>\n",
              "      <th>ENRE56</th>\n",
              "      <th>ENRE57</th>\n",
              "      <th>PTXT_ALL</th>\n",
              "      <th>PTXT_SC</th>\n",
              "      <th>PTXT_ST</th>\n",
              "      <th>PUNI_ALL</th>\n",
              "      <th>PUNI_SC</th>\n",
              "      <th>PUNI_ST</th>\n",
              "      <th>UTXT_ALL</th>\n",
              "      <th>UTXT_SC</th>\n",
              "      <th>UTXT_ST</th>\n",
              "      <th>UUNI_ALL</th>\n",
              "      <th>UUNI_SC</th>\n",
              "      <th>UUNI_ST</th>\n",
              "      <th>TCH_5556M</th>\n",
              "      <th>TCH_5556F</th>\n",
              "      <th>TCH_5556T</th>\n",
              "      <th>TCH_5758M</th>\n",
              "      <th>TCH_5758F</th>\n",
              "      <th>TCH_5758T</th>\n",
              "      <th>TCH_5960M</th>\n",
              "      <th>TCH_5960F</th>\n",
              "      <th>TCH_5960T</th>\n",
              "      <th>PPTR30</th>\n",
              "      <th>UPTR35</th>\n",
              "      <th>PSCR30</th>\n",
              "      <th>USCR35</th>\n",
              "      <th>NOTCH_ASS</th>\n",
              "      <th>TCHINV</th>\n",
              "      <th>TOTCLS1G</th>\n",
              "      <th>TOTCLS2G</th>\n",
              "      <th>TOTCLS3G</th>\n",
              "      <th>TOTCLS4G</th>\n",
              "      <th>TOTCLS5G</th>\n",
              "      <th>TOTCLS6G</th>\n",
              "      <th>TOTCLS7G</th>\n",
              "    </tr>\n",
              "  </thead>\n",
              "  <tbody>\n",
              "    <tr>\n",
              "      <th>12</th>\n",
              "      <td>2015-16</td>\n",
              "      <td>13</td>\n",
              "      <td>NAGALAND</td>\n",
              "      <td>11</td>\n",
              "      <td>47</td>\n",
              "      <td>1478</td>\n",
              "      <td>125</td>\n",
              "      <td>1981</td>\n",
              "      <td>17.31</td>\n",
              "      <td>14.44</td>\n",
              "      <td>-0.47</td>\n",
              "      <td>931</td>\n",
              "      <td>0.0</td>\n",
              "      <td>86.5</td>\n",
              "      <td>80.11</td>\n",
              "      <td>76.69</td>\n",
              "      <td>83.29</td>\n",
              "      <td>16579</td>\n",
              "      <td>239278</td>\n",
              "      <td>109124</td>\n",
              "      <td>1265</td>\n",
              "      <td>786</td>\n",
              "      <td>105</td>\n",
              "      <td>39</td>\n",
              "      <td>46</td>\n",
              "      <td>379</td>\n",
              "      <td>179</td>\n",
              "      <td>0</td>\n",
              "      <td>2799</td>\n",
              "      <td>1146</td>\n",
              "      <td>590</td>\n",
              "      <td>6</td>\n",
              "      <td>39</td>\n",
              "      <td>44</td>\n",
              "      <td>89</td>\n",
              "      <td>178</td>\n",
              "      <td>0</td>\n",
              "      <td>2092</td>\n",
              "      <td>119</td>\n",
              "      <td>196</td>\n",
              "      <td>99</td>\n",
              "      <td>0</td>\n",
              "      <td>2</td>\n",
              "      <td>290</td>\n",
              "      <td>1</td>\n",
              "      <td>0</td>\n",
              "      <td>707</td>\n",
              "      <td>0</td>\n",
              "      <td>0</td>\n",
              "      <td>0</td>\n",
              "      <td>...</td>\n",
              "      <td>0</td>\n",
              "      <td>0</td>\n",
              "      <td>0</td>\n",
              "      <td>0</td>\n",
              "      <td>0</td>\n",
              "      <td>0</td>\n",
              "      <td>0</td>\n",
              "      <td>0</td>\n",
              "      <td>0</td>\n",
              "      <td>0</td>\n",
              "      <td>0</td>\n",
              "      <td>0</td>\n",
              "      <td>0</td>\n",
              "      <td>0</td>\n",
              "      <td>0</td>\n",
              "      <td>0</td>\n",
              "      <td>99732</td>\n",
              "      <td>2681</td>\n",
              "      <td>85107</td>\n",
              "      <td>68640</td>\n",
              "      <td>1750</td>\n",
              "      <td>59382</td>\n",
              "      <td>45644</td>\n",
              "      <td>1016</td>\n",
              "      <td>41344</td>\n",
              "      <td>34337</td>\n",
              "      <td>620</td>\n",
              "      <td>31944</td>\n",
              "      <td>229</td>\n",
              "      <td>70</td>\n",
              "      <td>299</td>\n",
              "      <td>93</td>\n",
              "      <td>28</td>\n",
              "      <td>121</td>\n",
              "      <td>6</td>\n",
              "      <td>4</td>\n",
              "      <td>10</td>\n",
              "      <td>93</td>\n",
              "      <td>13</td>\n",
              "      <td>315</td>\n",
              "      <td>233</td>\n",
              "      <td>21056</td>\n",
              "      <td>1454</td>\n",
              "      <td>6588</td>\n",
              "      <td>6152</td>\n",
              "      <td>1772</td>\n",
              "      <td>167</td>\n",
              "      <td>256</td>\n",
              "      <td>3639</td>\n",
              "      <td>781</td>\n",
              "    </tr>\n",
              "  </tbody>\n",
              "</table>\n",
              "<p>1 rows × 816 columns</p>\n",
              "</div>"
            ],
            "text/plain": [
              "    AC_YEAR  STATCD  STATNAME  DISTRICTS  BLOCKS  VILLAGES  CLUSTERS  \\\n",
              "12  2015-16      13  NAGALAND         11      47      1478       125   \n",
              "\n",
              "    TOTPOPULAT  P_URB_POP  POPULATION_0_6  GROWTHRATE  SEXRATIO  P_SC_POP  \\\n",
              "12        1981      17.31           14.44       -0.47       931       0.0   \n",
              "\n",
              "    P_ST_POP  OVERALL_LI  FEMALE_LIT  MALE_LIT  AREA_SQKM  TOT_6_10_15  \\\n",
              "12      86.5       80.11       76.69     83.29      16579       239278   \n",
              "\n",
              "    TOT_11_13_15  SCH1  SCH2  SCH3  SCH4  SCH5  SCH6  SCH7  SCH9  SCHTOT  \\\n",
              "12        109124  1265   786   105    39    46   379   179     0    2799   \n",
              "\n",
              "    SCH1G  SCH2G  SCH3G  SCH4G  SCH5G  SCH6G  SCH7G  SCH9G  SCHTOTG  SCH1P  \\\n",
              "12   1146    590      6     39     44     89    178      0     2092    119   \n",
              "\n",
              "    SCH2P  SCH3P  SCH4P  SCH5P  SCH6P  SCH7P  SCH9P  SCHTOTP  SCH1M  SCH2M  \\\n",
              "12    196     99      0      2    290      1      0      707      0      0   \n",
              "\n",
              "    SCH3M  ...  ENRE36  ENRE37  ENRE41  ENRE42  ENRE43  ENRE44  ENRE45  \\\n",
              "12      0  ...       0       0       0       0       0       0       0   \n",
              "\n",
              "    ENRE46  ENRE47  ENRE51  ENRE52  ENRE53  ENRE54  ENRE55  ENRE56  ENRE57  \\\n",
              "12       0       0       0       0       0       0       0       0       0   \n",
              "\n",
              "    PTXT_ALL  PTXT_SC  PTXT_ST  PUNI_ALL  PUNI_SC  PUNI_ST  UTXT_ALL  UTXT_SC  \\\n",
              "12     99732     2681    85107     68640     1750    59382     45644     1016   \n",
              "\n",
              "    UTXT_ST  UUNI_ALL  UUNI_SC  UUNI_ST  TCH_5556M  TCH_5556F  TCH_5556T  \\\n",
              "12    41344     34337      620    31944        229         70        299   \n",
              "\n",
              "    TCH_5758M  TCH_5758F  TCH_5758T  TCH_5960M  TCH_5960F  TCH_5960T  PPTR30  \\\n",
              "12         93         28        121          6          4         10      93   \n",
              "\n",
              "    UPTR35  PSCR30  USCR35  NOTCH_ASS  TCHINV  TOTCLS1G  TOTCLS2G  TOTCLS3G  \\\n",
              "12      13     315     233      21056    1454      6588      6152      1772   \n",
              "\n",
              "    TOTCLS4G  TOTCLS5G  TOTCLS6G  TOTCLS7G  \n",
              "12       167       256      3639       781  \n",
              "\n",
              "[1 rows x 816 columns]"
            ]
          },
          "metadata": {
            "tags": []
          },
          "execution_count": 22
        }
      ]
    },
    {
      "cell_type": "markdown",
      "metadata": {
        "id": "M2JgHWFxCv_a"
      },
      "source": [
        "Here we see that Nagaland is only state had a negative growth rate for 2015-16"
      ]
    },
    {
      "cell_type": "code",
      "metadata": {
        "colab": {
          "base_uri": "https://localhost:8080/"
        },
        "id": "BIJ4AoqaCv_c",
        "outputId": "36d850a3-2172-4850-dbf0-4504d5724a49"
      },
      "source": [
        "# difference between male and female literacy rates for each state\n",
        "(dataset.MALE_LIT - dataset.FEMALE_LIT).describe()"
      ],
      "execution_count": null,
      "outputs": [
        {
          "output_type": "execute_result",
          "data": {
            "text/plain": [
              "count    36.000000\n",
              "mean     13.893611\n",
              "std       5.679685\n",
              "min       3.390000\n",
              "25%      10.130000\n",
              "50%      13.720000\n",
              "75%      18.182500\n",
              "max      27.850000\n",
              "dtype: float64"
            ]
          },
          "metadata": {
            "tags": []
          },
          "execution_count": 23
        }
      ]
    },
    {
      "cell_type": "markdown",
      "metadata": {
        "id": "tj1QChrkCv_e"
      },
      "source": [
        "The standard deviation is pretty large for this and we see that that 50% of the states have difference in male and female literacy rate as more than 13.72 which to me, seems pretty high !"
      ]
    },
    {
      "cell_type": "markdown",
      "metadata": {
        "id": "tnny2euKCv_f"
      },
      "source": [
        "### Total population of every state"
      ]
    },
    {
      "cell_type": "code",
      "metadata": {
        "colab": {
          "base_uri": "https://localhost:8080/",
          "height": 542
        },
        "id": "k52dI25vCv_f",
        "outputId": "a1f6ae08-03b8-426a-cedf-d25eed926b92"
      },
      "source": [
        "labels = dataset['STATNAME'].values\n",
        "values = dataset['TOTPOPULAT'].values\n",
        "\n",
        "trace = go.Pie(labels=labels, values=values)\n",
        "layout = go.Layout(title='TOTAL POPULATION PERCENTAGE OF ALL STATES')\n",
        "fig = go.Figure(data=[trace], layout=layout)\n",
        "\n",
        "iplot(fig)"
      ],
      "execution_count": null,
      "outputs": [
        {
          "output_type": "display_data",
          "data": {
            "text/html": [
              "<html>\n",
              "<head><meta charset=\"utf-8\" /></head>\n",
              "<body>\n",
              "    <div>\n",
              "            <script src=\"https://cdnjs.cloudflare.com/ajax/libs/mathjax/2.7.5/MathJax.js?config=TeX-AMS-MML_SVG\"></script><script type=\"text/javascript\">if (window.MathJax) {MathJax.Hub.Config({SVG: {font: \"STIX-Web\"}});}</script>\n",
              "                <script type=\"text/javascript\">window.PlotlyConfig = {MathJaxConfig: 'local'};</script>\n",
              "        <script src=\"https://cdn.plot.ly/plotly-latest.min.js\"></script>    \n",
              "            <div id=\"b9651ed2-bef5-44c4-878d-119b55c0cf05\" class=\"plotly-graph-div\" style=\"height:525px; width:100%;\"></div>\n",
              "            <script type=\"text/javascript\">\n",
              "                \n",
              "                    window.PLOTLYENV=window.PLOTLYENV || {};\n",
              "                    \n",
              "                if (document.getElementById(\"b9651ed2-bef5-44c4-878d-119b55c0cf05\")) {\n",
              "                    Plotly.newPlot(\n",
              "                        'b9651ed2-bef5-44c4-878d-119b55c0cf05',\n",
              "                        [{\"labels\": [\"JAMMU & KASHMIR\", \"HIMACHAL PRADESH\", \"PUNJAB\", \"CHANDIGARH\", \"UTTARAKHAND\", \"HARYANA\", \"DELHI\", \"RAJASTHAN\", \"UTTAR PRADESH\", \"BIHAR\", \"SIKKIM\", \"ARUNACHAL PRADESH\", \"NAGALAND\", \"MANIPUR\", \"MIZORAM\", \"TRIPURA\", \"MEGHALAYA\", \"ASSAM\", \"WEST BENGAL\", \"JHARKHAND\", \"ODISHA\", \"CHHATTISGARH\", \"MADHYA PRADESH\", \"GUJARAT\", \"DAMAN & DIU\", \"DADRA & NAGAR HAVELI\", \"MAHARASHTRA\", \"ANDHRA PRADESH\", \"KARNATAKA\", \"GOA\", \"LAKSHADWEEP\", \"KERALA\", \"TAMIL NADU\", \"PUDUCHERRY\", \"A & N ISLANDS\", \"TELANGANA\"], \"type\": \"pie\", \"values\": [12549, 6857, 27704, 1055, 10117, 25353, 16753, 68621, 199581, 103805, 608, 1383, 1981, 2722, 1091, 3671, 2964, 31169, 991348, 32966, 41947, 25540, 72598, 60384, 243, 343, 112373, 84666, 61131, 1458, 64, 33388, 72139, 1244, 380, 352]}],\n",
              "                        {\"template\": {\"data\": {\"bar\": [{\"error_x\": {\"color\": \"#2a3f5f\"}, \"error_y\": {\"color\": \"#2a3f5f\"}, \"marker\": {\"line\": {\"color\": \"#E5ECF6\", \"width\": 0.5}}, \"type\": \"bar\"}], \"barpolar\": [{\"marker\": {\"line\": {\"color\": \"#E5ECF6\", \"width\": 0.5}}, \"type\": \"barpolar\"}], \"carpet\": [{\"aaxis\": {\"endlinecolor\": \"#2a3f5f\", \"gridcolor\": \"white\", \"linecolor\": \"white\", \"minorgridcolor\": \"white\", \"startlinecolor\": \"#2a3f5f\"}, \"baxis\": {\"endlinecolor\": \"#2a3f5f\", \"gridcolor\": \"white\", \"linecolor\": \"white\", \"minorgridcolor\": \"white\", \"startlinecolor\": \"#2a3f5f\"}, \"type\": \"carpet\"}], \"choropleth\": [{\"colorbar\": {\"outlinewidth\": 0, \"ticks\": \"\"}, \"type\": \"choropleth\"}], \"contour\": [{\"colorbar\": {\"outlinewidth\": 0, \"ticks\": \"\"}, \"colorscale\": [[0.0, \"#0d0887\"], [0.1111111111111111, \"#46039f\"], [0.2222222222222222, \"#7201a8\"], [0.3333333333333333, \"#9c179e\"], [0.4444444444444444, \"#bd3786\"], [0.5555555555555556, \"#d8576b\"], [0.6666666666666666, \"#ed7953\"], [0.7777777777777778, \"#fb9f3a\"], [0.8888888888888888, \"#fdca26\"], [1.0, \"#f0f921\"]], \"type\": \"contour\"}], \"contourcarpet\": [{\"colorbar\": {\"outlinewidth\": 0, \"ticks\": \"\"}, \"type\": \"contourcarpet\"}], \"heatmap\": [{\"colorbar\": {\"outlinewidth\": 0, \"ticks\": \"\"}, \"colorscale\": [[0.0, \"#0d0887\"], [0.1111111111111111, \"#46039f\"], [0.2222222222222222, \"#7201a8\"], [0.3333333333333333, \"#9c179e\"], [0.4444444444444444, \"#bd3786\"], [0.5555555555555556, \"#d8576b\"], [0.6666666666666666, \"#ed7953\"], [0.7777777777777778, \"#fb9f3a\"], [0.8888888888888888, \"#fdca26\"], [1.0, \"#f0f921\"]], \"type\": \"heatmap\"}], \"heatmapgl\": [{\"colorbar\": {\"outlinewidth\": 0, \"ticks\": \"\"}, \"colorscale\": [[0.0, \"#0d0887\"], [0.1111111111111111, \"#46039f\"], [0.2222222222222222, \"#7201a8\"], [0.3333333333333333, \"#9c179e\"], [0.4444444444444444, \"#bd3786\"], [0.5555555555555556, \"#d8576b\"], [0.6666666666666666, \"#ed7953\"], [0.7777777777777778, \"#fb9f3a\"], [0.8888888888888888, \"#fdca26\"], [1.0, \"#f0f921\"]], \"type\": \"heatmapgl\"}], \"histogram\": [{\"marker\": {\"colorbar\": {\"outlinewidth\": 0, \"ticks\": \"\"}}, \"type\": \"histogram\"}], \"histogram2d\": [{\"colorbar\": {\"outlinewidth\": 0, \"ticks\": \"\"}, \"colorscale\": [[0.0, \"#0d0887\"], [0.1111111111111111, \"#46039f\"], [0.2222222222222222, \"#7201a8\"], [0.3333333333333333, \"#9c179e\"], [0.4444444444444444, \"#bd3786\"], [0.5555555555555556, \"#d8576b\"], [0.6666666666666666, \"#ed7953\"], [0.7777777777777778, \"#fb9f3a\"], [0.8888888888888888, \"#fdca26\"], [1.0, \"#f0f921\"]], \"type\": \"histogram2d\"}], \"histogram2dcontour\": [{\"colorbar\": {\"outlinewidth\": 0, \"ticks\": \"\"}, \"colorscale\": [[0.0, \"#0d0887\"], [0.1111111111111111, \"#46039f\"], [0.2222222222222222, \"#7201a8\"], [0.3333333333333333, \"#9c179e\"], [0.4444444444444444, \"#bd3786\"], [0.5555555555555556, \"#d8576b\"], [0.6666666666666666, \"#ed7953\"], [0.7777777777777778, \"#fb9f3a\"], [0.8888888888888888, \"#fdca26\"], [1.0, \"#f0f921\"]], \"type\": \"histogram2dcontour\"}], \"mesh3d\": [{\"colorbar\": {\"outlinewidth\": 0, \"ticks\": \"\"}, \"type\": \"mesh3d\"}], \"parcoords\": [{\"line\": {\"colorbar\": {\"outlinewidth\": 0, \"ticks\": \"\"}}, \"type\": \"parcoords\"}], \"pie\": [{\"automargin\": true, \"type\": \"pie\"}], \"scatter\": [{\"marker\": {\"colorbar\": {\"outlinewidth\": 0, \"ticks\": \"\"}}, \"type\": \"scatter\"}], \"scatter3d\": [{\"line\": {\"colorbar\": {\"outlinewidth\": 0, \"ticks\": \"\"}}, \"marker\": {\"colorbar\": {\"outlinewidth\": 0, \"ticks\": \"\"}}, \"type\": \"scatter3d\"}], \"scattercarpet\": [{\"marker\": {\"colorbar\": {\"outlinewidth\": 0, \"ticks\": \"\"}}, \"type\": \"scattercarpet\"}], \"scattergeo\": [{\"marker\": {\"colorbar\": {\"outlinewidth\": 0, \"ticks\": \"\"}}, \"type\": \"scattergeo\"}], \"scattergl\": [{\"marker\": {\"colorbar\": {\"outlinewidth\": 0, \"ticks\": \"\"}}, \"type\": \"scattergl\"}], \"scattermapbox\": [{\"marker\": {\"colorbar\": {\"outlinewidth\": 0, \"ticks\": \"\"}}, \"type\": \"scattermapbox\"}], \"scatterpolar\": [{\"marker\": {\"colorbar\": {\"outlinewidth\": 0, \"ticks\": \"\"}}, \"type\": \"scatterpolar\"}], \"scatterpolargl\": [{\"marker\": {\"colorbar\": {\"outlinewidth\": 0, \"ticks\": \"\"}}, \"type\": \"scatterpolargl\"}], \"scatterternary\": [{\"marker\": {\"colorbar\": {\"outlinewidth\": 0, \"ticks\": \"\"}}, \"type\": \"scatterternary\"}], \"surface\": [{\"colorbar\": {\"outlinewidth\": 0, \"ticks\": \"\"}, \"colorscale\": [[0.0, \"#0d0887\"], [0.1111111111111111, \"#46039f\"], [0.2222222222222222, \"#7201a8\"], [0.3333333333333333, \"#9c179e\"], [0.4444444444444444, \"#bd3786\"], [0.5555555555555556, \"#d8576b\"], [0.6666666666666666, \"#ed7953\"], [0.7777777777777778, \"#fb9f3a\"], [0.8888888888888888, \"#fdca26\"], [1.0, \"#f0f921\"]], \"type\": \"surface\"}], \"table\": [{\"cells\": {\"fill\": {\"color\": \"#EBF0F8\"}, \"line\": {\"color\": \"white\"}}, \"header\": {\"fill\": {\"color\": \"#C8D4E3\"}, \"line\": {\"color\": \"white\"}}, \"type\": \"table\"}]}, \"layout\": {\"annotationdefaults\": {\"arrowcolor\": \"#2a3f5f\", \"arrowhead\": 0, \"arrowwidth\": 1}, \"coloraxis\": {\"colorbar\": {\"outlinewidth\": 0, \"ticks\": \"\"}}, \"colorscale\": {\"diverging\": [[0, \"#8e0152\"], [0.1, \"#c51b7d\"], [0.2, \"#de77ae\"], [0.3, \"#f1b6da\"], [0.4, \"#fde0ef\"], [0.5, \"#f7f7f7\"], [0.6, \"#e6f5d0\"], [0.7, \"#b8e186\"], [0.8, \"#7fbc41\"], [0.9, \"#4d9221\"], [1, \"#276419\"]], \"sequential\": [[0.0, \"#0d0887\"], [0.1111111111111111, \"#46039f\"], [0.2222222222222222, \"#7201a8\"], [0.3333333333333333, \"#9c179e\"], [0.4444444444444444, \"#bd3786\"], [0.5555555555555556, \"#d8576b\"], [0.6666666666666666, \"#ed7953\"], [0.7777777777777778, \"#fb9f3a\"], [0.8888888888888888, \"#fdca26\"], [1.0, \"#f0f921\"]], \"sequentialminus\": [[0.0, \"#0d0887\"], [0.1111111111111111, \"#46039f\"], [0.2222222222222222, \"#7201a8\"], [0.3333333333333333, \"#9c179e\"], [0.4444444444444444, \"#bd3786\"], [0.5555555555555556, \"#d8576b\"], [0.6666666666666666, \"#ed7953\"], [0.7777777777777778, \"#fb9f3a\"], [0.8888888888888888, \"#fdca26\"], [1.0, \"#f0f921\"]]}, \"colorway\": [\"#636efa\", \"#EF553B\", \"#00cc96\", \"#ab63fa\", \"#FFA15A\", \"#19d3f3\", \"#FF6692\", \"#B6E880\", \"#FF97FF\", \"#FECB52\"], \"font\": {\"color\": \"#2a3f5f\"}, \"geo\": {\"bgcolor\": \"white\", \"lakecolor\": \"white\", \"landcolor\": \"#E5ECF6\", \"showlakes\": true, \"showland\": true, \"subunitcolor\": \"white\"}, \"hoverlabel\": {\"align\": \"left\"}, \"hovermode\": \"closest\", \"mapbox\": {\"style\": \"light\"}, \"paper_bgcolor\": \"white\", \"plot_bgcolor\": \"#E5ECF6\", \"polar\": {\"angularaxis\": {\"gridcolor\": \"white\", \"linecolor\": \"white\", \"ticks\": \"\"}, \"bgcolor\": \"#E5ECF6\", \"radialaxis\": {\"gridcolor\": \"white\", \"linecolor\": \"white\", \"ticks\": \"\"}}, \"scene\": {\"xaxis\": {\"backgroundcolor\": \"#E5ECF6\", \"gridcolor\": \"white\", \"gridwidth\": 2, \"linecolor\": \"white\", \"showbackground\": true, \"ticks\": \"\", \"zerolinecolor\": \"white\"}, \"yaxis\": {\"backgroundcolor\": \"#E5ECF6\", \"gridcolor\": \"white\", \"gridwidth\": 2, \"linecolor\": \"white\", \"showbackground\": true, \"ticks\": \"\", \"zerolinecolor\": \"white\"}, \"zaxis\": {\"backgroundcolor\": \"#E5ECF6\", \"gridcolor\": \"white\", \"gridwidth\": 2, \"linecolor\": \"white\", \"showbackground\": true, \"ticks\": \"\", \"zerolinecolor\": \"white\"}}, \"shapedefaults\": {\"line\": {\"color\": \"#2a3f5f\"}}, \"ternary\": {\"aaxis\": {\"gridcolor\": \"white\", \"linecolor\": \"white\", \"ticks\": \"\"}, \"baxis\": {\"gridcolor\": \"white\", \"linecolor\": \"white\", \"ticks\": \"\"}, \"bgcolor\": \"#E5ECF6\", \"caxis\": {\"gridcolor\": \"white\", \"linecolor\": \"white\", \"ticks\": \"\"}}, \"title\": {\"x\": 0.05}, \"xaxis\": {\"automargin\": true, \"gridcolor\": \"white\", \"linecolor\": \"white\", \"ticks\": \"\", \"title\": {\"standoff\": 15}, \"zerolinecolor\": \"white\", \"zerolinewidth\": 2}, \"yaxis\": {\"automargin\": true, \"gridcolor\": \"white\", \"linecolor\": \"white\", \"ticks\": \"\", \"title\": {\"standoff\": 15}, \"zerolinecolor\": \"white\", \"zerolinewidth\": 2}}}, \"title\": {\"text\": \"TOTAL POPULATION PERCENTAGE OF ALL STATES\"}},\n",
              "                        {\"responsive\": true}\n",
              "                    ).then(function(){\n",
              "                            \n",
              "var gd = document.getElementById('b9651ed2-bef5-44c4-878d-119b55c0cf05');\n",
              "var x = new MutationObserver(function (mutations, observer) {{\n",
              "        var display = window.getComputedStyle(gd).display;\n",
              "        if (!display || display === 'none') {{\n",
              "            console.log([gd, 'removed!']);\n",
              "            Plotly.purge(gd);\n",
              "            observer.disconnect();\n",
              "        }}\n",
              "}});\n",
              "\n",
              "// Listen for the removal of the full notebook cells\n",
              "var notebookContainer = gd.closest('#notebook-container');\n",
              "if (notebookContainer) {{\n",
              "    x.observe(notebookContainer, {childList: true});\n",
              "}}\n",
              "\n",
              "// Listen for the clearing of the current output cell\n",
              "var outputEl = gd.closest('.output');\n",
              "if (outputEl) {{\n",
              "    x.observe(outputEl, {childList: true});\n",
              "}}\n",
              "\n",
              "                        })\n",
              "                };\n",
              "                \n",
              "            </script>\n",
              "        </div>\n",
              "</body>\n",
              "</html>"
            ]
          },
          "metadata": {
            "tags": []
          }
        }
      ]
    },
    {
      "cell_type": "markdown",
      "metadata": {
        "id": "tqRYF2cBCv_g"
      },
      "source": [
        "* Defining functions for further use"
      ]
    },
    {
      "cell_type": "code",
      "metadata": {
        "id": "sNq8Mj1DCv_h"
      },
      "source": [
        "def sort_vals(df,col):\n",
        "    '''\n",
        "    sorts values according to the column provided in ascending order and returns a dataframe with \n",
        "    index reset\n",
        "    \n",
        "    INPUT:\n",
        "    df - dataframe to be sorted\n",
        "    col - column to be sorted on\n",
        "    \n",
        "    OUTPUT:\n",
        "    df_new - sorted dataframe with index reset\n",
        "    \n",
        "    '''\n",
        "    df_new = df.sort_values(by = col)\n",
        "    df_new.reset_index().drop('index', axis = 1, inplace = True)\n",
        "    return df_new"
      ],
      "execution_count": null,
      "outputs": []
    },
    {
      "cell_type": "code",
      "metadata": {
        "id": "Og-iAdSjCv_i"
      },
      "source": [
        "def display_heading(row):\n",
        "    '''\n",
        "    Displays the full string in the description column of the meta elementary dataset\n",
        "    \n",
        "    INPUT:\n",
        "    row - (str) value of the field name you want the description for\n",
        "    \n",
        "    '''\n",
        "    return headings[headings['Field name'] == row].Description.values[0]"
      ],
      "execution_count": null,
      "outputs": []
    },
    {
      "cell_type": "markdown",
      "metadata": {
        "id": "jAykGJHHCv_i"
      },
      "source": [
        "## Let's go onto answer our questions now that we have got some insights about our data."
      ]
    },
    {
      "cell_type": "markdown",
      "metadata": {
        "id": "5HP_XwFICv_l"
      },
      "source": [
        "## 1. Which states have the highest and lowest literacy rates ? "
      ]
    },
    {
      "cell_type": "code",
      "metadata": {
        "colab": {
          "base_uri": "https://localhost:8080/",
          "height": 542
        },
        "id": "MxlSLsVfCv_m",
        "outputId": "6d8b4d1a-1a89-4409-a69f-c9f5088772fc"
      },
      "source": [
        "trace1 = go.Scatter(\n",
        "        x = dataset.STATNAME,\n",
        "        y = dataset.OVERALL_LI,\n",
        "        mode = \"lines+markers\",\n",
        ")\n",
        "\n",
        "# Edit the layout\n",
        "layout = dict(title = 'Statewise literacy rate in India',\n",
        "                      xaxis= dict(\n",
        "                          ticklen= 3,\n",
        "                          tickangle=90,\n",
        "                          zeroline= False,\n",
        "                          title = 'States'),\n",
        "\n",
        "                      yaxis=dict(\n",
        "                            title='Statewise literacy rate (in %)'\n",
        "                        )\n",
        "                     )\n",
        "fig = go.Figure(trace1, layout=layout, )\n",
        "iplot(fig)"
      ],
      "execution_count": null,
      "outputs": [
        {
          "output_type": "display_data",
          "data": {
            "text/html": [
              "<html>\n",
              "<head><meta charset=\"utf-8\" /></head>\n",
              "<body>\n",
              "    <div>\n",
              "            <script src=\"https://cdnjs.cloudflare.com/ajax/libs/mathjax/2.7.5/MathJax.js?config=TeX-AMS-MML_SVG\"></script><script type=\"text/javascript\">if (window.MathJax) {MathJax.Hub.Config({SVG: {font: \"STIX-Web\"}});}</script>\n",
              "                <script type=\"text/javascript\">window.PlotlyConfig = {MathJaxConfig: 'local'};</script>\n",
              "        <script src=\"https://cdn.plot.ly/plotly-latest.min.js\"></script>    \n",
              "            <div id=\"f8c0d624-59e0-4ce9-a530-f5af71884f30\" class=\"plotly-graph-div\" style=\"height:525px; width:100%;\"></div>\n",
              "            <script type=\"text/javascript\">\n",
              "                \n",
              "                    window.PLOTLYENV=window.PLOTLYENV || {};\n",
              "                    \n",
              "                if (document.getElementById(\"f8c0d624-59e0-4ce9-a530-f5af71884f30\")) {\n",
              "                    Plotly.newPlot(\n",
              "                        'f8c0d624-59e0-4ce9-a530-f5af71884f30',\n",
              "                        [{\"mode\": \"lines+markers\", \"type\": \"scatter\", \"x\": [\"JAMMU & KASHMIR\", \"HIMACHAL PRADESH\", \"PUNJAB\", \"CHANDIGARH\", \"UTTARAKHAND\", \"HARYANA\", \"DELHI\", \"RAJASTHAN\", \"UTTAR PRADESH\", \"BIHAR\", \"SIKKIM\", \"ARUNACHAL PRADESH\", \"NAGALAND\", \"MANIPUR\", \"MIZORAM\", \"TRIPURA\", \"MEGHALAYA\", \"ASSAM\", \"WEST BENGAL\", \"JHARKHAND\", \"ODISHA\", \"CHHATTISGARH\", \"MADHYA PRADESH\", \"GUJARAT\", \"DAMAN & DIU\", \"DADRA & NAGAR HAVELI\", \"MAHARASHTRA\", \"ANDHRA PRADESH\", \"KARNATAKA\", \"GOA\", \"LAKSHADWEEP\", \"KERALA\", \"TAMIL NADU\", \"PUDUCHERRY\", \"A & N ISLANDS\", \"TELANGANA\"], \"y\": [68.74, 83.78, 76.68, 86.43, 79.63, 76.64, 86.34, 67.06, 69.72, 63.82, 82.2, 66.95, 80.11, 79.85, 91.58, 87.75, 75.48, 73.18, 77.08, 67.63, 73.45, 71.04, 70.63, 79.31, 87.07, 77.65, 82.91, 67.66, 75.6, 87.4, 92.28, 93.91, 80.3, 86.55, 86.27, 66.46]}],\n",
              "                        {\"template\": {\"data\": {\"bar\": [{\"error_x\": {\"color\": \"#2a3f5f\"}, \"error_y\": {\"color\": \"#2a3f5f\"}, \"marker\": {\"line\": {\"color\": \"#E5ECF6\", \"width\": 0.5}}, \"type\": \"bar\"}], \"barpolar\": [{\"marker\": {\"line\": {\"color\": \"#E5ECF6\", \"width\": 0.5}}, \"type\": \"barpolar\"}], \"carpet\": [{\"aaxis\": {\"endlinecolor\": \"#2a3f5f\", \"gridcolor\": \"white\", \"linecolor\": \"white\", \"minorgridcolor\": \"white\", \"startlinecolor\": \"#2a3f5f\"}, \"baxis\": {\"endlinecolor\": \"#2a3f5f\", \"gridcolor\": \"white\", \"linecolor\": \"white\", \"minorgridcolor\": \"white\", \"startlinecolor\": \"#2a3f5f\"}, \"type\": \"carpet\"}], \"choropleth\": [{\"colorbar\": {\"outlinewidth\": 0, \"ticks\": \"\"}, \"type\": \"choropleth\"}], \"contour\": [{\"colorbar\": {\"outlinewidth\": 0, \"ticks\": \"\"}, \"colorscale\": [[0.0, \"#0d0887\"], [0.1111111111111111, \"#46039f\"], [0.2222222222222222, \"#7201a8\"], [0.3333333333333333, \"#9c179e\"], [0.4444444444444444, \"#bd3786\"], [0.5555555555555556, \"#d8576b\"], [0.6666666666666666, \"#ed7953\"], [0.7777777777777778, \"#fb9f3a\"], [0.8888888888888888, \"#fdca26\"], [1.0, \"#f0f921\"]], \"type\": \"contour\"}], \"contourcarpet\": [{\"colorbar\": {\"outlinewidth\": 0, \"ticks\": \"\"}, \"type\": \"contourcarpet\"}], \"heatmap\": [{\"colorbar\": {\"outlinewidth\": 0, \"ticks\": \"\"}, \"colorscale\": [[0.0, \"#0d0887\"], [0.1111111111111111, \"#46039f\"], [0.2222222222222222, \"#7201a8\"], [0.3333333333333333, \"#9c179e\"], [0.4444444444444444, \"#bd3786\"], [0.5555555555555556, \"#d8576b\"], [0.6666666666666666, \"#ed7953\"], [0.7777777777777778, \"#fb9f3a\"], [0.8888888888888888, \"#fdca26\"], [1.0, \"#f0f921\"]], \"type\": \"heatmap\"}], \"heatmapgl\": [{\"colorbar\": {\"outlinewidth\": 0, \"ticks\": \"\"}, \"colorscale\": [[0.0, \"#0d0887\"], [0.1111111111111111, \"#46039f\"], [0.2222222222222222, \"#7201a8\"], [0.3333333333333333, \"#9c179e\"], [0.4444444444444444, \"#bd3786\"], [0.5555555555555556, \"#d8576b\"], [0.6666666666666666, \"#ed7953\"], [0.7777777777777778, \"#fb9f3a\"], [0.8888888888888888, \"#fdca26\"], [1.0, \"#f0f921\"]], \"type\": \"heatmapgl\"}], \"histogram\": [{\"marker\": {\"colorbar\": {\"outlinewidth\": 0, \"ticks\": \"\"}}, \"type\": \"histogram\"}], \"histogram2d\": [{\"colorbar\": {\"outlinewidth\": 0, \"ticks\": \"\"}, \"colorscale\": [[0.0, \"#0d0887\"], [0.1111111111111111, \"#46039f\"], [0.2222222222222222, \"#7201a8\"], [0.3333333333333333, \"#9c179e\"], [0.4444444444444444, \"#bd3786\"], [0.5555555555555556, \"#d8576b\"], [0.6666666666666666, \"#ed7953\"], [0.7777777777777778, \"#fb9f3a\"], [0.8888888888888888, \"#fdca26\"], [1.0, \"#f0f921\"]], \"type\": \"histogram2d\"}], \"histogram2dcontour\": [{\"colorbar\": {\"outlinewidth\": 0, \"ticks\": \"\"}, \"colorscale\": [[0.0, \"#0d0887\"], [0.1111111111111111, \"#46039f\"], [0.2222222222222222, \"#7201a8\"], [0.3333333333333333, \"#9c179e\"], [0.4444444444444444, \"#bd3786\"], [0.5555555555555556, \"#d8576b\"], [0.6666666666666666, \"#ed7953\"], [0.7777777777777778, \"#fb9f3a\"], [0.8888888888888888, \"#fdca26\"], [1.0, \"#f0f921\"]], \"type\": \"histogram2dcontour\"}], \"mesh3d\": [{\"colorbar\": {\"outlinewidth\": 0, \"ticks\": \"\"}, \"type\": \"mesh3d\"}], \"parcoords\": [{\"line\": {\"colorbar\": {\"outlinewidth\": 0, \"ticks\": \"\"}}, \"type\": \"parcoords\"}], \"pie\": [{\"automargin\": true, \"type\": \"pie\"}], \"scatter\": [{\"marker\": {\"colorbar\": {\"outlinewidth\": 0, \"ticks\": \"\"}}, \"type\": \"scatter\"}], \"scatter3d\": [{\"line\": {\"colorbar\": {\"outlinewidth\": 0, \"ticks\": \"\"}}, \"marker\": {\"colorbar\": {\"outlinewidth\": 0, \"ticks\": \"\"}}, \"type\": \"scatter3d\"}], \"scattercarpet\": [{\"marker\": {\"colorbar\": {\"outlinewidth\": 0, \"ticks\": \"\"}}, \"type\": \"scattercarpet\"}], \"scattergeo\": [{\"marker\": {\"colorbar\": {\"outlinewidth\": 0, \"ticks\": \"\"}}, \"type\": \"scattergeo\"}], \"scattergl\": [{\"marker\": {\"colorbar\": {\"outlinewidth\": 0, \"ticks\": \"\"}}, \"type\": \"scattergl\"}], \"scattermapbox\": [{\"marker\": {\"colorbar\": {\"outlinewidth\": 0, \"ticks\": \"\"}}, \"type\": \"scattermapbox\"}], \"scatterpolar\": [{\"marker\": {\"colorbar\": {\"outlinewidth\": 0, \"ticks\": \"\"}}, \"type\": \"scatterpolar\"}], \"scatterpolargl\": [{\"marker\": {\"colorbar\": {\"outlinewidth\": 0, \"ticks\": \"\"}}, \"type\": \"scatterpolargl\"}], \"scatterternary\": [{\"marker\": {\"colorbar\": {\"outlinewidth\": 0, \"ticks\": \"\"}}, \"type\": \"scatterternary\"}], \"surface\": [{\"colorbar\": {\"outlinewidth\": 0, \"ticks\": \"\"}, \"colorscale\": [[0.0, \"#0d0887\"], [0.1111111111111111, \"#46039f\"], [0.2222222222222222, \"#7201a8\"], [0.3333333333333333, \"#9c179e\"], [0.4444444444444444, \"#bd3786\"], [0.5555555555555556, \"#d8576b\"], [0.6666666666666666, \"#ed7953\"], [0.7777777777777778, \"#fb9f3a\"], [0.8888888888888888, \"#fdca26\"], [1.0, \"#f0f921\"]], \"type\": \"surface\"}], \"table\": [{\"cells\": {\"fill\": {\"color\": \"#EBF0F8\"}, \"line\": {\"color\": \"white\"}}, \"header\": {\"fill\": {\"color\": \"#C8D4E3\"}, \"line\": {\"color\": \"white\"}}, \"type\": \"table\"}]}, \"layout\": {\"annotationdefaults\": {\"arrowcolor\": \"#2a3f5f\", \"arrowhead\": 0, \"arrowwidth\": 1}, \"coloraxis\": {\"colorbar\": {\"outlinewidth\": 0, \"ticks\": \"\"}}, \"colorscale\": {\"diverging\": [[0, \"#8e0152\"], [0.1, \"#c51b7d\"], [0.2, \"#de77ae\"], [0.3, \"#f1b6da\"], [0.4, \"#fde0ef\"], [0.5, \"#f7f7f7\"], [0.6, \"#e6f5d0\"], [0.7, \"#b8e186\"], [0.8, \"#7fbc41\"], [0.9, \"#4d9221\"], [1, \"#276419\"]], \"sequential\": [[0.0, \"#0d0887\"], [0.1111111111111111, \"#46039f\"], [0.2222222222222222, \"#7201a8\"], [0.3333333333333333, \"#9c179e\"], [0.4444444444444444, \"#bd3786\"], [0.5555555555555556, \"#d8576b\"], [0.6666666666666666, \"#ed7953\"], [0.7777777777777778, \"#fb9f3a\"], [0.8888888888888888, \"#fdca26\"], [1.0, \"#f0f921\"]], \"sequentialminus\": [[0.0, \"#0d0887\"], [0.1111111111111111, \"#46039f\"], [0.2222222222222222, \"#7201a8\"], [0.3333333333333333, \"#9c179e\"], [0.4444444444444444, \"#bd3786\"], [0.5555555555555556, \"#d8576b\"], [0.6666666666666666, \"#ed7953\"], [0.7777777777777778, \"#fb9f3a\"], [0.8888888888888888, \"#fdca26\"], [1.0, \"#f0f921\"]]}, \"colorway\": [\"#636efa\", \"#EF553B\", \"#00cc96\", \"#ab63fa\", \"#FFA15A\", \"#19d3f3\", \"#FF6692\", \"#B6E880\", \"#FF97FF\", \"#FECB52\"], \"font\": {\"color\": \"#2a3f5f\"}, \"geo\": {\"bgcolor\": \"white\", \"lakecolor\": \"white\", \"landcolor\": \"#E5ECF6\", \"showlakes\": true, \"showland\": true, \"subunitcolor\": \"white\"}, \"hoverlabel\": {\"align\": \"left\"}, \"hovermode\": \"closest\", \"mapbox\": {\"style\": \"light\"}, \"paper_bgcolor\": \"white\", \"plot_bgcolor\": \"#E5ECF6\", \"polar\": {\"angularaxis\": {\"gridcolor\": \"white\", \"linecolor\": \"white\", \"ticks\": \"\"}, \"bgcolor\": \"#E5ECF6\", \"radialaxis\": {\"gridcolor\": \"white\", \"linecolor\": \"white\", \"ticks\": \"\"}}, \"scene\": {\"xaxis\": {\"backgroundcolor\": \"#E5ECF6\", \"gridcolor\": \"white\", \"gridwidth\": 2, \"linecolor\": \"white\", \"showbackground\": true, \"ticks\": \"\", \"zerolinecolor\": \"white\"}, \"yaxis\": {\"backgroundcolor\": \"#E5ECF6\", \"gridcolor\": \"white\", \"gridwidth\": 2, \"linecolor\": \"white\", \"showbackground\": true, \"ticks\": \"\", \"zerolinecolor\": \"white\"}, \"zaxis\": {\"backgroundcolor\": \"#E5ECF6\", \"gridcolor\": \"white\", \"gridwidth\": 2, \"linecolor\": \"white\", \"showbackground\": true, \"ticks\": \"\", \"zerolinecolor\": \"white\"}}, \"shapedefaults\": {\"line\": {\"color\": \"#2a3f5f\"}}, \"ternary\": {\"aaxis\": {\"gridcolor\": \"white\", \"linecolor\": \"white\", \"ticks\": \"\"}, \"baxis\": {\"gridcolor\": \"white\", \"linecolor\": \"white\", \"ticks\": \"\"}, \"bgcolor\": \"#E5ECF6\", \"caxis\": {\"gridcolor\": \"white\", \"linecolor\": \"white\", \"ticks\": \"\"}}, \"title\": {\"x\": 0.05}, \"xaxis\": {\"automargin\": true, \"gridcolor\": \"white\", \"linecolor\": \"white\", \"ticks\": \"\", \"title\": {\"standoff\": 15}, \"zerolinecolor\": \"white\", \"zerolinewidth\": 2}, \"yaxis\": {\"automargin\": true, \"gridcolor\": \"white\", \"linecolor\": \"white\", \"ticks\": \"\", \"title\": {\"standoff\": 15}, \"zerolinecolor\": \"white\", \"zerolinewidth\": 2}}}, \"title\": {\"text\": \"Statewise literacy rate in India\"}, \"xaxis\": {\"tickangle\": 90, \"ticklen\": 3, \"title\": {\"text\": \"States\"}, \"zeroline\": false}, \"yaxis\": {\"title\": {\"text\": \"Statewise literacy rate (in %)\"}}},\n",
              "                        {\"responsive\": true}\n",
              "                    ).then(function(){\n",
              "                            \n",
              "var gd = document.getElementById('f8c0d624-59e0-4ce9-a530-f5af71884f30');\n",
              "var x = new MutationObserver(function (mutations, observer) {{\n",
              "        var display = window.getComputedStyle(gd).display;\n",
              "        if (!display || display === 'none') {{\n",
              "            console.log([gd, 'removed!']);\n",
              "            Plotly.purge(gd);\n",
              "            observer.disconnect();\n",
              "        }}\n",
              "}});\n",
              "\n",
              "// Listen for the removal of the full notebook cells\n",
              "var notebookContainer = gd.closest('#notebook-container');\n",
              "if (notebookContainer) {{\n",
              "    x.observe(notebookContainer, {childList: true});\n",
              "}}\n",
              "\n",
              "// Listen for the clearing of the current output cell\n",
              "var outputEl = gd.closest('.output');\n",
              "if (outputEl) {{\n",
              "    x.observe(outputEl, {childList: true});\n",
              "}}\n",
              "\n",
              "                        })\n",
              "                };\n",
              "                \n",
              "            </script>\n",
              "        </div>\n",
              "</body>\n",
              "</html>"
            ]
          },
          "metadata": {
            "tags": []
          }
        }
      ]
    },
    {
      "cell_type": "markdown",
      "metadata": {
        "id": "Yze_q9ZSCv_s"
      },
      "source": [
        "* Kerla has highest Literacy rate \n",
        "* Bihar has lowest Literacy rate"
      ]
    },
    {
      "cell_type": "code",
      "metadata": {
        "id": "BvWeQZw8Cv_t"
      },
      "source": [
        "# 'OVERALL_LI' is the overall literacy rate for each state\n",
        "dataset = sort_vals(dataset, 'OVERALL_LI')"
      ],
      "execution_count": null,
      "outputs": []
    },
    {
      "cell_type": "markdown",
      "metadata": {
        "id": "-I6XUjoICv_t"
      },
      "source": [
        "### LIteracy Rate wrt states in india"
      ]
    },
    {
      "cell_type": "code",
      "metadata": {
        "colab": {
          "base_uri": "https://localhost:8080/"
        },
        "id": "PSLOP84tCv_t",
        "outputId": "108fba0a-e2ad-403f-f897-1781f79d049a"
      },
      "source": [
        "plt.figure(figsize=(10,12))\n",
        "sns.barplot( dataset['OVERALL_LI'],dataset['STATNAME'], alpha=0.8)\n",
        "plt.xticks(rotation='horizontal')\n",
        "plt.xlabel('Literacy rate', fontsize=20,alpha= 0.5,color = 'green')\n",
        "plt.ylabel('States in India', fontsize=20,alpha = 0.5, color = 'red')\n",
        "plt.title(\"Literacy Rate with respect to states in India\", fontsize=20,color = 'red')\n",
        "plt.show()"
      ],
      "execution_count": null,
      "outputs": [
        {
          "output_type": "stream",
          "text": [
            "/usr/local/lib/python3.7/dist-packages/seaborn/_decorators.py:43: FutureWarning:\n",
            "\n",
            "Pass the following variables as keyword args: x, y. From version 0.12, the only valid positional argument will be `data`, and passing other arguments without an explicit keyword will result in an error or misinterpretation.\n",
            "\n"
          ],
          "name": "stderr"
        },
        {
          "output_type": "display_data",
          "data": {
            "image/png": "[encoded data removed]",
            "text/plain": [
              "<Figure size 720x864 with 1 Axes>"
            ]
          },
          "metadata": {
            "tags": []
          }
        }
      ]
    },
    {
      "cell_type": "markdown",
      "metadata": {
        "id": "o0l77C8vCv_u"
      },
      "source": [
        "### Female LIteracy Rate in india"
      ]
    },
    {
      "cell_type": "code",
      "metadata": {
        "colab": {
          "base_uri": "https://localhost:8080/"
        },
        "id": "NwBDpPIdCv_v",
        "outputId": "2a50cbf3-d6c0-48af-bee8-4ed7949d6860"
      },
      "source": [
        "dataset = sort_vals(dataset, 'FEMALE_LIT')\n",
        "dataset.plot(kind = 'bar',x = 'STATNAME',y = 'FEMALE_LIT',stacked = False,figsize=(12,6),width = 0.7,color = ['orange'])\n",
        "plt.xlabel('Female liteacy', fontsize=18)\n",
        "plt.ylabel(\"States in India\", fontsize=18)\n",
        "plt.title(\"Female Literacy Rate with respect to states in India\", fontsize=20,color = 'orange')\n",
        "plt.show()"
      ],
      "execution_count": null,
      "outputs": [
        {
          "output_type": "display_data",
          "data": {
            "image/png": "[encoded data removed]",
            "text/plain": [
              "<Figure size 864x432 with 1 Axes>"
            ]
          },
          "metadata": {
            "tags": []
          }
        }
      ]
    },
    {
      "cell_type": "markdown",
      "metadata": {
        "id": "LnVIZmfyCv_v"
      },
      "source": [
        "### Male LIteracy Rate in india"
      ]
    },
    {
      "cell_type": "code",
      "metadata": {
        "colab": {
          "base_uri": "https://localhost:8080/"
        },
        "id": "76mTHkP8Cv_w",
        "outputId": "27f1b2be-1e3d-4993-9b9d-79e10953d5a2"
      },
      "source": [
        "dataset = sort_vals(dataset, 'MALE_LIT')\n",
        "dataset.plot(kind = 'bar',x = 'STATNAME',y = 'MALE_LIT',stacked = False,figsize=(12,6),width = 0.7,color = ['red'])\n",
        "plt.xlabel(\"Male liteacy\", fontsize=18, alpha= 0.5, color ='red')\n",
        "plt.ylabel('States in India', fontsize=18,alpha = 0.5, color = 'red')\n",
        "plt.title(\"male Literacy Rate with respect to states in India\", fontsize=20,color = 'red')\n",
        "plt.show()"
      ],
      "execution_count": null,
      "outputs": [
        {
          "output_type": "display_data",
          "data": {
            "image/png": "[encoded data removed]",
            "text/plain": [
              "<Figure size 864x432 with 1 Axes>"
            ]
          },
          "metadata": {
            "tags": []
          }
        }
      ]
    },
    {
      "cell_type": "markdown",
      "metadata": {
        "id": "7Gf2XkYACv_w"
      },
      "source": [
        "**We will now see a Male vs Female vs Literacy rate comparison**"
      ]
    },
    {
      "cell_type": "code",
      "metadata": {
        "colab": {
          "base_uri": "https://localhost:8080/"
        },
        "id": "PfC6lkPtCv_x",
        "outputId": "7c4bf650-c37f-40f8-a03f-ec0223ba3da2"
      },
      "source": [
        "dataset = sort_vals(dataset, 'OVERALL_LI')\n",
        "dataset.plot(kind = 'bar',x = 'STATNAME',y = ['MALE_LIT','FEMALE_LIT'],stacked = False,figsize=(12,6),width = 0.7,color = ['salmon','dimgrey'])\n",
        "plt.xlabel('States in India', fontsize=20,alpha= 0.5,color = 'red')\n",
        "plt.ylabel('Literacy Rate of male & female', fontsize=18,alpha = 0.5, color = 'red')\n",
        "plt.title(\"Male vs Female Literacy rate comparison\", fontsize=20,color = 'red')"
      ],
      "execution_count": null,
      "outputs": [
        {
          "output_type": "execute_result",
          "data": {
            "text/plain": [
              "Text(0.5, 1.0, 'Male vs Female Literacy rate comparison')"
            ]
          },
          "metadata": {
            "tags": []
          },
          "execution_count": 32
        },
        {
          "output_type": "display_data",
          "data": {
            "image/png": "[encoded data removed]",
            "text/plain": [
              "<Figure size 864x432 with 1 Axes>"
            ]
          },
          "metadata": {
            "tags": []
          }
        }
      ]
    },
    {
      "cell_type": "markdown",
      "metadata": {
        "id": "nyytv6kvCv_x"
      },
      "source": [
        "There are two things that could be interesting to explore:\n",
        "\n",
        "1. Make a new column showing the the differences in literacy rates between men and women.\n",
        "2. It looks like North-Eastern states on an average have less difference between male and female literacy rates. "
      ]
    },
    {
      "cell_type": "markdown",
      "metadata": {
        "id": "HUlD-xsYCv_y"
      },
      "source": [
        "#### Visualize overall, male and female litracy rate in one graph"
      ]
    },
    {
      "cell_type": "code",
      "metadata": {
        "colab": {
          "base_uri": "https://localhost:8080/"
        },
        "id": "CnlxtOXKCv_y",
        "outputId": "1af450b6-7401-496d-cca5-3cb9d29af821"
      },
      "source": [
        "# Create and style traces\n",
        "trace1 = go.Scatter(\n",
        "    x = dataset.STATNAME,\n",
        "    y = dataset.OVERALL_LI,\n",
        "    mode = \"lines+markers\",\n",
        "    name = 'Overall Literacy Rate ',\n",
        "    line =dict(color='blue', width=1)\n",
        ")\n",
        "trace2 = go.Scatter(\n",
        "    x = dataset.STATNAME,\n",
        "    y = dataset.MALE_LIT,\n",
        "    mode = \"lines+markers\",\n",
        "    name = 'Male literacy rate',\n",
        "    line = dict(\n",
        "        width = 1)\n",
        ")\n",
        "trace3 = go.Scatter(\n",
        "    x = dataset.STATNAME,\n",
        "    y = dataset.FEMALE_LIT,\n",
        "    mode = \"lines+markers\",\n",
        "    name = 'Female literacy rate',\n",
        "    line = dict(\n",
        "        width = 1,\n",
        "        dash = 'dash') # dash options include 'dash', 'dot', and 'dashdot'\n",
        ")\n",
        "\n",
        "data = [trace1, trace2, trace3]\n",
        "\n",
        "# Edit the layout\n",
        "layout = dict(title = 'Statewise literacy rate in India',\n",
        "                      xaxis= dict(\n",
        "                          ticklen= 3,\n",
        "                          tickangle=90,\n",
        "                          zeroline= False),\n",
        "\n",
        "                      yaxis=dict(\n",
        "                            title='Statewise overall, male and female literacy rate'\n",
        "                        )\n",
        "                     )\n",
        "\n",
        "fig = dict(data=data, layout=layout)\n",
        "iplot(fig)"
      ],
      "execution_count": null,
      "outputs": [
        {
          "output_type": "display_data",
          "data": {
            "text/html": [
              "<html>\n",
              "<head><meta charset=\"utf-8\" /></head>\n",
              "<body>\n",
              "    <div>\n",
              "            <script src=\"https://cdnjs.cloudflare.com/ajax/libs/mathjax/2.7.5/MathJax.js?config=TeX-AMS-MML_SVG\"></script><script type=\"text/javascript\">if (window.MathJax) {MathJax.Hub.Config({SVG: {font: \"STIX-Web\"}});}</script>\n",
              "                <script type=\"text/javascript\">window.PlotlyConfig = {MathJaxConfig: 'local'};</script>\n",
              "        <script src=\"https://cdn.plot.ly/plotly-latest.min.js\"></script>    \n",
              "            <div id=\"2fe95317-952a-45b5-8ed9-9fcdc0035236\" class=\"plotly-graph-div\" style=\"height:525px; width:100%;\"></div>\n",
              "            <script type=\"text/javascript\">\n",
              "                \n",
              "                    window.PLOTLYENV=window.PLOTLYENV || {};\n",
              "                    \n",
              "                if (document.getElementById(\"2fe95317-952a-45b5-8ed9-9fcdc0035236\")) {\n",
              "                    Plotly.newPlot(\n",
              "                        '2fe95317-952a-45b5-8ed9-9fcdc0035236',\n",
              "                        [{\"line\": {\"color\": \"blue\", \"width\": 1}, \"mode\": \"lines+markers\", \"name\": \"Overall Literacy Rate \", \"type\": \"scatter\", \"x\": [\"BIHAR\", \"TELANGANA\", \"ARUNACHAL PRADESH\", \"RAJASTHAN\", \"JHARKHAND\", \"ANDHRA PRADESH\", \"JAMMU & KASHMIR\", \"UTTAR PRADESH\", \"MADHYA PRADESH\", \"CHHATTISGARH\", \"ASSAM\", \"ODISHA\", \"MEGHALAYA\", \"KARNATAKA\", \"HARYANA\", \"PUNJAB\", \"WEST BENGAL\", \"DADRA & NAGAR HAVELI\", \"GUJARAT\", \"UTTARAKHAND\", \"MANIPUR\", \"NAGALAND\", \"TAMIL NADU\", \"SIKKIM\", \"MAHARASHTRA\", \"HIMACHAL PRADESH\", \"A & N ISLANDS\", \"DELHI\", \"CHANDIGARH\", \"PUDUCHERRY\", \"DAMAN & DIU\", \"GOA\", \"TRIPURA\", \"MIZORAM\", \"LAKSHADWEEP\", \"KERALA\"], \"y\": [63.82, 66.46, 66.95, 67.06, 67.63, 67.66, 68.74, 69.72, 70.63, 71.04, 73.18, 73.45, 75.48, 75.6, 76.64, 76.68, 77.08, 77.65, 79.31, 79.63, 79.85, 80.11, 80.3, 82.2, 82.91, 83.78, 86.27, 86.34, 86.43, 86.55, 87.07, 87.4, 87.75, 91.58, 92.28, 93.91]}, {\"line\": {\"width\": 1}, \"mode\": \"lines+markers\", \"name\": \"Male literacy rate\", \"type\": \"scatter\", \"x\": [\"BIHAR\", \"TELANGANA\", \"ARUNACHAL PRADESH\", \"RAJASTHAN\", \"JHARKHAND\", \"ANDHRA PRADESH\", \"JAMMU & KASHMIR\", \"UTTAR PRADESH\", \"MADHYA PRADESH\", \"CHHATTISGARH\", \"ASSAM\", \"ODISHA\", \"MEGHALAYA\", \"KARNATAKA\", \"HARYANA\", \"PUNJAB\", \"WEST BENGAL\", \"DADRA & NAGAR HAVELI\", \"GUJARAT\", \"UTTARAKHAND\", \"MANIPUR\", \"NAGALAND\", \"TAMIL NADU\", \"SIKKIM\", \"MAHARASHTRA\", \"HIMACHAL PRADESH\", \"A & N ISLANDS\", \"DELHI\", \"CHANDIGARH\", \"PUDUCHERRY\", \"DAMAN & DIU\", \"GOA\", \"TRIPURA\", \"MIZORAM\", \"LAKSHADWEEP\", \"KERALA\"], \"y\": [73.39, 74.95, 73.69, 80.51, 78.45, 75.56, 78.26, 79.24, 80.53, 81.45, 78.81, 82.4, 77.17, 82.85, 85.38, 81.48, 82.67, 86.46, 87.23, 88.33, 86.49, 83.29, 86.81, 87.29, 89.82, 90.83, 90.11, 91.03, 90.54, 92.12, 91.48, 92.81, 92.18, 93.72, 96.11, 96.02]}, {\"line\": {\"dash\": \"dash\", \"width\": 1}, \"mode\": \"lines+markers\", \"name\": \"Female literacy rate\", \"type\": \"scatter\", \"x\": [\"BIHAR\", \"TELANGANA\", \"ARUNACHAL PRADESH\", \"RAJASTHAN\", \"JHARKHAND\", \"ANDHRA PRADESH\", \"JAMMU & KASHMIR\", \"UTTAR PRADESH\", \"MADHYA PRADESH\", \"CHHATTISGARH\", \"ASSAM\", \"ODISHA\", \"MEGHALAYA\", \"KARNATAKA\", \"HARYANA\", \"PUNJAB\", \"WEST BENGAL\", \"DADRA & NAGAR HAVELI\", \"GUJARAT\", \"UTTARAKHAND\", \"MANIPUR\", \"NAGALAND\", \"TAMIL NADU\", \"SIKKIM\", \"MAHARASHTRA\", \"HIMACHAL PRADESH\", \"A & N ISLANDS\", \"DELHI\", \"CHANDIGARH\", \"PUDUCHERRY\", \"DAMAN & DIU\", \"GOA\", \"TRIPURA\", \"MIZORAM\", \"LAKSHADWEEP\", \"KERALA\"], \"y\": [53.33, 57.92, 59.57, 52.66, 56.21, 59.74, 58.01, 59.26, 60.02, 60.59, 67.27, 64.36, 73.78, 68.13, 66.77, 71.34, 71.16, 65.93, 70.73, 70.7, 73.17, 76.69, 73.86, 76.43, 75.48, 76.6, 81.84, 80.93, 81.38, 81.22, 79.59, 81.84, 83.15, 89.4, 88.25, 91.98]}],\n",
              "                        {\"template\": {\"data\": {\"bar\": [{\"error_x\": {\"color\": \"#2a3f5f\"}, \"error_y\": {\"color\": \"#2a3f5f\"}, \"marker\": {\"line\": {\"color\": \"#E5ECF6\", \"width\": 0.5}}, \"type\": \"bar\"}], \"barpolar\": [{\"marker\": {\"line\": {\"color\": \"#E5ECF6\", \"width\": 0.5}}, \"type\": \"barpolar\"}], \"carpet\": [{\"aaxis\": {\"endlinecolor\": \"#2a3f5f\", \"gridcolor\": \"white\", \"linecolor\": \"white\", \"minorgridcolor\": \"white\", \"startlinecolor\": \"#2a3f5f\"}, \"baxis\": {\"endlinecolor\": \"#2a3f5f\", \"gridcolor\": \"white\", \"linecolor\": \"white\", \"minorgridcolor\": \"white\", \"startlinecolor\": \"#2a3f5f\"}, \"type\": \"carpet\"}], \"choropleth\": [{\"colorbar\": {\"outlinewidth\": 0, \"ticks\": \"\"}, \"type\": \"choropleth\"}], \"contour\": [{\"colorbar\": {\"outlinewidth\": 0, \"ticks\": \"\"}, \"colorscale\": [[0.0, \"#0d0887\"], [0.1111111111111111, \"#46039f\"], [0.2222222222222222, \"#7201a8\"], [0.3333333333333333, \"#9c179e\"], [0.4444444444444444, \"#bd3786\"], [0.5555555555555556, \"#d8576b\"], [0.6666666666666666, \"#ed7953\"], [0.7777777777777778, \"#fb9f3a\"], [0.8888888888888888, \"#fdca26\"], [1.0, \"#f0f921\"]], \"type\": \"contour\"}], \"contourcarpet\": [{\"colorbar\": {\"outlinewidth\": 0, \"ticks\": \"\"}, \"type\": \"contourcarpet\"}], \"heatmap\": [{\"colorbar\": {\"outlinewidth\": 0, \"ticks\": \"\"}, \"colorscale\": [[0.0, \"#0d0887\"], [0.1111111111111111, \"#46039f\"], [0.2222222222222222, \"#7201a8\"], [0.3333333333333333, \"#9c179e\"], [0.4444444444444444, \"#bd3786\"], [0.5555555555555556, \"#d8576b\"], [0.6666666666666666, \"#ed7953\"], [0.7777777777777778, \"#fb9f3a\"], [0.8888888888888888, \"#fdca26\"], [1.0, \"#f0f921\"]], \"type\": \"heatmap\"}], \"heatmapgl\": [{\"colorbar\": {\"outlinewidth\": 0, \"ticks\": \"\"}, \"colorscale\": [[0.0, \"#0d0887\"], [0.1111111111111111, \"#46039f\"], [0.2222222222222222, \"#7201a8\"], [0.3333333333333333, \"#9c179e\"], [0.4444444444444444, \"#bd3786\"], [0.5555555555555556, \"#d8576b\"], [0.6666666666666666, \"#ed7953\"], [0.7777777777777778, \"#fb9f3a\"], [0.8888888888888888, \"#fdca26\"], [1.0, \"#f0f921\"]], \"type\": \"heatmapgl\"}], \"histogram\": [{\"marker\": {\"colorbar\": {\"outlinewidth\": 0, \"ticks\": \"\"}}, \"type\": \"histogram\"}], \"histogram2d\": [{\"colorbar\": {\"outlinewidth\": 0, \"ticks\": \"\"}, \"colorscale\": [[0.0, \"#0d0887\"], [0.1111111111111111, \"#46039f\"], [0.2222222222222222, \"#7201a8\"], [0.3333333333333333, \"#9c179e\"], [0.4444444444444444, \"#bd3786\"], [0.5555555555555556, \"#d8576b\"], [0.6666666666666666, \"#ed7953\"], [0.7777777777777778, \"#fb9f3a\"], [0.8888888888888888, \"#fdca26\"], [1.0, \"#f0f921\"]], \"type\": \"histogram2d\"}], \"histogram2dcontour\": [{\"colorbar\": {\"outlinewidth\": 0, \"ticks\": \"\"}, \"colorscale\": [[0.0, \"#0d0887\"], [0.1111111111111111, \"#46039f\"], [0.2222222222222222, \"#7201a8\"], [0.3333333333333333, \"#9c179e\"], [0.4444444444444444, \"#bd3786\"], [0.5555555555555556, \"#d8576b\"], [0.6666666666666666, \"#ed7953\"], [0.7777777777777778, \"#fb9f3a\"], [0.8888888888888888, \"#fdca26\"], [1.0, \"#f0f921\"]], \"type\": \"histogram2dcontour\"}], \"mesh3d\": [{\"colorbar\": {\"outlinewidth\": 0, \"ticks\": \"\"}, \"type\": \"mesh3d\"}], \"parcoords\": [{\"line\": {\"colorbar\": {\"outlinewidth\": 0, \"ticks\": \"\"}}, \"type\": \"parcoords\"}], \"pie\": [{\"automargin\": true, \"type\": \"pie\"}], \"scatter\": [{\"marker\": {\"colorbar\": {\"outlinewidth\": 0, \"ticks\": \"\"}}, \"type\": \"scatter\"}], \"scatter3d\": [{\"line\": {\"colorbar\": {\"outlinewidth\": 0, \"ticks\": \"\"}}, \"marker\": {\"colorbar\": {\"outlinewidth\": 0, \"ticks\": \"\"}}, \"type\": \"scatter3d\"}], \"scattercarpet\": [{\"marker\": {\"colorbar\": {\"outlinewidth\": 0, \"ticks\": \"\"}}, \"type\": \"scattercarpet\"}], \"scattergeo\": [{\"marker\": {\"colorbar\": {\"outlinewidth\": 0, \"ticks\": \"\"}}, \"type\": \"scattergeo\"}], \"scattergl\": [{\"marker\": {\"colorbar\": {\"outlinewidth\": 0, \"ticks\": \"\"}}, \"type\": \"scattergl\"}], \"scattermapbox\": [{\"marker\": {\"colorbar\": {\"outlinewidth\": 0, \"ticks\": \"\"}}, \"type\": \"scattermapbox\"}], \"scatterpolar\": [{\"marker\": {\"colorbar\": {\"outlinewidth\": 0, \"ticks\": \"\"}}, \"type\": \"scatterpolar\"}], \"scatterpolargl\": [{\"marker\": {\"colorbar\": {\"outlinewidth\": 0, \"ticks\": \"\"}}, \"type\": \"scatterpolargl\"}], \"scatterternary\": [{\"marker\": {\"colorbar\": {\"outlinewidth\": 0, \"ticks\": \"\"}}, \"type\": \"scatterternary\"}], \"surface\": [{\"colorbar\": {\"outlinewidth\": 0, \"ticks\": \"\"}, \"colorscale\": [[0.0, \"#0d0887\"], [0.1111111111111111, \"#46039f\"], [0.2222222222222222, \"#7201a8\"], [0.3333333333333333, \"#9c179e\"], [0.4444444444444444, \"#bd3786\"], [0.5555555555555556, \"#d8576b\"], [0.6666666666666666, \"#ed7953\"], [0.7777777777777778, \"#fb9f3a\"], [0.8888888888888888, \"#fdca26\"], [1.0, \"#f0f921\"]], \"type\": \"surface\"}], \"table\": [{\"cells\": {\"fill\": {\"color\": \"#EBF0F8\"}, \"line\": {\"color\": \"white\"}}, \"header\": {\"fill\": {\"color\": \"#C8D4E3\"}, \"line\": {\"color\": \"white\"}}, \"type\": \"table\"}]}, \"layout\": {\"annotationdefaults\": {\"arrowcolor\": \"#2a3f5f\", \"arrowhead\": 0, \"arrowwidth\": 1}, \"coloraxis\": {\"colorbar\": {\"outlinewidth\": 0, \"ticks\": \"\"}}, \"colorscale\": {\"diverging\": [[0, \"#8e0152\"], [0.1, \"#c51b7d\"], [0.2, \"#de77ae\"], [0.3, \"#f1b6da\"], [0.4, \"#fde0ef\"], [0.5, \"#f7f7f7\"], [0.6, \"#e6f5d0\"], [0.7, \"#b8e186\"], [0.8, \"#7fbc41\"], [0.9, \"#4d9221\"], [1, \"#276419\"]], \"sequential\": [[0.0, \"#0d0887\"], [0.1111111111111111, \"#46039f\"], [0.2222222222222222, \"#7201a8\"], [0.3333333333333333, \"#9c179e\"], [0.4444444444444444, \"#bd3786\"], [0.5555555555555556, \"#d8576b\"], [0.6666666666666666, \"#ed7953\"], [0.7777777777777778, \"#fb9f3a\"], [0.8888888888888888, \"#fdca26\"], [1.0, \"#f0f921\"]], \"sequentialminus\": [[0.0, \"#0d0887\"], [0.1111111111111111, \"#46039f\"], [0.2222222222222222, \"#7201a8\"], [0.3333333333333333, \"#9c179e\"], [0.4444444444444444, \"#bd3786\"], [0.5555555555555556, \"#d8576b\"], [0.6666666666666666, \"#ed7953\"], [0.7777777777777778, \"#fb9f3a\"], [0.8888888888888888, \"#fdca26\"], [1.0, \"#f0f921\"]]}, \"colorway\": [\"#636efa\", \"#EF553B\", \"#00cc96\", \"#ab63fa\", \"#FFA15A\", \"#19d3f3\", \"#FF6692\", \"#B6E880\", \"#FF97FF\", \"#FECB52\"], \"font\": {\"color\": \"#2a3f5f\"}, \"geo\": {\"bgcolor\": \"white\", \"lakecolor\": \"white\", \"landcolor\": \"#E5ECF6\", \"showlakes\": true, \"showland\": true, \"subunitcolor\": \"white\"}, \"hoverlabel\": {\"align\": \"left\"}, \"hovermode\": \"closest\", \"mapbox\": {\"style\": \"light\"}, \"paper_bgcolor\": \"white\", \"plot_bgcolor\": \"#E5ECF6\", \"polar\": {\"angularaxis\": {\"gridcolor\": \"white\", \"linecolor\": \"white\", \"ticks\": \"\"}, \"bgcolor\": \"#E5ECF6\", \"radialaxis\": {\"gridcolor\": \"white\", \"linecolor\": \"white\", \"ticks\": \"\"}}, \"scene\": {\"xaxis\": {\"backgroundcolor\": \"#E5ECF6\", \"gridcolor\": \"white\", \"gridwidth\": 2, \"linecolor\": \"white\", \"showbackground\": true, \"ticks\": \"\", \"zerolinecolor\": \"white\"}, \"yaxis\": {\"backgroundcolor\": \"#E5ECF6\", \"gridcolor\": \"white\", \"gridwidth\": 2, \"linecolor\": \"white\", \"showbackground\": true, \"ticks\": \"\", \"zerolinecolor\": \"white\"}, \"zaxis\": {\"backgroundcolor\": \"#E5ECF6\", \"gridcolor\": \"white\", \"gridwidth\": 2, \"linecolor\": \"white\", \"showbackground\": true, \"ticks\": \"\", \"zerolinecolor\": \"white\"}}, \"shapedefaults\": {\"line\": {\"color\": \"#2a3f5f\"}}, \"ternary\": {\"aaxis\": {\"gridcolor\": \"white\", \"linecolor\": \"white\", \"ticks\": \"\"}, \"baxis\": {\"gridcolor\": \"white\", \"linecolor\": \"white\", \"ticks\": \"\"}, \"bgcolor\": \"#E5ECF6\", \"caxis\": {\"gridcolor\": \"white\", \"linecolor\": \"white\", \"ticks\": \"\"}}, \"title\": {\"x\": 0.05}, \"xaxis\": {\"automargin\": true, \"gridcolor\": \"white\", \"linecolor\": \"white\", \"ticks\": \"\", \"title\": {\"standoff\": 15}, \"zerolinecolor\": \"white\", \"zerolinewidth\": 2}, \"yaxis\": {\"automargin\": true, \"gridcolor\": \"white\", \"linecolor\": \"white\", \"ticks\": \"\", \"title\": {\"standoff\": 15}, \"zerolinecolor\": \"white\", \"zerolinewidth\": 2}}}, \"title\": {\"text\": \"Statewise literacy rate in India\"}, \"xaxis\": {\"tickangle\": 90, \"ticklen\": 3, \"zeroline\": false}, \"yaxis\": {\"title\": {\"text\": \"Statewise overall, male and female literacy rate\"}}},\n",
              "                        {\"responsive\": true}\n",
              "                    ).then(function(){\n",
              "                            \n",
              "var gd = document.getElementById('2fe95317-952a-45b5-8ed9-9fcdc0035236');\n",
              "var x = new MutationObserver(function (mutations, observer) {{\n",
              "        var display = window.getComputedStyle(gd).display;\n",
              "        if (!display || display === 'none') {{\n",
              "            console.log([gd, 'removed!']);\n",
              "            Plotly.purge(gd);\n",
              "            observer.disconnect();\n",
              "        }}\n",
              "}});\n",
              "\n",
              "// Listen for the removal of the full notebook cells\n",
              "var notebookContainer = gd.closest('#notebook-container');\n",
              "if (notebookContainer) {{\n",
              "    x.observe(notebookContainer, {childList: true});\n",
              "}}\n",
              "\n",
              "// Listen for the clearing of the current output cell\n",
              "var outputEl = gd.closest('.output');\n",
              "if (outputEl) {{\n",
              "    x.observe(outputEl, {childList: true});\n",
              "}}\n",
              "\n",
              "                        })\n",
              "                };\n",
              "                \n",
              "            </script>\n",
              "        </div>\n",
              "</body>\n",
              "</html>"
            ]
          },
          "metadata": {
            "tags": []
          }
        }
      ]
    },
    {
      "cell_type": "markdown",
      "metadata": {
        "id": "NvYzA-mrCv_z"
      },
      "source": [
        "### Data Preparation:\n",
        "\n",
        "Here we are going to create a new feature, DIFF_LIT, by subtracting the Female literacy rate from the male literacy rate. This will help us see the difference in male and female literacy rate for each state easily."
      ]
    },
    {
      "cell_type": "code",
      "metadata": {
        "id": "3x68etV0Cv_0"
      },
      "source": [
        "# Difference in Male and Female literacy rates\n",
        "dataset['DIFFERENCE'] = dataset.MALE_LIT - dataset.FEMALE_LIT "
      ],
      "execution_count": null,
      "outputs": []
    },
    {
      "cell_type": "code",
      "metadata": {
        "colab": {
          "base_uri": "https://localhost:8080/"
        },
        "id": "y35-NHJrCv_0",
        "outputId": "696688bd-778f-4910-dd64-8eec35832bbd"
      },
      "source": [
        "# Average difference in literacy rates\n",
        "difference_lit_mean = dataset.DIFFERENCE.mean()\n",
        "print(\"India's avg difference in literacy rate between men and women is : {}\".format(difference_lit_mean))"
      ],
      "execution_count": null,
      "outputs": [
        {
          "output_type": "stream",
          "text": [
            "India's avg difference in literacy rate between men and women is : 13.89361111111111\n"
          ],
          "name": "stdout"
        }
      ]
    },
    {
      "cell_type": "code",
      "metadata": {
        "colab": {
          "base_uri": "https://localhost:8080/"
        },
        "id": "03B1yeqcCv_2",
        "outputId": "88570120-ce1b-47ce-b466-83c4dfb5fd1a"
      },
      "source": [
        "# States with the least male and female literacy rates difference\n",
        "sort_vals(dataset, 'DIFFERENCE').head()[['STATNAME','DIFFERENCE']]"
      ],
      "execution_count": null,
      "outputs": [
        {
          "output_type": "execute_result",
          "data": {
            "text/html": [
              "<div>\n",
              "<style scoped>\n",
              "    .dataframe tbody tr th:only-of-type {\n",
              "        vertical-align: middle;\n",
              "    }\n",
              "\n",
              "    .dataframe tbody tr th {\n",
              "        vertical-align: top;\n",
              "    }\n",
              "\n",
              "    .dataframe thead th {\n",
              "        text-align: right;\n",
              "    }\n",
              "</style>\n",
              "<table border=\"1\" class=\"dataframe\">\n",
              "  <thead>\n",
              "    <tr style=\"text-align: right;\">\n",
              "      <th></th>\n",
              "      <th>STATNAME</th>\n",
              "      <th>DIFFERENCE</th>\n",
              "    </tr>\n",
              "  </thead>\n",
              "  <tbody>\n",
              "    <tr>\n",
              "      <th>16</th>\n",
              "      <td>MEGHALAYA</td>\n",
              "      <td>3.39</td>\n",
              "    </tr>\n",
              "    <tr>\n",
              "      <th>31</th>\n",
              "      <td>KERALA</td>\n",
              "      <td>4.04</td>\n",
              "    </tr>\n",
              "    <tr>\n",
              "      <th>14</th>\n",
              "      <td>MIZORAM</td>\n",
              "      <td>4.32</td>\n",
              "    </tr>\n",
              "    <tr>\n",
              "      <th>12</th>\n",
              "      <td>NAGALAND</td>\n",
              "      <td>6.60</td>\n",
              "    </tr>\n",
              "    <tr>\n",
              "      <th>30</th>\n",
              "      <td>LAKSHADWEEP</td>\n",
              "      <td>7.86</td>\n",
              "    </tr>\n",
              "  </tbody>\n",
              "</table>\n",
              "</div>"
            ],
            "text/plain": [
              "       STATNAME  DIFFERENCE\n",
              "16    MEGHALAYA        3.39\n",
              "31       KERALA        4.04\n",
              "14      MIZORAM        4.32\n",
              "12     NAGALAND        6.60\n",
              "30  LAKSHADWEEP        7.86"
            ]
          },
          "metadata": {
            "tags": []
          },
          "execution_count": 36
        }
      ]
    },
    {
      "cell_type": "code",
      "metadata": {
        "colab": {
          "base_uri": "https://localhost:8080/"
        },
        "id": "wIAs6vZGCv_2",
        "outputId": "dd1f57ed-215a-403e-dd68-6b5859515765"
      },
      "source": [
        "# States with the most male and female literacy rates difference\n",
        "sort_vals(dataset, 'DIFFERENCE').tail()[['STATNAME','DIFFERENCE']]"
      ],
      "execution_count": null,
      "outputs": [
        {
          "output_type": "execute_result",
          "data": {
            "text/html": [
              "<div>\n",
              "<style scoped>\n",
              "    .dataframe tbody tr th:only-of-type {\n",
              "        vertical-align: middle;\n",
              "    }\n",
              "\n",
              "    .dataframe tbody tr th {\n",
              "        vertical-align: top;\n",
              "    }\n",
              "\n",
              "    .dataframe thead th {\n",
              "        text-align: right;\n",
              "    }\n",
              "</style>\n",
              "<table border=\"1\" class=\"dataframe\">\n",
              "  <thead>\n",
              "    <tr style=\"text-align: right;\">\n",
              "      <th></th>\n",
              "      <th>STATNAME</th>\n",
              "      <th>DIFFERENCE</th>\n",
              "    </tr>\n",
              "  </thead>\n",
              "  <tbody>\n",
              "    <tr>\n",
              "      <th>22</th>\n",
              "      <td>MADHYA PRADESH</td>\n",
              "      <td>20.51</td>\n",
              "    </tr>\n",
              "    <tr>\n",
              "      <th>25</th>\n",
              "      <td>DADRA &amp; NAGAR HAVELI</td>\n",
              "      <td>20.53</td>\n",
              "    </tr>\n",
              "    <tr>\n",
              "      <th>21</th>\n",
              "      <td>CHHATTISGARH</td>\n",
              "      <td>20.86</td>\n",
              "    </tr>\n",
              "    <tr>\n",
              "      <th>19</th>\n",
              "      <td>JHARKHAND</td>\n",
              "      <td>22.24</td>\n",
              "    </tr>\n",
              "    <tr>\n",
              "      <th>7</th>\n",
              "      <td>RAJASTHAN</td>\n",
              "      <td>27.85</td>\n",
              "    </tr>\n",
              "  </tbody>\n",
              "</table>\n",
              "</div>"
            ],
            "text/plain": [
              "                STATNAME  DIFFERENCE\n",
              "22        MADHYA PRADESH       20.51\n",
              "25  DADRA & NAGAR HAVELI       20.53\n",
              "21          CHHATTISGARH       20.86\n",
              "19             JHARKHAND       22.24\n",
              "7              RAJASTHAN       27.85"
            ]
          },
          "metadata": {
            "tags": []
          },
          "execution_count": 37
        }
      ]
    },
    {
      "cell_type": "markdown",
      "metadata": {
        "id": "_weDM4FYCv_7"
      },
      "source": [
        "We now check out how the North-East Indian states perform compared to the National Average"
      ]
    },
    {
      "cell_type": "code",
      "metadata": {
        "colab": {
          "base_uri": "https://localhost:8080/"
        },
        "id": "owhQKSS5Cv_8",
        "outputId": "0bd80936-cd84-4fb4-fe3a-ea1c312f3dc4"
      },
      "source": [
        "# These are the Indian North-East states\n",
        "north_east = ['NAGALAND','MANIPUR','MIZORAM','ASSAM','TRIPURA','ARUNACHAL PRADESH','MEGHALAYA','SIKKIM']\n",
        "dataset.set_index(dataset.STATNAME,inplace = True)\n",
        "ne_diff_lit_mean = dataset.loc[north_east,'DIFFERENCE' ].mean()\n",
        "print('The avg in litracy diffrence for north-eastern states ({}) is much less than the national avg ({}).'.format(ne_diff_lit_mean,difference_lit_mean))"
      ],
      "execution_count": null,
      "outputs": [
        {
          "output_type": "stream",
          "text": [
            "The avg in litracy diffrence for north-eastern states (9.1475) is much less than the national avg (13.89361111111111).\n"
          ],
          "name": "stdout"
        }
      ]
    },
    {
      "cell_type": "code",
      "metadata": {
        "colab": {
          "base_uri": "https://localhost:8080/"
        },
        "id": "ksohfKBbCv_8",
        "outputId": "d501a370-9a13-49fd-cdeb-a4e4cb362ef6"
      },
      "source": [
        "print(\"The Female literacy rate for meghalaya : {} VS. the avg female literacy rate : {}\".format(dataset.loc['MEGHALAYA','FEMALE_LIT'],dataset.FEMALE_LIT.mean()))"
      ],
      "execution_count": null,
      "outputs": [
        {
          "output_type": "stream",
          "text": [
            "The Female literacy rate for meghalaya : 73.78 VS. the avg female literacy rate : 71.0913888888889\n"
          ],
          "name": "stdout"
        }
      ]
    },
    {
      "cell_type": "markdown",
      "metadata": {
        "id": "55QPNxaRCv_9"
      },
      "source": [
        "### Conclusion of the Question\n",
        "\n",
        "**We note the following conclusion from the above Analysis :**\n",
        "\n",
        "* The states with the highest overall literacy rates are : Kerala, Lakshwadeep, Mizoram, Tripura and Goa.\n",
        "* The states with the lowest overall literacy rates are : Bihar, Telngana, Arunachal Pradesh, Rajasthan and Jharkhand. \n",
        "* Dadra and Nagar Haveli, Rajasthan, Chattisgarh, Jharkhand and MP have the maximum difference between Male and Female literacy rates. \n",
        "* Though the top states in male and female literacy remain the same but when we see the bottom states, they change. Meghalaya has the 5th highest no. of illiterate males. The avg female literacy rate for Meghalaya though is higher than the avg female_lit rate.\n",
        "* Also, the states with the highest overall literacy rates have really little differences between male and female literacy rates in general. We also see that states in North east have on an average lesser difference between male and female literacy rates when compared with the average of the country."
      ]
    },
    {
      "cell_type": "markdown",
      "metadata": {
        "id": "iszOKuO0Cv_-"
      },
      "source": [
        "## 2. How are the top states different from the bottom states and what factors can the bottom states work on to increase their literacy rate?"
      ]
    },
    {
      "cell_type": "markdown",
      "metadata": {
        "id": "b-h9dti1Cv_-"
      },
      "source": [
        "For answering this question, we will carry out visual analyses using graphs on different features to see how they can affect Overall Literacy Rate"
      ]
    },
    {
      "cell_type": "markdown",
      "metadata": {
        "id": "vA9V16t9CwAC"
      },
      "source": [
        "### Data Preparation:\n",
        "\n",
        "We will be creating top_bottom, a dataframe that contains only the top and bottom states w.r.t. overal literacy rate. This will make plotting and analysis easy for us as we just have to explore these states for answering this question."
      ]
    },
    {
      "cell_type": "code",
      "metadata": {
        "id": "tpubU5R6CwAC"
      },
      "source": [
        "# I will drop Telangana from bottom as its been recently founded(2014)\n",
        "top_state = dataset.sort_values(by = 'OVERALL_LI', ascending = False).head(3)\n",
        "bottom_state = dataset.sort_values(by = 'OVERALL_LI', ascending = True).head(4).drop('TELANGANA',axis = 0)"
      ],
      "execution_count": null,
      "outputs": []
    },
    {
      "cell_type": "code",
      "metadata": {
        "id": "10kdtK2QCwAD"
      },
      "source": [
        "top_bottom = pd.concat([top_state, bottom_state], axis = 0, sort = False)"
      ],
      "execution_count": null,
      "outputs": []
    },
    {
      "cell_type": "code",
      "metadata": {
        "colab": {
          "base_uri": "https://localhost:8080/"
        },
        "id": "p1zScho7CwAD",
        "outputId": "4cff8bd3-b8ea-4f8c-947b-08293fe1d726"
      },
      "source": [
        "top_bottom "
      ],
      "execution_count": null,
      "outputs": [
        {
          "output_type": "execute_result",
          "data": {
            "text/html": [
              "<div>\n",
              "<style scoped>\n",
              "    .dataframe tbody tr th:only-of-type {\n",
              "        vertical-align: middle;\n",
              "    }\n",
              "\n",
              "    .dataframe tbody tr th {\n",
              "        vertical-align: top;\n",
              "    }\n",
              "\n",
              "    .dataframe thead th {\n",
              "        text-align: right;\n",
              "    }\n",
              "</style>\n",
              "<table border=\"1\" class=\"dataframe\">\n",
              "  <thead>\n",
              "    <tr style=\"text-align: right;\">\n",
              "      <th></th>\n",
              "      <th>AC_YEAR</th>\n",
              "      <th>STATCD</th>\n",
              "      <th>STATNAME</th>\n",
              "      <th>DISTRICTS</th>\n",
              "      <th>BLOCKS</th>\n",
              "      <th>VILLAGES</th>\n",
              "      <th>CLUSTERS</th>\n",
              "      <th>TOTPOPULAT</th>\n",
              "      <th>P_URB_POP</th>\n",
              "      <th>POPULATION_0_6</th>\n",
              "      <th>GROWTHRATE</th>\n",
              "      <th>SEXRATIO</th>\n",
              "      <th>P_SC_POP</th>\n",
              "      <th>P_ST_POP</th>\n",
              "      <th>OVERALL_LI</th>\n",
              "      <th>FEMALE_LIT</th>\n",
              "      <th>MALE_LIT</th>\n",
              "      <th>AREA_SQKM</th>\n",
              "      <th>TOT_6_10_15</th>\n",
              "      <th>TOT_11_13_15</th>\n",
              "      <th>SCH1</th>\n",
              "      <th>SCH2</th>\n",
              "      <th>SCH3</th>\n",
              "      <th>SCH4</th>\n",
              "      <th>SCH5</th>\n",
              "      <th>SCH6</th>\n",
              "      <th>SCH7</th>\n",
              "      <th>SCH9</th>\n",
              "      <th>SCHTOT</th>\n",
              "      <th>SCH1G</th>\n",
              "      <th>SCH2G</th>\n",
              "      <th>SCH3G</th>\n",
              "      <th>SCH4G</th>\n",
              "      <th>SCH5G</th>\n",
              "      <th>SCH6G</th>\n",
              "      <th>SCH7G</th>\n",
              "      <th>SCH9G</th>\n",
              "      <th>SCHTOTG</th>\n",
              "      <th>SCH1P</th>\n",
              "      <th>SCH2P</th>\n",
              "      <th>SCH3P</th>\n",
              "      <th>SCH4P</th>\n",
              "      <th>SCH5P</th>\n",
              "      <th>SCH6P</th>\n",
              "      <th>SCH7P</th>\n",
              "      <th>SCH9P</th>\n",
              "      <th>SCHTOTP</th>\n",
              "      <th>SCH1M</th>\n",
              "      <th>SCH2M</th>\n",
              "      <th>SCH3M</th>\n",
              "      <th>...</th>\n",
              "      <th>ENRE37</th>\n",
              "      <th>ENRE41</th>\n",
              "      <th>ENRE42</th>\n",
              "      <th>ENRE43</th>\n",
              "      <th>ENRE44</th>\n",
              "      <th>ENRE45</th>\n",
              "      <th>ENRE46</th>\n",
              "      <th>ENRE47</th>\n",
              "      <th>ENRE51</th>\n",
              "      <th>ENRE52</th>\n",
              "      <th>ENRE53</th>\n",
              "      <th>ENRE54</th>\n",
              "      <th>ENRE55</th>\n",
              "      <th>ENRE56</th>\n",
              "      <th>ENRE57</th>\n",
              "      <th>PTXT_ALL</th>\n",
              "      <th>PTXT_SC</th>\n",
              "      <th>PTXT_ST</th>\n",
              "      <th>PUNI_ALL</th>\n",
              "      <th>PUNI_SC</th>\n",
              "      <th>PUNI_ST</th>\n",
              "      <th>UTXT_ALL</th>\n",
              "      <th>UTXT_SC</th>\n",
              "      <th>UTXT_ST</th>\n",
              "      <th>UUNI_ALL</th>\n",
              "      <th>UUNI_SC</th>\n",
              "      <th>UUNI_ST</th>\n",
              "      <th>TCH_5556M</th>\n",
              "      <th>TCH_5556F</th>\n",
              "      <th>TCH_5556T</th>\n",
              "      <th>TCH_5758M</th>\n",
              "      <th>TCH_5758F</th>\n",
              "      <th>TCH_5758T</th>\n",
              "      <th>TCH_5960M</th>\n",
              "      <th>TCH_5960F</th>\n",
              "      <th>TCH_5960T</th>\n",
              "      <th>PPTR30</th>\n",
              "      <th>UPTR35</th>\n",
              "      <th>PSCR30</th>\n",
              "      <th>USCR35</th>\n",
              "      <th>NOTCH_ASS</th>\n",
              "      <th>TCHINV</th>\n",
              "      <th>TOTCLS1G</th>\n",
              "      <th>TOTCLS2G</th>\n",
              "      <th>TOTCLS3G</th>\n",
              "      <th>TOTCLS4G</th>\n",
              "      <th>TOTCLS5G</th>\n",
              "      <th>TOTCLS6G</th>\n",
              "      <th>TOTCLS7G</th>\n",
              "      <th>DIFFERENCE</th>\n",
              "    </tr>\n",
              "    <tr>\n",
              "      <th>STATNAME</th>\n",
              "      <th></th>\n",
              "      <th></th>\n",
              "      <th></th>\n",
              "      <th></th>\n",
              "      <th></th>\n",
              "      <th></th>\n",
              "      <th></th>\n",
              "      <th></th>\n",
              "      <th></th>\n",
              "      <th></th>\n",
              "      <th></th>\n",
              "      <th></th>\n",
              "      <th></th>\n",
              "      <th></th>\n",
              "      <th></th>\n",
              "      <th></th>\n",
              "      <th></th>\n",
              "      <th></th>\n",
              "      <th></th>\n",
              "      <th></th>\n",
              "      <th></th>\n",
              "      <th></th>\n",
              "      <th></th>\n",
              "      <th></th>\n",
              "      <th></th>\n",
              "      <th></th>\n",
              "      <th></th>\n",
              "      <th></th>\n",
              "      <th></th>\n",
              "      <th></th>\n",
              "      <th></th>\n",
              "      <th></th>\n",
              "      <th></th>\n",
              "      <th></th>\n",
              "      <th></th>\n",
              "      <th></th>\n",
              "      <th></th>\n",
              "      <th></th>\n",
              "      <th></th>\n",
              "      <th></th>\n",
              "      <th></th>\n",
              "      <th></th>\n",
              "      <th></th>\n",
              "      <th></th>\n",
              "      <th></th>\n",
              "      <th></th>\n",
              "      <th></th>\n",
              "      <th></th>\n",
              "      <th></th>\n",
              "      <th></th>\n",
              "      <th></th>\n",
              "      <th></th>\n",
              "      <th></th>\n",
              "      <th></th>\n",
              "      <th></th>\n",
              "      <th></th>\n",
              "      <th></th>\n",
              "      <th></th>\n",
              "      <th></th>\n",
              "      <th></th>\n",
              "      <th></th>\n",
              "      <th></th>\n",
              "      <th></th>\n",
              "      <th></th>\n",
              "      <th></th>\n",
              "      <th></th>\n",
              "      <th></th>\n",
              "      <th></th>\n",
              "      <th></th>\n",
              "      <th></th>\n",
              "      <th></th>\n",
              "      <th></th>\n",
              "      <th></th>\n",
              "      <th></th>\n",
              "      <th></th>\n",
              "      <th></th>\n",
              "      <th></th>\n",
              "      <th></th>\n",
              "      <th></th>\n",
              "      <th></th>\n",
              "      <th></th>\n",
              "      <th></th>\n",
              "      <th></th>\n",
              "      <th></th>\n",
              "      <th></th>\n",
              "      <th></th>\n",
              "      <th></th>\n",
              "      <th></th>\n",
              "      <th></th>\n",
              "      <th></th>\n",
              "      <th></th>\n",
              "      <th></th>\n",
              "      <th></th>\n",
              "      <th></th>\n",
              "      <th></th>\n",
              "      <th></th>\n",
              "      <th></th>\n",
              "      <th></th>\n",
              "      <th></th>\n",
              "      <th></th>\n",
              "      <th></th>\n",
              "    </tr>\n",
              "  </thead>\n",
              "  <tbody>\n",
              "    <tr>\n",
              "      <th>KERALA</th>\n",
              "      <td>2015-16</td>\n",
              "      <td>32</td>\n",
              "      <td>KERALA</td>\n",
              "      <td>14</td>\n",
              "      <td>166</td>\n",
              "      <td>1907</td>\n",
              "      <td>1375</td>\n",
              "      <td>33388</td>\n",
              "      <td>24.76</td>\n",
              "      <td>9.95</td>\n",
              "      <td>44.86</td>\n",
              "      <td>1084</td>\n",
              "      <td>9.1</td>\n",
              "      <td>1.5</td>\n",
              "      <td>93.91</td>\n",
              "      <td>91.98</td>\n",
              "      <td>96.02</td>\n",
              "      <td>38863</td>\n",
              "      <td>2586473</td>\n",
              "      <td>1618453</td>\n",
              "      <td>8428</td>\n",
              "      <td>3365</td>\n",
              "      <td>1415</td>\n",
              "      <td>655</td>\n",
              "      <td>1021</td>\n",
              "      <td>1203</td>\n",
              "      <td>371</td>\n",
              "      <td>0</td>\n",
              "      <td>16458</td>\n",
              "      <td>2628</td>\n",
              "      <td>813</td>\n",
              "      <td>415</td>\n",
              "      <td>58</td>\n",
              "      <td>402</td>\n",
              "      <td>203</td>\n",
              "      <td>54</td>\n",
              "      <td>0</td>\n",
              "      <td>4573</td>\n",
              "      <td>4882</td>\n",
              "      <td>1967</td>\n",
              "      <td>969</td>\n",
              "      <td>591</td>\n",
              "      <td>616</td>\n",
              "      <td>887</td>\n",
              "      <td>313</td>\n",
              "      <td>0</td>\n",
              "      <td>10225</td>\n",
              "      <td>918</td>\n",
              "      <td>585</td>\n",
              "      <td>31</td>\n",
              "      <td>...</td>\n",
              "      <td>472</td>\n",
              "      <td>4539</td>\n",
              "      <td>1938</td>\n",
              "      <td>1668</td>\n",
              "      <td>920</td>\n",
              "      <td>2129</td>\n",
              "      <td>1851</td>\n",
              "      <td>381</td>\n",
              "      <td>0</td>\n",
              "      <td>0</td>\n",
              "      <td>1327</td>\n",
              "      <td>0</td>\n",
              "      <td>0</td>\n",
              "      <td>0</td>\n",
              "      <td>0</td>\n",
              "      <td>1014144</td>\n",
              "      <td>130330</td>\n",
              "      <td>31413</td>\n",
              "      <td>493505</td>\n",
              "      <td>82087</td>\n",
              "      <td>22188</td>\n",
              "      <td>1121402</td>\n",
              "      <td>135303</td>\n",
              "      <td>29086</td>\n",
              "      <td>502401</td>\n",
              "      <td>78481</td>\n",
              "      <td>19936</td>\n",
              "      <td>405</td>\n",
              "      <td>1067</td>\n",
              "      <td>1472</td>\n",
              "      <td>189</td>\n",
              "      <td>476</td>\n",
              "      <td>665</td>\n",
              "      <td>103</td>\n",
              "      <td>174</td>\n",
              "      <td>277</td>\n",
              "      <td>944</td>\n",
              "      <td>558</td>\n",
              "      <td>2195</td>\n",
              "      <td>1418</td>\n",
              "      <td>3561</td>\n",
              "      <td>675</td>\n",
              "      <td>51419</td>\n",
              "      <td>43025</td>\n",
              "      <td>31335</td>\n",
              "      <td>5327</td>\n",
              "      <td>15449</td>\n",
              "      <td>17752</td>\n",
              "      <td>3936</td>\n",
              "      <td>4.04</td>\n",
              "    </tr>\n",
              "    <tr>\n",
              "      <th>LAKSHADWEEP</th>\n",
              "      <td>2015-16</td>\n",
              "      <td>31</td>\n",
              "      <td>LAKSHADWEEP</td>\n",
              "      <td>1</td>\n",
              "      <td>3</td>\n",
              "      <td>10</td>\n",
              "      <td>9</td>\n",
              "      <td>64</td>\n",
              "      <td>41.86</td>\n",
              "      <td>11.00</td>\n",
              "      <td>6.23</td>\n",
              "      <td>946</td>\n",
              "      <td>0.0</td>\n",
              "      <td>94.8</td>\n",
              "      <td>92.28</td>\n",
              "      <td>88.25</td>\n",
              "      <td>96.11</td>\n",
              "      <td>32</td>\n",
              "      <td>5973</td>\n",
              "      <td>3805</td>\n",
              "      <td>17</td>\n",
              "      <td>13</td>\n",
              "      <td>4</td>\n",
              "      <td>1</td>\n",
              "      <td>5</td>\n",
              "      <td>1</td>\n",
              "      <td>0</td>\n",
              "      <td>0</td>\n",
              "      <td>41</td>\n",
              "      <td>17</td>\n",
              "      <td>13</td>\n",
              "      <td>4</td>\n",
              "      <td>1</td>\n",
              "      <td>5</td>\n",
              "      <td>1</td>\n",
              "      <td>0</td>\n",
              "      <td>0</td>\n",
              "      <td>41</td>\n",
              "      <td>0</td>\n",
              "      <td>0</td>\n",
              "      <td>0</td>\n",
              "      <td>0</td>\n",
              "      <td>0</td>\n",
              "      <td>0</td>\n",
              "      <td>0</td>\n",
              "      <td>0</td>\n",
              "      <td>0</td>\n",
              "      <td>0</td>\n",
              "      <td>0</td>\n",
              "      <td>0</td>\n",
              "      <td>...</td>\n",
              "      <td>0</td>\n",
              "      <td>0</td>\n",
              "      <td>0</td>\n",
              "      <td>0</td>\n",
              "      <td>0</td>\n",
              "      <td>0</td>\n",
              "      <td>0</td>\n",
              "      <td>0</td>\n",
              "      <td>0</td>\n",
              "      <td>0</td>\n",
              "      <td>0</td>\n",
              "      <td>0</td>\n",
              "      <td>0</td>\n",
              "      <td>0</td>\n",
              "      <td>0</td>\n",
              "      <td>4371</td>\n",
              "      <td>0</td>\n",
              "      <td>4336</td>\n",
              "      <td>4356</td>\n",
              "      <td>0</td>\n",
              "      <td>4321</td>\n",
              "      <td>3674</td>\n",
              "      <td>0</td>\n",
              "      <td>3648</td>\n",
              "      <td>3286</td>\n",
              "      <td>0</td>\n",
              "      <td>3269</td>\n",
              "      <td>38</td>\n",
              "      <td>12</td>\n",
              "      <td>50</td>\n",
              "      <td>21</td>\n",
              "      <td>10</td>\n",
              "      <td>31</td>\n",
              "      <td>0</td>\n",
              "      <td>0</td>\n",
              "      <td>0</td>\n",
              "      <td>0</td>\n",
              "      <td>0</td>\n",
              "      <td>1</td>\n",
              "      <td>0</td>\n",
              "      <td>2395</td>\n",
              "      <td>209</td>\n",
              "      <td>139</td>\n",
              "      <td>150</td>\n",
              "      <td>49</td>\n",
              "      <td>15</td>\n",
              "      <td>28</td>\n",
              "      <td>11</td>\n",
              "      <td>0</td>\n",
              "      <td>7.86</td>\n",
              "    </tr>\n",
              "    <tr>\n",
              "      <th>MIZORAM</th>\n",
              "      <td>2015-16</td>\n",
              "      <td>15</td>\n",
              "      <td>MIZORAM</td>\n",
              "      <td>8</td>\n",
              "      <td>36</td>\n",
              "      <td>851</td>\n",
              "      <td>169</td>\n",
              "      <td>1091</td>\n",
              "      <td>40.42</td>\n",
              "      <td>15.17</td>\n",
              "      <td>22.78</td>\n",
              "      <td>975</td>\n",
              "      <td>0.1</td>\n",
              "      <td>94.4</td>\n",
              "      <td>91.58</td>\n",
              "      <td>89.40</td>\n",
              "      <td>93.72</td>\n",
              "      <td>21081</td>\n",
              "      <td>118153</td>\n",
              "      <td>51193</td>\n",
              "      <td>1561</td>\n",
              "      <td>389</td>\n",
              "      <td>0</td>\n",
              "      <td>1122</td>\n",
              "      <td>0</td>\n",
              "      <td>0</td>\n",
              "      <td>0</td>\n",
              "      <td>0</td>\n",
              "      <td>3072</td>\n",
              "      <td>1314</td>\n",
              "      <td>4</td>\n",
              "      <td>0</td>\n",
              "      <td>959</td>\n",
              "      <td>0</td>\n",
              "      <td>0</td>\n",
              "      <td>0</td>\n",
              "      <td>0</td>\n",
              "      <td>2277</td>\n",
              "      <td>245</td>\n",
              "      <td>384</td>\n",
              "      <td>0</td>\n",
              "      <td>162</td>\n",
              "      <td>0</td>\n",
              "      <td>0</td>\n",
              "      <td>0</td>\n",
              "      <td>0</td>\n",
              "      <td>791</td>\n",
              "      <td>2</td>\n",
              "      <td>1</td>\n",
              "      <td>0</td>\n",
              "      <td>...</td>\n",
              "      <td>0</td>\n",
              "      <td>285</td>\n",
              "      <td>0</td>\n",
              "      <td>0</td>\n",
              "      <td>68</td>\n",
              "      <td>0</td>\n",
              "      <td>0</td>\n",
              "      <td>0</td>\n",
              "      <td>23</td>\n",
              "      <td>0</td>\n",
              "      <td>0</td>\n",
              "      <td>0</td>\n",
              "      <td>0</td>\n",
              "      <td>0</td>\n",
              "      <td>0</td>\n",
              "      <td>71212</td>\n",
              "      <td>104</td>\n",
              "      <td>70271</td>\n",
              "      <td>63694</td>\n",
              "      <td>47</td>\n",
              "      <td>62921</td>\n",
              "      <td>66221</td>\n",
              "      <td>77</td>\n",
              "      <td>65441</td>\n",
              "      <td>52692</td>\n",
              "      <td>16</td>\n",
              "      <td>52296</td>\n",
              "      <td>307</td>\n",
              "      <td>167</td>\n",
              "      <td>474</td>\n",
              "      <td>208</td>\n",
              "      <td>109</td>\n",
              "      <td>317</td>\n",
              "      <td>1</td>\n",
              "      <td>2</td>\n",
              "      <td>3</td>\n",
              "      <td>189</td>\n",
              "      <td>4</td>\n",
              "      <td>146</td>\n",
              "      <td>98</td>\n",
              "      <td>4917</td>\n",
              "      <td>1386</td>\n",
              "      <td>6593</td>\n",
              "      <td>3267</td>\n",
              "      <td>0</td>\n",
              "      <td>4575</td>\n",
              "      <td>0</td>\n",
              "      <td>0</td>\n",
              "      <td>0</td>\n",
              "      <td>4.32</td>\n",
              "    </tr>\n",
              "    <tr>\n",
              "      <th>BIHAR</th>\n",
              "      <td>2015-16</td>\n",
              "      <td>10</td>\n",
              "      <td>BIHAR</td>\n",
              "      <td>38</td>\n",
              "      <td>537</td>\n",
              "      <td>40779</td>\n",
              "      <td>5633</td>\n",
              "      <td>103805</td>\n",
              "      <td>8.36</td>\n",
              "      <td>17.90</td>\n",
              "      <td>25.07</td>\n",
              "      <td>916</td>\n",
              "      <td>15.9</td>\n",
              "      <td>1.3</td>\n",
              "      <td>63.82</td>\n",
              "      <td>53.33</td>\n",
              "      <td>73.39</td>\n",
              "      <td>94163</td>\n",
              "      <td>15017838</td>\n",
              "      <td>6730614</td>\n",
              "      <td>43405</td>\n",
              "      <td>32912</td>\n",
              "      <td>938</td>\n",
              "      <td>292</td>\n",
              "      <td>92</td>\n",
              "      <td>2281</td>\n",
              "      <td>246</td>\n",
              "      <td>0</td>\n",
              "      <td>80166</td>\n",
              "      <td>41790</td>\n",
              "      <td>26794</td>\n",
              "      <td>489</td>\n",
              "      <td>267</td>\n",
              "      <td>58</td>\n",
              "      <td>1854</td>\n",
              "      <td>159</td>\n",
              "      <td>0</td>\n",
              "      <td>71411</td>\n",
              "      <td>579</td>\n",
              "      <td>2350</td>\n",
              "      <td>215</td>\n",
              "      <td>23</td>\n",
              "      <td>28</td>\n",
              "      <td>199</td>\n",
              "      <td>83</td>\n",
              "      <td>0</td>\n",
              "      <td>3477</td>\n",
              "      <td>1036</td>\n",
              "      <td>3768</td>\n",
              "      <td>234</td>\n",
              "      <td>...</td>\n",
              "      <td>95</td>\n",
              "      <td>633</td>\n",
              "      <td>15600</td>\n",
              "      <td>0</td>\n",
              "      <td>166</td>\n",
              "      <td>274</td>\n",
              "      <td>1928</td>\n",
              "      <td>1457</td>\n",
              "      <td>2671</td>\n",
              "      <td>7083</td>\n",
              "      <td>567</td>\n",
              "      <td>0</td>\n",
              "      <td>0</td>\n",
              "      <td>0</td>\n",
              "      <td>0</td>\n",
              "      <td>12775828</td>\n",
              "      <td>2714008</td>\n",
              "      <td>239582</td>\n",
              "      <td>10742347</td>\n",
              "      <td>2320655</td>\n",
              "      <td>208487</td>\n",
              "      <td>5715788</td>\n",
              "      <td>1095589</td>\n",
              "      <td>91620</td>\n",
              "      <td>4655580</td>\n",
              "      <td>881322</td>\n",
              "      <td>76194</td>\n",
              "      <td>6607</td>\n",
              "      <td>2539</td>\n",
              "      <td>9146</td>\n",
              "      <td>7163</td>\n",
              "      <td>2399</td>\n",
              "      <td>9562</td>\n",
              "      <td>986</td>\n",
              "      <td>126</td>\n",
              "      <td>1112</td>\n",
              "      <td>52429</td>\n",
              "      <td>8399</td>\n",
              "      <td>52707</td>\n",
              "      <td>26429</td>\n",
              "      <td>49110</td>\n",
              "      <td>3614</td>\n",
              "      <td>147323</td>\n",
              "      <td>272919</td>\n",
              "      <td>11332</td>\n",
              "      <td>2481</td>\n",
              "      <td>475</td>\n",
              "      <td>23095</td>\n",
              "      <td>927</td>\n",
              "      <td>20.06</td>\n",
              "    </tr>\n",
              "    <tr>\n",
              "      <th>ARUNACHAL PRADESH</th>\n",
              "      <td>2015-16</td>\n",
              "      <td>12</td>\n",
              "      <td>ARUNACHAL PRADESH</td>\n",
              "      <td>20</td>\n",
              "      <td>99</td>\n",
              "      <td>2982</td>\n",
              "      <td>234</td>\n",
              "      <td>1383</td>\n",
              "      <td>16.48</td>\n",
              "      <td>14.66</td>\n",
              "      <td>25.92</td>\n",
              "      <td>920</td>\n",
              "      <td>0.0</td>\n",
              "      <td>68.8</td>\n",
              "      <td>66.95</td>\n",
              "      <td>59.57</td>\n",
              "      <td>73.69</td>\n",
              "      <td>83743</td>\n",
              "      <td>174523</td>\n",
              "      <td>77791</td>\n",
              "      <td>2363</td>\n",
              "      <td>1216</td>\n",
              "      <td>67</td>\n",
              "      <td>50</td>\n",
              "      <td>53</td>\n",
              "      <td>224</td>\n",
              "      <td>39</td>\n",
              "      <td>0</td>\n",
              "      <td>4012</td>\n",
              "      <td>2191</td>\n",
              "      <td>955</td>\n",
              "      <td>38</td>\n",
              "      <td>50</td>\n",
              "      <td>52</td>\n",
              "      <td>139</td>\n",
              "      <td>39</td>\n",
              "      <td>0</td>\n",
              "      <td>3464</td>\n",
              "      <td>150</td>\n",
              "      <td>253</td>\n",
              "      <td>29</td>\n",
              "      <td>0</td>\n",
              "      <td>1</td>\n",
              "      <td>85</td>\n",
              "      <td>0</td>\n",
              "      <td>0</td>\n",
              "      <td>518</td>\n",
              "      <td>22</td>\n",
              "      <td>8</td>\n",
              "      <td>0</td>\n",
              "      <td>...</td>\n",
              "      <td>0</td>\n",
              "      <td>0</td>\n",
              "      <td>0</td>\n",
              "      <td>0</td>\n",
              "      <td>0</td>\n",
              "      <td>0</td>\n",
              "      <td>0</td>\n",
              "      <td>0</td>\n",
              "      <td>0</td>\n",
              "      <td>0</td>\n",
              "      <td>0</td>\n",
              "      <td>0</td>\n",
              "      <td>0</td>\n",
              "      <td>0</td>\n",
              "      <td>0</td>\n",
              "      <td>137527</td>\n",
              "      <td>836</td>\n",
              "      <td>100822</td>\n",
              "      <td>116108</td>\n",
              "      <td>678</td>\n",
              "      <td>88011</td>\n",
              "      <td>70335</td>\n",
              "      <td>398</td>\n",
              "      <td>51255</td>\n",
              "      <td>58265</td>\n",
              "      <td>156</td>\n",
              "      <td>44135</td>\n",
              "      <td>364</td>\n",
              "      <td>98</td>\n",
              "      <td>462</td>\n",
              "      <td>189</td>\n",
              "      <td>50</td>\n",
              "      <td>239</td>\n",
              "      <td>5</td>\n",
              "      <td>5</td>\n",
              "      <td>10</td>\n",
              "      <td>519</td>\n",
              "      <td>35</td>\n",
              "      <td>319</td>\n",
              "      <td>188</td>\n",
              "      <td>5497</td>\n",
              "      <td>504</td>\n",
              "      <td>8564</td>\n",
              "      <td>9020</td>\n",
              "      <td>820</td>\n",
              "      <td>202</td>\n",
              "      <td>304</td>\n",
              "      <td>2022</td>\n",
              "      <td>206</td>\n",
              "      <td>14.12</td>\n",
              "    </tr>\n",
              "    <tr>\n",
              "      <th>RAJASTHAN</th>\n",
              "      <td>2015-16</td>\n",
              "      <td>8</td>\n",
              "      <td>RAJASTHAN</td>\n",
              "      <td>33</td>\n",
              "      <td>302</td>\n",
              "      <td>41441</td>\n",
              "      <td>10594</td>\n",
              "      <td>68621</td>\n",
              "      <td>19.26</td>\n",
              "      <td>15.31</td>\n",
              "      <td>21.44</td>\n",
              "      <td>926</td>\n",
              "      <td>17.8</td>\n",
              "      <td>13.5</td>\n",
              "      <td>67.06</td>\n",
              "      <td>52.66</td>\n",
              "      <td>80.51</td>\n",
              "      <td>342239</td>\n",
              "      <td>8238091</td>\n",
              "      <td>4451853</td>\n",
              "      <td>42577</td>\n",
              "      <td>37428</td>\n",
              "      <td>15297</td>\n",
              "      <td>228</td>\n",
              "      <td>1176</td>\n",
              "      <td>10827</td>\n",
              "      <td>398</td>\n",
              "      <td>0</td>\n",
              "      <td>107931</td>\n",
              "      <td>35740</td>\n",
              "      <td>21027</td>\n",
              "      <td>8751</td>\n",
              "      <td>208</td>\n",
              "      <td>707</td>\n",
              "      <td>4025</td>\n",
              "      <td>206</td>\n",
              "      <td>0</td>\n",
              "      <td>70664</td>\n",
              "      <td>4789</td>\n",
              "      <td>16092</td>\n",
              "      <td>6536</td>\n",
              "      <td>19</td>\n",
              "      <td>467</td>\n",
              "      <td>6779</td>\n",
              "      <td>190</td>\n",
              "      <td>0</td>\n",
              "      <td>34872</td>\n",
              "      <td>2048</td>\n",
              "      <td>309</td>\n",
              "      <td>10</td>\n",
              "      <td>...</td>\n",
              "      <td>0</td>\n",
              "      <td>583</td>\n",
              "      <td>1579</td>\n",
              "      <td>594</td>\n",
              "      <td>0</td>\n",
              "      <td>56</td>\n",
              "      <td>439</td>\n",
              "      <td>0</td>\n",
              "      <td>353</td>\n",
              "      <td>575</td>\n",
              "      <td>387</td>\n",
              "      <td>0</td>\n",
              "      <td>0</td>\n",
              "      <td>518</td>\n",
              "      <td>0</td>\n",
              "      <td>3850769</td>\n",
              "      <td>943210</td>\n",
              "      <td>906653</td>\n",
              "      <td>76534</td>\n",
              "      <td>13176</td>\n",
              "      <td>36594</td>\n",
              "      <td>1877561</td>\n",
              "      <td>474560</td>\n",
              "      <td>377119</td>\n",
              "      <td>38054</td>\n",
              "      <td>12271</td>\n",
              "      <td>9833</td>\n",
              "      <td>11041</td>\n",
              "      <td>4412</td>\n",
              "      <td>15453</td>\n",
              "      <td>5637</td>\n",
              "      <td>2348</td>\n",
              "      <td>7985</td>\n",
              "      <td>430</td>\n",
              "      <td>290</td>\n",
              "      <td>720</td>\n",
              "      <td>18310</td>\n",
              "      <td>2804</td>\n",
              "      <td>21127</td>\n",
              "      <td>11705</td>\n",
              "      <td>40162</td>\n",
              "      <td>2701</td>\n",
              "      <td>125798</td>\n",
              "      <td>253514</td>\n",
              "      <td>120330</td>\n",
              "      <td>979</td>\n",
              "      <td>5189</td>\n",
              "      <td>86126</td>\n",
              "      <td>1720</td>\n",
              "      <td>27.85</td>\n",
              "    </tr>\n",
              "  </tbody>\n",
              "</table>\n",
              "<p>6 rows × 817 columns</p>\n",
              "</div>"
            ],
            "text/plain": [
              "                   AC_YEAR  STATCD           STATNAME  DISTRICTS  BLOCKS  \\\n",
              "STATNAME                                                                   \n",
              "KERALA             2015-16      32             KERALA         14     166   \n",
              "LAKSHADWEEP        2015-16      31        LAKSHADWEEP          1       3   \n",
              "MIZORAM            2015-16      15            MIZORAM          8      36   \n",
              "BIHAR              2015-16      10              BIHAR         38     537   \n",
              "ARUNACHAL PRADESH  2015-16      12  ARUNACHAL PRADESH         20      99   \n",
              "RAJASTHAN          2015-16       8          RAJASTHAN         33     302   \n",
              "\n",
              "                   VILLAGES  CLUSTERS  TOTPOPULAT  P_URB_POP  POPULATION_0_6  \\\n",
              "STATNAME                                                                       \n",
              "KERALA                 1907      1375       33388      24.76            9.95   \n",
              "LAKSHADWEEP              10         9          64      41.86           11.00   \n",
              "MIZORAM                 851       169        1091      40.42           15.17   \n",
              "BIHAR                 40779      5633      103805       8.36           17.90   \n",
              "ARUNACHAL PRADESH      2982       234        1383      16.48           14.66   \n",
              "RAJASTHAN             41441     10594       68621      19.26           15.31   \n",
              "\n",
              "                   GROWTHRATE  SEXRATIO  P_SC_POP  P_ST_POP  OVERALL_LI  \\\n",
              "STATNAME                                                                  \n",
              "KERALA                  44.86      1084       9.1       1.5       93.91   \n",
              "LAKSHADWEEP              6.23       946       0.0      94.8       92.28   \n",
              "MIZORAM                 22.78       975       0.1      94.4       91.58   \n",
              "BIHAR                   25.07       916      15.9       1.3       63.82   \n",
              "ARUNACHAL PRADESH       25.92       920       0.0      68.8       66.95   \n",
              "RAJASTHAN               21.44       926      17.8      13.5       67.06   \n",
              "\n",
              "                   FEMALE_LIT  MALE_LIT  AREA_SQKM  TOT_6_10_15  TOT_11_13_15  \\\n",
              "STATNAME                                                                        \n",
              "KERALA                  91.98     96.02      38863      2586473       1618453   \n",
              "LAKSHADWEEP             88.25     96.11         32         5973          3805   \n",
              "MIZORAM                 89.40     93.72      21081       118153         51193   \n",
              "BIHAR                   53.33     73.39      94163     15017838       6730614   \n",
              "ARUNACHAL PRADESH       59.57     73.69      83743       174523         77791   \n",
              "RAJASTHAN               52.66     80.51     342239      8238091       4451853   \n",
              "\n",
              "                    SCH1   SCH2   SCH3  SCH4  SCH5   SCH6  SCH7  SCH9  SCHTOT  \\\n",
              "STATNAME                                                                        \n",
              "KERALA              8428   3365   1415   655  1021   1203   371     0   16458   \n",
              "LAKSHADWEEP           17     13      4     1     5      1     0     0      41   \n",
              "MIZORAM             1561    389      0  1122     0      0     0     0    3072   \n",
              "BIHAR              43405  32912    938   292    92   2281   246     0   80166   \n",
              "ARUNACHAL PRADESH   2363   1216     67    50    53    224    39     0    4012   \n",
              "RAJASTHAN          42577  37428  15297   228  1176  10827   398     0  107931   \n",
              "\n",
              "                   SCH1G  SCH2G  SCH3G  SCH4G  SCH5G  SCH6G  SCH7G  SCH9G  \\\n",
              "STATNAME                                                                    \n",
              "KERALA              2628    813    415     58    402    203     54      0   \n",
              "LAKSHADWEEP           17     13      4      1      5      1      0      0   \n",
              "MIZORAM             1314      4      0    959      0      0      0      0   \n",
              "BIHAR              41790  26794    489    267     58   1854    159      0   \n",
              "ARUNACHAL PRADESH   2191    955     38     50     52    139     39      0   \n",
              "RAJASTHAN          35740  21027   8751    208    707   4025    206      0   \n",
              "\n",
              "                   SCHTOTG  SCH1P  SCH2P  SCH3P  SCH4P  SCH5P  SCH6P  SCH7P  \\\n",
              "STATNAME                                                                      \n",
              "KERALA                4573   4882   1967    969    591    616    887    313   \n",
              "LAKSHADWEEP             41      0      0      0      0      0      0      0   \n",
              "MIZORAM               2277    245    384      0    162      0      0      0   \n",
              "BIHAR                71411    579   2350    215     23     28    199     83   \n",
              "ARUNACHAL PRADESH     3464    150    253     29      0      1     85      0   \n",
              "RAJASTHAN            70664   4789  16092   6536     19    467   6779    190   \n",
              "\n",
              "                   SCH9P  SCHTOTP  SCH1M  SCH2M  SCH3M  ...  ENRE37  ENRE41  \\\n",
              "STATNAME                                                ...                   \n",
              "KERALA                 0    10225    918    585     31  ...     472    4539   \n",
              "LAKSHADWEEP            0        0      0      0      0  ...       0       0   \n",
              "MIZORAM                0      791      2      1      0  ...       0     285   \n",
              "BIHAR                  0     3477   1036   3768    234  ...      95     633   \n",
              "ARUNACHAL PRADESH      0      518     22      8      0  ...       0       0   \n",
              "RAJASTHAN              0    34872   2048    309     10  ...       0     583   \n",
              "\n",
              "                   ENRE42  ENRE43  ENRE44  ENRE45  ENRE46  ENRE47  ENRE51  \\\n",
              "STATNAME                                                                    \n",
              "KERALA               1938    1668     920    2129    1851     381       0   \n",
              "LAKSHADWEEP             0       0       0       0       0       0       0   \n",
              "MIZORAM                 0       0      68       0       0       0      23   \n",
              "BIHAR               15600       0     166     274    1928    1457    2671   \n",
              "ARUNACHAL PRADESH       0       0       0       0       0       0       0   \n",
              "RAJASTHAN            1579     594       0      56     439       0     353   \n",
              "\n",
              "                   ENRE52  ENRE53  ENRE54  ENRE55  ENRE56  ENRE57  PTXT_ALL  \\\n",
              "STATNAME                                                                      \n",
              "KERALA                  0    1327       0       0       0       0   1014144   \n",
              "LAKSHADWEEP             0       0       0       0       0       0      4371   \n",
              "MIZORAM                 0       0       0       0       0       0     71212   \n",
              "BIHAR                7083     567       0       0       0       0  12775828   \n",
              "ARUNACHAL PRADESH       0       0       0       0       0       0    137527   \n",
              "RAJASTHAN             575     387       0       0     518       0   3850769   \n",
              "\n",
              "                   PTXT_SC  PTXT_ST  PUNI_ALL  PUNI_SC  PUNI_ST  UTXT_ALL  \\\n",
              "STATNAME                                                                    \n",
              "KERALA              130330    31413    493505    82087    22188   1121402   \n",
              "LAKSHADWEEP              0     4336      4356        0     4321      3674   \n",
              "MIZORAM                104    70271     63694       47    62921     66221   \n",
              "BIHAR              2714008   239582  10742347  2320655   208487   5715788   \n",
              "ARUNACHAL PRADESH      836   100822    116108      678    88011     70335   \n",
              "RAJASTHAN           943210   906653     76534    13176    36594   1877561   \n",
              "\n",
              "                   UTXT_SC  UTXT_ST  UUNI_ALL  UUNI_SC  UUNI_ST  TCH_5556M  \\\n",
              "STATNAME                                                                     \n",
              "KERALA              135303    29086    502401    78481    19936        405   \n",
              "LAKSHADWEEP              0     3648      3286        0     3269         38   \n",
              "MIZORAM                 77    65441     52692       16    52296        307   \n",
              "BIHAR              1095589    91620   4655580   881322    76194       6607   \n",
              "ARUNACHAL PRADESH      398    51255     58265      156    44135        364   \n",
              "RAJASTHAN           474560   377119     38054    12271     9833      11041   \n",
              "\n",
              "                   TCH_5556F  TCH_5556T  TCH_5758M  TCH_5758F  TCH_5758T  \\\n",
              "STATNAME                                                                   \n",
              "KERALA                  1067       1472        189        476        665   \n",
              "LAKSHADWEEP               12         50         21         10         31   \n",
              "MIZORAM                  167        474        208        109        317   \n",
              "BIHAR                   2539       9146       7163       2399       9562   \n",
              "ARUNACHAL PRADESH         98        462        189         50        239   \n",
              "RAJASTHAN               4412      15453       5637       2348       7985   \n",
              "\n",
              "                   TCH_5960M  TCH_5960F  TCH_5960T  PPTR30  UPTR35  PSCR30  \\\n",
              "STATNAME                                                                     \n",
              "KERALA                   103        174        277     944     558    2195   \n",
              "LAKSHADWEEP                0          0          0       0       0       1   \n",
              "MIZORAM                    1          2          3     189       4     146   \n",
              "BIHAR                    986        126       1112   52429    8399   52707   \n",
              "ARUNACHAL PRADESH          5          5         10     519      35     319   \n",
              "RAJASTHAN                430        290        720   18310    2804   21127   \n",
              "\n",
              "                   USCR35  NOTCH_ASS  TCHINV  TOTCLS1G  TOTCLS2G  TOTCLS3G  \\\n",
              "STATNAME                                                                     \n",
              "KERALA               1418       3561     675     51419     43025     31335   \n",
              "LAKSHADWEEP             0       2395     209       139       150        49   \n",
              "MIZORAM                98       4917    1386      6593      3267         0   \n",
              "BIHAR               26429      49110    3614    147323    272919     11332   \n",
              "ARUNACHAL PRADESH     188       5497     504      8564      9020       820   \n",
              "RAJASTHAN           11705      40162    2701    125798    253514    120330   \n",
              "\n",
              "                   TOTCLS4G  TOTCLS5G  TOTCLS6G  TOTCLS7G  DIFFERENCE  \n",
              "STATNAME                                                               \n",
              "KERALA                 5327     15449     17752      3936        4.04  \n",
              "LAKSHADWEEP              15        28        11         0        7.86  \n",
              "MIZORAM                4575         0         0         0        4.32  \n",
              "BIHAR                  2481       475     23095       927       20.06  \n",
              "ARUNACHAL PRADESH       202       304      2022       206       14.12  \n",
              "RAJASTHAN               979      5189     86126      1720       27.85  \n",
              "\n",
              "[6 rows x 817 columns]"
            ]
          },
          "metadata": {
            "tags": []
          },
          "execution_count": 42
        }
      ]
    },
    {
      "cell_type": "markdown",
      "metadata": {
        "id": "jWzUMBiKCwAE"
      },
      "source": [
        "### Now we will go over different features that we think affect our state's overall literacy rate"
      ]
    },
    {
      "cell_type": "markdown",
      "metadata": {
        "id": "GQ7dTdUHCwAE"
      },
      "source": [
        "#### 1. Total Population"
      ]
    },
    {
      "cell_type": "code",
      "metadata": {
        "colab": {
          "base_uri": "https://localhost:8080/"
        },
        "id": "uqse5oo1CwAF",
        "outputId": "388ffc00-0e05-4a58-e7af-215e398a3d2e"
      },
      "source": [
        "display_heading('TOTPOPULAT')"
      ],
      "execution_count": null,
      "outputs": [
        {
          "output_type": "execute_result",
          "data": {
            "application/vnd.google.colaboratory.intrinsic+json": {
              "type": "string"
            },
            "text/plain": [
              "\"Basic data from Census 2011: Total Population(in 1000's)\""
            ]
          },
          "metadata": {
            "tags": []
          },
          "execution_count": 43
        }
      ]
    },
    {
      "cell_type": "code",
      "metadata": {
        "colab": {
          "base_uri": "https://localhost:8080/"
        },
        "id": "0sm9yES1CwAF",
        "outputId": "8300b49d-d271-4dd0-b596-01cef92278a5"
      },
      "source": [
        "top_bottom.TOTPOPULAT/top_bottom.AREA_SQKM * 1000"
      ],
      "execution_count": null,
      "outputs": [
        {
          "output_type": "execute_result",
          "data": {
            "text/plain": [
              "STATNAME\n",
              "KERALA                859.120500\n",
              "LAKSHADWEEP          2000.000000\n",
              "MIZORAM                51.752763\n",
              "BIHAR                1102.396907\n",
              "ARUNACHAL PRADESH      16.514813\n",
              "RAJASTHAN             200.506079\n",
              "dtype: float64"
            ]
          },
          "metadata": {
            "tags": []
          },
          "execution_count": 44
        }
      ]
    },
    {
      "cell_type": "markdown",
      "metadata": {
        "id": "cTlZ-6MBCwAG"
      },
      "source": [
        "So population density isn't a factor at all in differentiating between the above two groups. At first I thought that maybe having higher population density created more pressure on the govt to cater to the needs of the people and that it might be difficult for states of really high population density to do so.But the govt of that state should be well equipped enough to make sure that people get access to education in that state irrelevent of how dense the population is."
      ]
    },
    {
      "cell_type": "markdown",
      "metadata": {
        "id": "wvRY_rAyCwAG"
      },
      "source": [
        "#### 2. Diffrence b/w male & female litracy rate\n",
        "DIFFERENCE is the variable we created earlier that  by subtracting female literacy rate from the male literacy rate"
      ]
    },
    {
      "cell_type": "code",
      "metadata": {
        "colab": {
          "base_uri": "https://localhost:8080/"
        },
        "id": "uNiJrxO5CwAG",
        "outputId": "551f2ee3-5d23-462c-8f13-2372109ab20f"
      },
      "source": [
        "top_bottom.plot(y = 'DIFFERENCE',kind= 'bar')\n",
        "plt.xlabel(\"Top and bottom states in terms of litracy rate\")\n",
        "plt.ylabel(\"Difference of male vs female literacy\")\n",
        "plt.title('Top vs Bottom states for DIFFERENCE')"
      ],
      "execution_count": null,
      "outputs": [
        {
          "output_type": "execute_result",
          "data": {
            "text/plain": [
              "Text(0.5, 1.0, 'Top vs Bottom states for DIFFERENCE')"
            ]
          },
          "metadata": {
            "tags": []
          },
          "execution_count": 45
        },
        {
          "output_type": "display_data",
          "data": {
            "image/png": "[encoded data removed]",
            "text/plain": [
              "<Figure size 432x288 with 1 Axes>"
            ]
          },
          "metadata": {
            "tags": []
          }
        }
      ]
    },
    {
      "cell_type": "markdown",
      "metadata": {
        "id": "51O4YgKdCwAH"
      },
      "source": [
        "DIFFERENCE says a lot. The differences are really high in states with low overall literacy rates. So even if the bottom most states have good male literacy rates, female literacy rates are really low and that takes their overall literacy rate down. Thus these states really need to work on educating their females and increasing their literacy rate."
      ]
    },
    {
      "cell_type": "markdown",
      "metadata": {
        "id": "ElgY-GP8CwAL"
      },
      "source": [
        "#### 3. Urban AND Rural Population"
      ]
    },
    {
      "cell_type": "markdown",
      "metadata": {
        "id": "F1SS9hQ2CwAM"
      },
      "source": [
        "Here will create P_RUR_POP which is 100 - urban population proportion(P_URB_POP). This will help us in comparing the rural and urban population proportions."
      ]
    },
    {
      "cell_type": "code",
      "metadata": {
        "colab": {
          "base_uri": "https://localhost:8080/"
        },
        "id": "0D-u-1LQCwAM",
        "outputId": "1f97dccb-73a2-4059-dae5-b319ef695f58"
      },
      "source": [
        "display_heading('P_URB_POP')"
      ],
      "execution_count": null,
      "outputs": [
        {
          "output_type": "execute_result",
          "data": {
            "application/vnd.google.colaboratory.intrinsic+json": {
              "type": "string"
            },
            "text/plain": [
              "'Basic data from Census 2011: Percentage Urban Population'"
            ]
          },
          "metadata": {
            "tags": []
          },
          "execution_count": 46
        }
      ]
    },
    {
      "cell_type": "code",
      "metadata": {
        "id": "QQyvm1b4CwAN"
      },
      "source": [
        "top_bottom['P_RUR_POP'] = 100 - top_bottom['P_URB_POP']"
      ],
      "execution_count": null,
      "outputs": []
    },
    {
      "cell_type": "code",
      "metadata": {
        "colab": {
          "base_uri": "https://localhost:8080/"
        },
        "id": "A6GAhkWbCwAN",
        "outputId": "6f6777a3-d086-42ae-e57b-5717ed6c4608"
      },
      "source": [
        "top_bottom.plot(y = ['P_URB_POP', 'P_RUR_POP'], kind = 'bar', figsize = (10,5))"
      ],
      "execution_count": null,
      "outputs": [
        {
          "output_type": "execute_result",
          "data": {
            "text/plain": [
              "<matplotlib.axes._subplots.AxesSubplot at 0x7f9c1d238650>"
            ]
          },
          "metadata": {
            "tags": []
          },
          "execution_count": 48
        },
        {
          "output_type": "display_data",
          "data": {
            "image/png": "[encoded data removed]",
            "text/plain": [
              "<Figure size 720x360 with 1 Axes>"
            ]
          },
          "metadata": {
            "tags": []
          }
        }
      ]
    },
    {
      "cell_type": "markdown",
      "metadata": {
        "id": "ncQZlPz7CwAO"
      },
      "source": [
        "Here we see a pretty obvious but important component that differentiates our top and bottom states. The difference between rural and urban population is much much bigger in the bottom 3.\n",
        "\n",
        "The rural population percentage in the bottom 3 states is much more than the rural population percentage in the top 3. That's an important factor to note. People living in rural areas lead a very different life compared to the people living in urban areas. There is less motivation to go to school in rural areas as a lot of people tend to take up their parents profession or business. Also, often children are made to skip school and work at the farm."
      ]
    },
    {
      "cell_type": "markdown",
      "metadata": {
        "id": "ywXzdvkaCwAO"
      },
      "source": [
        "#### 4. Sex Ratio\n",
        "Sex ratio is the no. of females per 1000 males"
      ]
    },
    {
      "cell_type": "code",
      "metadata": {
        "colab": {
          "base_uri": "https://localhost:8080/"
        },
        "id": "9WxUbvuGCwAP",
        "outputId": "c1b0a03c-2214-4563-e417-8f358a25147d"
      },
      "source": [
        "# Approximate National average \n",
        "dataset.SEXRATIO.mean()"
      ],
      "execution_count": null,
      "outputs": [
        {
          "output_type": "execute_result",
          "data": {
            "text/plain": [
              "930.8888888888889"
            ]
          },
          "metadata": {
            "tags": []
          },
          "execution_count": 49
        }
      ]
    },
    {
      "cell_type": "code",
      "metadata": {
        "colab": {
          "base_uri": "https://localhost:8080/"
        },
        "id": "veI_0OoVCwAP",
        "outputId": "611e0f24-92d6-43d2-f3f9-61c18ed30047"
      },
      "source": [
        "top_bottom.SEXRATIO"
      ],
      "execution_count": null,
      "outputs": [
        {
          "output_type": "execute_result",
          "data": {
            "text/plain": [
              "STATNAME\n",
              "KERALA               1084\n",
              "LAKSHADWEEP           946\n",
              "MIZORAM               975\n",
              "BIHAR                 916\n",
              "ARUNACHAL PRADESH     920\n",
              "RAJASTHAN             926\n",
              "Name: SEXRATIO, dtype: int64"
            ]
          },
          "metadata": {
            "tags": []
          },
          "execution_count": 50
        }
      ]
    },
    {
      "cell_type": "code",
      "metadata": {
        "colab": {
          "base_uri": "https://localhost:8080/"
        },
        "id": "TewtMiGnCwAQ",
        "outputId": "670fa3af-c4ed-4374-81d1-8d3fca9c8868"
      },
      "source": [
        "top_bottom.plot(y ='SEXRATIO', kind = 'bar')"
      ],
      "execution_count": null,
      "outputs": [
        {
          "output_type": "execute_result",
          "data": {
            "text/plain": [
              "<matplotlib.axes._subplots.AxesSubplot at 0x7f9c1d2afa10>"
            ]
          },
          "metadata": {
            "tags": []
          },
          "execution_count": 51
        },
        {
          "output_type": "display_data",
          "data": {
            "image/png": "[encoded data removed]",
            "text/plain": [
              "<Figure size 432x288 with 1 Axes>"
            ]
          },
          "metadata": {
            "tags": []
          }
        }
      ]
    },
    {
      "cell_type": "code",
      "metadata": {
        "colab": {
          "base_uri": "https://localhost:8080/"
        },
        "id": "P1eDb7raCwAQ",
        "outputId": "b82a97e9-b5d1-4946-cf75-1784b7b6b1b0"
      },
      "source": [
        "# Lets include more states in the comparison (considering the top and bottom 10 states)\n",
        "dataset.sort_values(by = 'OVERALL_LI', inplace=True)\n",
        "pd.concat([dataset.head(10),dataset.tail(10)], axis = 1, sort = False).plot(kind= 'bar', y = 'SEXRATIO', figsize = (10,7),width = 1)"
      ],
      "execution_count": null,
      "outputs": [
        {
          "output_type": "execute_result",
          "data": {
            "text/plain": [
              "<matplotlib.axes._subplots.AxesSubplot at 0x7f9c1f20abd0>"
            ]
          },
          "metadata": {
            "tags": []
          },
          "execution_count": 52
        },
        {
          "output_type": "display_data",
          "data": {
            "image/png": "[encoded data removed]",
            "text/plain": [
              "<Figure size 720x504 with 1 Axes>"
            ]
          },
          "metadata": {
            "tags": []
          }
        }
      ]
    },
    {
      "cell_type": "code",
      "metadata": {
        "colab": {
          "base_uri": "https://localhost:8080/"
        },
        "id": "i65ivrzKCwAR",
        "outputId": "5006a010-d24d-40f5-be04-3cd16e893fe6"
      },
      "source": [
        "dataset.loc[:,['SEXRATIO','OVERALL_LI']].corr()"
      ],
      "execution_count": null,
      "outputs": [
        {
          "output_type": "execute_result",
          "data": {
            "text/html": [
              "<div>\n",
              "<style scoped>\n",
              "    .dataframe tbody tr th:only-of-type {\n",
              "        vertical-align: middle;\n",
              "    }\n",
              "\n",
              "    .dataframe tbody tr th {\n",
              "        vertical-align: top;\n",
              "    }\n",
              "\n",
              "    .dataframe thead th {\n",
              "        text-align: right;\n",
              "    }\n",
              "</style>\n",
              "<table border=\"1\" class=\"dataframe\">\n",
              "  <thead>\n",
              "    <tr style=\"text-align: right;\">\n",
              "      <th></th>\n",
              "      <th>SEXRATIO</th>\n",
              "      <th>OVERALL_LI</th>\n",
              "    </tr>\n",
              "  </thead>\n",
              "  <tbody>\n",
              "    <tr>\n",
              "      <th>SEXRATIO</th>\n",
              "      <td>1.000000</td>\n",
              "      <td>-0.037555</td>\n",
              "    </tr>\n",
              "    <tr>\n",
              "      <th>OVERALL_LI</th>\n",
              "      <td>-0.037555</td>\n",
              "      <td>1.000000</td>\n",
              "    </tr>\n",
              "  </tbody>\n",
              "</table>\n",
              "</div>"
            ],
            "text/plain": [
              "            SEXRATIO  OVERALL_LI\n",
              "SEXRATIO    1.000000   -0.037555\n",
              "OVERALL_LI -0.037555    1.000000"
            ]
          },
          "metadata": {
            "tags": []
          },
          "execution_count": 53
        }
      ]
    },
    {
      "cell_type": "markdown",
      "metadata": {
        "id": "GMfUbfiPCwAR"
      },
      "source": [
        "Clearly the sex ratio has nothing to do with the literacy level.The graphs dont show sex ratio affecting the literacy rate. Also the correlation's too weak."
      ]
    },
    {
      "cell_type": "markdown",
      "metadata": {
        "id": "ejQXaewNCwAS"
      },
      "source": [
        "#### 5. SC and ST Population"
      ]
    },
    {
      "cell_type": "code",
      "metadata": {
        "colab": {
          "base_uri": "https://localhost:8080/"
        },
        "id": "XYVjFc35CwAS",
        "outputId": "3cc9a475-d0d3-432e-ea43-dc6297ba1603"
      },
      "source": [
        "print(display_heading('P_SC_POP'))\n",
        "print(display_heading('P_ST_POP'))"
      ],
      "execution_count": null,
      "outputs": [
        {
          "output_type": "stream",
          "text": [
            "Basic data from Census 2011: Percentage SC Population\n",
            "Basic data from Census 2011: Percentage ST Population\n"
          ],
          "name": "stdout"
        }
      ]
    },
    {
      "cell_type": "code",
      "metadata": {
        "colab": {
          "base_uri": "https://localhost:8080/"
        },
        "id": "cGA5Vi8jCwAT",
        "outputId": "3049a39c-66c0-4d15-adb6-e4567f0be436"
      },
      "source": [
        "top_bottom['SC_ST_POP'] = top_bottom.P_SC_POP + top_bottom.P_ST_POP\n",
        "top_bottom.plot(y = ['SC_ST_POP','P_SC_POP','P_ST_POP'], kind = 'bar', figsize = (15,7))"
      ],
      "execution_count": null,
      "outputs": [
        {
          "output_type": "execute_result",
          "data": {
            "text/plain": [
              "<matplotlib.axes._subplots.AxesSubplot at 0x7f9c1e8f2c90>"
            ]
          },
          "metadata": {
            "tags": []
          },
          "execution_count": 55
        },
        {
          "output_type": "display_data",
          "data": {
            "image/png": "[encoded data removed]",
            "text/plain": [
              "<Figure size 1080x504 with 1 Axes>"
            ]
          },
          "metadata": {
            "tags": []
          }
        }
      ]
    },
    {
      "cell_type": "markdown",
      "metadata": {
        "id": "VYmWd8vNCwAT"
      },
      "source": [
        "Clearly, the overall literacy rate doesn't depend on the SC and ST population proportions because these are very different for all the above states.\n",
        "\n",
        "Now we will try to analyse some school related features and see if they affect the overall literacy rate."
      ]
    },
    {
      "cell_type": "code",
      "metadata": {
        "colab": {
          "base_uri": "https://localhost:8080/"
        },
        "id": "_gTvGVY4CwAU",
        "outputId": "53eb3ee5-f9f8-41c7-c534-687ec6eaf3d2"
      },
      "source": [
        "# These are all the 'school total' related variables that we can explore\n",
        "sch = headings[headings['Field name'].str.contains(r'^SCH\\w*TOT')]\n",
        "print(sch)"
      ],
      "execution_count": null,
      "outputs": [
        {
          "output_type": "stream",
          "text": [
            "    Field name                                        Description\n",
            "28      SCHTOT                         Schools By Category: Total\n",
            "37     SCHTOTG             Schools by Category: Government: Total\n",
            "46     SCHTOTP               Schools by Category: Private : Total\n",
            "55     SCHTOTM  Schools by Category: Madarsas & Unrecognised: ...\n",
            "64    SCHTOTGR      Government Schools by Category - Rural: Total\n",
            "73    SCHTOTGA    Schools by Category: Government & Aided : Total\n",
            "82    SCHTOTPR         Private Schools by Category - Rural: Total\n",
            "91   SCHBOYTOT              Schools by Category: Boys Only: Total\n",
            "100  SCHGIRTOT             Schools by Category: Girls Only: Total\n"
          ],
          "name": "stdout"
        }
      ]
    },
    {
      "cell_type": "markdown",
      "metadata": {
        "id": "rG2EVrx0CwAU"
      },
      "source": [
        "#### 6. KIDSPERSCH (Kids per school)(For primary/elementary schools)"
      ]
    },
    {
      "cell_type": "markdown",
      "metadata": {
        "id": "tv_Tt-tICwAh"
      },
      "source": [
        "I'm making KIDSPERSCH using SCHKIDS, TOT_6_10_15 and TOT_11_13_15 as this will let us check if the number of kids per school is a factor that determines the overall literacy rate or not."
      ]
    },
    {
      "cell_type": "markdown",
      "metadata": {
        "id": "fMKCdWvtCwAi"
      },
      "source": [
        "##### Data Preparation: for kids per school"
      ]
    },
    {
      "cell_type": "code",
      "metadata": {
        "colab": {
          "base_uri": "https://localhost:8080/"
        },
        "id": "_5EzYjwlCwAi",
        "outputId": "54512087-ac07-49d9-921d-f60306c452b3"
      },
      "source": [
        "display_heading('SCHTOT')"
      ],
      "execution_count": null,
      "outputs": [
        {
          "output_type": "execute_result",
          "data": {
            "application/vnd.google.colaboratory.intrinsic+json": {
              "type": "string"
            },
            "text/plain": [
              "'Schools By Category: Total'"
            ]
          },
          "metadata": {
            "tags": []
          },
          "execution_count": 57
        }
      ]
    },
    {
      "cell_type": "code",
      "metadata": {
        "colab": {
          "base_uri": "https://localhost:8080/"
        },
        "id": "prmQtK80CwAj",
        "outputId": "597f7375-62a6-4a6d-b05b-77fd243dbc8a"
      },
      "source": [
        "display_heading('TOT_6_10_15')"
      ],
      "execution_count": null,
      "outputs": [
        {
          "output_type": "execute_result",
          "data": {
            "application/vnd.google.colaboratory.intrinsic+json": {
              "type": "string"
            },
            "text/plain": [
              "'Projected Population : Age Group 6 to 10'"
            ]
          },
          "metadata": {
            "tags": []
          },
          "execution_count": 58
        }
      ]
    },
    {
      "cell_type": "code",
      "metadata": {
        "colab": {
          "base_uri": "https://localhost:8080/"
        },
        "id": "oaUe3vJWCwBN",
        "outputId": "4a0d0883-0a1d-4245-e825-d518ce670ab8"
      },
      "source": [
        "display_heading('TOT_11_13_15')"
      ],
      "execution_count": null,
      "outputs": [
        {
          "output_type": "execute_result",
          "data": {
            "application/vnd.google.colaboratory.intrinsic+json": {
              "type": "string"
            },
            "text/plain": [
              "'Projected Population : Age Group 11 to 13'"
            ]
          },
          "metadata": {
            "tags": []
          },
          "execution_count": 59
        }
      ]
    },
    {
      "cell_type": "code",
      "metadata": {
        "colab": {
          "base_uri": "https://localhost:8080/"
        },
        "id": "kMoIeLpgCwBO",
        "outputId": "22b5403d-2aa2-4c26-d671-22b43c913cc6"
      },
      "source": [
        "# Total no. of schools for the top and bottom states \n",
        "top_bottom.SCHTOT"
      ],
      "execution_count": null,
      "outputs": [
        {
          "output_type": "execute_result",
          "data": {
            "text/plain": [
              "STATNAME\n",
              "KERALA                16458\n",
              "LAKSHADWEEP              41\n",
              "MIZORAM                3072\n",
              "BIHAR                 80166\n",
              "ARUNACHAL PRADESH      4012\n",
              "RAJASTHAN            107931\n",
              "Name: SCHTOT, dtype: int64"
            ]
          },
          "metadata": {
            "tags": []
          },
          "execution_count": 60
        }
      ]
    },
    {
      "cell_type": "code",
      "metadata": {
        "id": "_7WNR7dbCwBR"
      },
      "source": [
        "# No. of kids in the age group 6-15, i.e, elementary school kids\n",
        "top_bottom['SCHKIDS'] = top_bottom.TOT_6_10_15 + top_bottom.TOT_11_13_15\n",
        "# No. of kids per school\n",
        "top_bottom['KIDSPERSCH'] = top_bottom.SCHKIDS/top_bottom.SCHTOT"
      ],
      "execution_count": null,
      "outputs": []
    },
    {
      "cell_type": "code",
      "metadata": {
        "colab": {
          "base_uri": "https://localhost:8080/"
        },
        "id": "lG_LJWkYCwBS",
        "outputId": "20c07988-dcd3-43f3-d985-12804a256e4f"
      },
      "source": [
        "top_bottom.plot(y = 'KIDSPERSCH', kind = 'bar',)\n",
        "plt.xlabel(\"states\")\n",
        "plt.title(\"Kids per school\")"
      ],
      "execution_count": null,
      "outputs": [
        {
          "output_type": "execute_result",
          "data": {
            "text/plain": [
              "Text(0.5, 1.0, 'Kids per school')"
            ]
          },
          "metadata": {
            "tags": []
          },
          "execution_count": 62
        },
        {
          "output_type": "display_data",
          "data": {
            "image/png": "[encoded data removed]",
            "text/plain": [
              "<Figure size 432x288 with 1 Axes>"
            ]
          },
          "metadata": {
            "tags": []
          }
        }
      ]
    },
    {
      "cell_type": "markdown",
      "metadata": {
        "id": "dQZqVxLPCwBS"
      },
      "source": [
        "\n",
        "We see that the no. of kids per school is not a good measure to differentiate between the top and bottom states. Though Mizoram has has the lowest number of kids per school, Arunachal Pradesh and Rajasthan are closeby. Bihar has the max no. of kids per school.\n",
        "\n",
        "One reason why this measure failed to differentiate could be that we dont know the size of the schools and thus there could be really big schools in Kerala but really small schools (generally speaking) in Arunachal Pradesh. Thus we don't get to know the no. of students each school can enroll and manage effeciently. No. of teachers is too a huge factor here. Perhaps no. of classes or sections would have been a better measure here as we would have gotten to know the average class strength."
      ]
    },
    {
      "cell_type": "markdown",
      "metadata": {
        "id": "T0drQWibCwBS"
      },
      "source": [
        "#### 7. Total Classrooms: Primary Only"
      ]
    },
    {
      "cell_type": "markdown",
      "metadata": {
        "id": "eBmm73VlCwBT"
      },
      "source": [
        "##### Data Preparation:\n",
        "I'm making KIDSPERCL (Kids per class) as we think that it might be a better indicator of the overall literacy rate of the state."
      ]
    },
    {
      "cell_type": "code",
      "metadata": {
        "colab": {
          "base_uri": "https://localhost:8080/"
        },
        "id": "uG3u6DSmCwBT",
        "outputId": "a5cae42b-7fdb-48df-c057-4d41574814d9"
      },
      "source": [
        "display_heading('TOTCLS1G')"
      ],
      "execution_count": null,
      "outputs": [
        {
          "output_type": "execute_result",
          "data": {
            "application/vnd.google.colaboratory.intrinsic+json": {
              "type": "string"
            },
            "text/plain": [
              "'Total Classrooms: Primary Only - Primary Only'"
            ]
          },
          "metadata": {
            "tags": []
          },
          "execution_count": 63
        }
      ]
    },
    {
      "cell_type": "code",
      "metadata": {
        "colab": {
          "base_uri": "https://localhost:8080/"
        },
        "id": "OcKCLh4gCwBU",
        "outputId": "27c2b3e2-3518-43b0-d50b-ee3efa78c569"
      },
      "source": [
        "top_bottom['TOTCLS1G'].plot(kind= 'bar')\n",
        "plt.title(\"Total primary classrooms\")"
      ],
      "execution_count": null,
      "outputs": [
        {
          "output_type": "execute_result",
          "data": {
            "text/plain": [
              "Text(0.5, 1.0, 'Total primary classrooms')"
            ]
          },
          "metadata": {
            "tags": []
          },
          "execution_count": 64
        },
        {
          "output_type": "display_data",
          "data": {
            "image/png": "[encoded data removed]",
            "text/plain": [
              "<Figure size 432x288 with 1 Axes>"
            ]
          },
          "metadata": {
            "tags": []
          }
        }
      ]
    },
    {
      "cell_type": "code",
      "metadata": {
        "id": "FAfYRLjtCwBU"
      },
      "source": [
        "# primary kids per class\n",
        "top_bottom['KIDSPERCL'] = top_bottom['SCHKIDS']/top_bottom['TOTCLS1G']"
      ],
      "execution_count": null,
      "outputs": []
    },
    {
      "cell_type": "code",
      "metadata": {
        "colab": {
          "base_uri": "https://localhost:8080/"
        },
        "id": "AsFR9oKCCwBV",
        "outputId": "49799e1c-0fca-44c6-b48d-0afb0a075489"
      },
      "source": [
        "top_bottom['KIDSPERCL'].plot(kind= 'bar')\n",
        "plt.title(\"Kids per class\")"
      ],
      "execution_count": null,
      "outputs": [
        {
          "output_type": "execute_result",
          "data": {
            "text/plain": [
              "Text(0.5, 1.0, 'Kids per class')"
            ]
          },
          "metadata": {
            "tags": []
          },
          "execution_count": 66
        },
        {
          "output_type": "display_data",
          "data": {
            "image/png": "[encoded data removed]",
            "text/plain": [
              "<Figure size 432x288 with 1 Axes>"
            ]
          },
          "metadata": {
            "tags": []
          }
        }
      ]
    },
    {
      "cell_type": "code",
      "metadata": {
        "id": "ZzjORRD8CwBV"
      },
      "source": [
        "elem = dataset.copy(deep = True)\n",
        "elem['SCHKIDS'] = elem.TOT_6_10_15 + elem.TOT_11_13_15\n",
        "elem['KIDSPERCL'] = elem['SCHKIDS']/elem['TOTCLS1G']\n",
        "elem.sort_values(by = 'OVERALL_LI',ascending = False,inplace = True)"
      ],
      "execution_count": null,
      "outputs": []
    },
    {
      "cell_type": "code",
      "metadata": {
        "colab": {
          "base_uri": "https://localhost:8080/"
        },
        "id": "euHNtgJmCwBW",
        "outputId": "ac9de417-a2d3-47c6-ab7d-3e8b3ffa87b2"
      },
      "source": [
        "pd.concat([elem.head(5),elem.tail(5)], axis = 0, sort = False).plot(kind= 'barh', y = 'KIDSPERCL', figsize = (10,7),width = 1)\n",
        "plt.title(\"kids per class\")"
      ],
      "execution_count": null,
      "outputs": [
        {
          "output_type": "execute_result",
          "data": {
            "text/plain": [
              "Text(0.5, 1.0, 'kids per class')"
            ]
          },
          "metadata": {
            "tags": []
          },
          "execution_count": 68
        },
        {
          "output_type": "display_data",
          "data": {
            "image/png": "[encoded data removed]",
            "text/plain": [
              "<Figure size 720x504 with 1 Axes>"
            ]
          },
          "metadata": {
            "tags": []
          }
        }
      ]
    },
    {
      "cell_type": "code",
      "metadata": {
        "colab": {
          "base_uri": "https://localhost:8080/"
        },
        "id": "-DjBy1wGCwBY",
        "outputId": "ad3dd649-9e77-4baf-cb76-9a51b9aa56f2"
      },
      "source": [
        "elem[['KIDSPERCL','OVERALL_LI']].corr()"
      ],
      "execution_count": null,
      "outputs": [
        {
          "output_type": "execute_result",
          "data": {
            "text/html": [
              "<div>\n",
              "<style scoped>\n",
              "    .dataframe tbody tr th:only-of-type {\n",
              "        vertical-align: middle;\n",
              "    }\n",
              "\n",
              "    .dataframe tbody tr th {\n",
              "        vertical-align: top;\n",
              "    }\n",
              "\n",
              "    .dataframe thead th {\n",
              "        text-align: right;\n",
              "    }\n",
              "</style>\n",
              "<table border=\"1\" class=\"dataframe\">\n",
              "  <thead>\n",
              "    <tr style=\"text-align: right;\">\n",
              "      <th></th>\n",
              "      <th>KIDSPERCL</th>\n",
              "      <th>OVERALL_LI</th>\n",
              "    </tr>\n",
              "  </thead>\n",
              "  <tbody>\n",
              "    <tr>\n",
              "      <th>KIDSPERCL</th>\n",
              "      <td>1.00000</td>\n",
              "      <td>0.16714</td>\n",
              "    </tr>\n",
              "    <tr>\n",
              "      <th>OVERALL_LI</th>\n",
              "      <td>0.16714</td>\n",
              "      <td>1.00000</td>\n",
              "    </tr>\n",
              "  </tbody>\n",
              "</table>\n",
              "</div>"
            ],
            "text/plain": [
              "            KIDSPERCL  OVERALL_LI\n",
              "KIDSPERCL     1.00000     0.16714\n",
              "OVERALL_LI    0.16714     1.00000"
            ]
          },
          "metadata": {
            "tags": []
          },
          "execution_count": 69
        }
      ]
    },
    {
      "cell_type": "markdown",
      "metadata": {
        "id": "8oomAqMECwBY"
      },
      "source": [
        "We see that there is a difference in the no. of kids per class, but it is nt significant.Though Bihar and Rajasthan have a very high no. of primary kids per class. The top 5 states on an average have lesser kids per class when compared to the bottom 5 states with the exception of Arunachal Pradesh."
      ]
    },
    {
      "cell_type": "markdown",
      "metadata": {
        "id": "EWKzpiTuCwBZ"
      },
      "source": [
        "#### 8 Comparing the percentage of different types of Primary schools"
      ]
    },
    {
      "cell_type": "markdown",
      "metadata": {
        "id": "Fbu7DNQKCwBZ"
      },
      "source": [
        "##### Data Preparation:\n",
        "We can also take a look at the different types of schools in these states. It might be that the states having a high literacy rate have more private schools than govt. schools. For this purpose, we do some data preparation to allow for plotting of the type of schools."
      ]
    },
    {
      "cell_type": "markdown",
      "metadata": {
        "id": "RiVhUiNUCwBZ"
      },
      "source": [
        ""
      ]
    },
    {
      "cell_type": "code",
      "metadata": {
        "colab": {
          "base_uri": "https://localhost:8080/"
        },
        "id": "pEYwEbPGCwBa",
        "outputId": "9f809c33-3ed1-44ad-db94-ba66723c3c25"
      },
      "source": [
        "# Plot of the % of elementary private, govt schools and Madarsas and comparing them with the national avg.\n",
        "schtotg_avg = (dataset.SCHTOTG/dataset.SCHTOT).mean()\n",
        "schtotp_avg = (dataset.SCHTOTP/dataset.SCHTOT).mean()\n",
        "schtotm_avg = (dataset.SCHTOTM/dataset.SCHTOT).mean()\n",
        "\n",
        "top_state['SCHTOTG_P'] = (top_state.SCHTOTG/top_state.SCHTOT)\n",
        "top_state['SCHTOTP_P'] = (top_state.SCHTOTP/top_state.SCHTOT)\n",
        "top_state['SCHTOTM_P'] = (top_state.SCHTOTM/top_state.SCHTOT)\n",
        "\n",
        "bottom_state['SCHTOTG_P'] = (bottom_state.SCHTOTG/bottom_state.SCHTOT)\n",
        "bottom_state['SCHTOTP_P'] = (bottom_state.SCHTOTP/bottom_state.SCHTOT)\n",
        "bottom_state['SCHTOTM_P'] = (bottom_state.SCHTOTM/bottom_state.SCHTOT)\n",
        "\n",
        "pd.concat([top_state, bottom_state], axis = 1, sort = False).plot(y = ['SCHTOTP_P','SCHTOTG_P','SCHTOTM_P'],\\\n",
        "                                                                    figsize = (18,8), kind = 'bar',\\\n",
        "                                                                    color =['blue','blue','g','g','black','black'], \\\n",
        "                                                                       )\n",
        "\n",
        "plt.plot([schtotg_avg]*8, linestyle ='--',color = 'g') # National avg for % of govt schools\n",
        "\n",
        "plt.plot([schtotp_avg]*8, linestyle ='--',color = 'blue') # National avg for % of private schools\n",
        "\n",
        "plt.plot([schtotm_avg]*8, linestyle ='--',color= 'black') # National avg for % of Madarsas\n",
        "\n",
        "plt.legend(['Pvt','Govt','Madarsas'],loc = 1)\n",
        "plt.xlabel(\"Top and Bottom states\")\n",
        "plt.title(\"Gov. , Pvt and Madarsas schools and Their Avg\")"
      ],
      "execution_count": null,
      "outputs": [
        {
          "output_type": "execute_result",
          "data": {
            "text/plain": [
              "Text(0.5, 1.0, 'Gov. , Pvt and Madarsas schools and Their Avg')"
            ]
          },
          "metadata": {
            "tags": []
          },
          "execution_count": 70
        },
        {
          "output_type": "display_data",
          "data": {
            "image/png": "[encoded data removed]",
            "text/plain": [
              "<Figure size 1296x576 with 1 Axes>"
            ]
          },
          "metadata": {
            "tags": []
          }
        }
      ]
    },
    {
      "cell_type": "markdown",
      "metadata": {
        "id": "kRuHIcqfCwBb"
      },
      "source": [
        "From here we can clearly note the following:\n",
        "\n",
        ">* Lakshadweep has only govt schools.\n",
        ">* Kerala has the highest number of Pvt schools share in the total schools and is the only state here which has more Pvt schools than Govt schools. It has also got an exceptionally high number of Madarasa and the number of govt schools is much less than the national average.\n",
        ">* Bihar and Arunachal Pradesh have really less pvt schools compared to the govt schools. Their % of govt school is more than the national avg.\n",
        ">* Rajasthan has around 35% pvt schools which is large compared to its no. of govt schools.\n",
        "All of this just shows us that even the share of pvt and govt schools isnt related to the literacy rate."
      ]
    },
    {
      "cell_type": "markdown",
      "metadata": {
        "id": "P7QWJImcCwBb"
      },
      "source": [
        "#### 9. Grants: School Development"
      ]
    },
    {
      "cell_type": "code",
      "metadata": {
        "colab": {
          "base_uri": "https://localhost:8080/"
        },
        "id": "fH6OeKIZCwBc",
        "outputId": "8c5abfc7-fc6e-4960-b7c8-c4db6c668282"
      },
      "source": [
        "display_heading('CONTIE')"
      ],
      "execution_count": null,
      "outputs": [
        {
          "output_type": "execute_result",
          "data": {
            "application/vnd.google.colaboratory.intrinsic+json": {
              "type": "string"
            },
            "text/plain": [
              "'Grants: School Development - Expended'"
            ]
          },
          "metadata": {
            "tags": []
          },
          "execution_count": 71
        }
      ]
    },
    {
      "cell_type": "code",
      "metadata": {
        "colab": {
          "base_uri": "https://localhost:8080/"
        },
        "id": "aRRS4IOUCwBd",
        "outputId": "98919b1b-21ab-405b-fbeb-34759c962920"
      },
      "source": [
        "elem[['CONTIE','OVERALL_LI']].corr()"
      ],
      "execution_count": null,
      "outputs": [
        {
          "output_type": "execute_result",
          "data": {
            "text/html": [
              "<div>\n",
              "<style scoped>\n",
              "    .dataframe tbody tr th:only-of-type {\n",
              "        vertical-align: middle;\n",
              "    }\n",
              "\n",
              "    .dataframe tbody tr th {\n",
              "        vertical-align: top;\n",
              "    }\n",
              "\n",
              "    .dataframe thead th {\n",
              "        text-align: right;\n",
              "    }\n",
              "</style>\n",
              "<table border=\"1\" class=\"dataframe\">\n",
              "  <thead>\n",
              "    <tr style=\"text-align: right;\">\n",
              "      <th></th>\n",
              "      <th>CONTIE</th>\n",
              "      <th>OVERALL_LI</th>\n",
              "    </tr>\n",
              "  </thead>\n",
              "  <tbody>\n",
              "    <tr>\n",
              "      <th>CONTIE</th>\n",
              "      <td>1.000000</td>\n",
              "      <td>-0.481281</td>\n",
              "    </tr>\n",
              "    <tr>\n",
              "      <th>OVERALL_LI</th>\n",
              "      <td>-0.481281</td>\n",
              "      <td>1.000000</td>\n",
              "    </tr>\n",
              "  </tbody>\n",
              "</table>\n",
              "</div>"
            ],
            "text/plain": [
              "              CONTIE  OVERALL_LI\n",
              "CONTIE      1.000000   -0.481281\n",
              "OVERALL_LI -0.481281    1.000000"
            ]
          },
          "metadata": {
            "tags": []
          },
          "execution_count": 72
        }
      ]
    },
    {
      "cell_type": "code",
      "metadata": {
        "colab": {
          "base_uri": "https://localhost:8080/"
        },
        "id": "hVGM2mDQCwBd",
        "outputId": "5246f675-6b35-4e70-965d-dc69a743c8b8"
      },
      "source": [
        "top_bottom.CONTIE.plot(kind = 'bar')"
      ],
      "execution_count": null,
      "outputs": [
        {
          "output_type": "execute_result",
          "data": {
            "text/plain": [
              "<matplotlib.axes._subplots.AxesSubplot at 0x7f9c1ee864d0>"
            ]
          },
          "metadata": {
            "tags": []
          },
          "execution_count": 73
        },
        {
          "output_type": "display_data",
          "data": {
            "image/png": "[encoded data removed]",
            "text/plain": [
              "<Figure size 432x288 with 1 Axes>"
            ]
          },
          "metadata": {
            "tags": []
          }
        }
      ]
    },
    {
      "cell_type": "markdown",
      "metadata": {
        "id": "FtqnfAXECwBe"
      },
      "source": [
        "The above says that the more the overall literacy level is, the lesser the grants would have been given to the states for school development. That does make sense as states with lesser education standards and literacy level would be requiring lesser funds as they already have good infrastructure in place. It also depends on how many schools the state has or dense the population is. Lakshadweep, Mizoram and Arunachal Pradesh all are small states and thus their fund are minimal compared to Bihar and Rajasthans."
      ]
    },
    {
      "cell_type": "markdown",
      "metadata": {
        "id": "KeeekQSBCwBe"
      },
      "source": [
        "#### 10. dropout rate from class 8th to 9th."
      ]
    },
    {
      "cell_type": "markdown",
      "metadata": {
        "id": "yt44JUnUCwBf"
      },
      "source": [
        "##### Data Preparation:\n",
        "Finally, here we calculate the dropout rate from class 8th to 9th. For that, we first sum up C9_G and C9_B to calculate the total no. of enrollments for class 9th. We do the same thing for class 8th. Then we subtract the total enrollments for class 9th from class 8th and divide this by the total enrollments for class 8th to find out the proportion of students who dropped out from 8th to 9th"
      ]
    },
    {
      "cell_type": "code",
      "metadata": {
        "colab": {
          "base_uri": "https://localhost:8080/"
        },
        "id": "knMlLQKZCwBf",
        "outputId": "83c7bfa5-f893-4323-fc9a-fbedff3bc9a1"
      },
      "source": [
        "display_heading('C9_B')"
      ],
      "execution_count": null,
      "outputs": [
        {
          "output_type": "execute_result",
          "data": {
            "application/vnd.google.colaboratory.intrinsic+json": {
              "type": "string"
            },
            "text/plain": [
              "'Enrolment By Grade: Boys - Grade 9'"
            ]
          },
          "metadata": {
            "tags": []
          },
          "execution_count": 74
        }
      ]
    },
    {
      "cell_type": "code",
      "metadata": {
        "colab": {
          "base_uri": "https://localhost:8080/"
        },
        "id": "0nqZUgZDCwBf",
        "outputId": "1cabdcd8-c6f4-43d3-a9a8-535da4382d1b"
      },
      "source": [
        "display_heading('C9_G')"
      ],
      "execution_count": null,
      "outputs": [
        {
          "output_type": "execute_result",
          "data": {
            "application/vnd.google.colaboratory.intrinsic+json": {
              "type": "string"
            },
            "text/plain": [
              "'Enrolment By Grade: Girls - Grade 9'"
            ]
          },
          "metadata": {
            "tags": []
          },
          "execution_count": 75
        }
      ]
    },
    {
      "cell_type": "code",
      "metadata": {
        "colab": {
          "base_uri": "https://localhost:8080/"
        },
        "id": "1FiqftDuCwBg",
        "outputId": "07f45ae7-50b8-4548-96d0-7cb088b9c83d"
      },
      "source": [
        "display_heading('C8_B')"
      ],
      "execution_count": null,
      "outputs": [
        {
          "output_type": "execute_result",
          "data": {
            "application/vnd.google.colaboratory.intrinsic+json": {
              "type": "string"
            },
            "text/plain": [
              "'Enrolment By Grade: Boys - Grade 8'"
            ]
          },
          "metadata": {
            "tags": []
          },
          "execution_count": 76
        }
      ]
    },
    {
      "cell_type": "code",
      "metadata": {
        "colab": {
          "base_uri": "https://localhost:8080/"
        },
        "id": "vOZPMDo4CwBg",
        "outputId": "6efec499-6269-44e8-eb89-f5a8f7a7e273"
      },
      "source": [
        "display_heading('C8_G')"
      ],
      "execution_count": null,
      "outputs": [
        {
          "output_type": "execute_result",
          "data": {
            "application/vnd.google.colaboratory.intrinsic+json": {
              "type": "string"
            },
            "text/plain": [
              "'Enrolment By Grade: Girls - Grade 8'"
            ]
          },
          "metadata": {
            "tags": []
          },
          "execution_count": 77
        }
      ]
    },
    {
      "cell_type": "markdown",
      "metadata": {
        "id": "CIQoWbO-CwBh"
      },
      "source": [
        "We can use the above 4 features to calculate the percentage of children dropping out in top and bottom states from class 8th to class 9th (primary to secondary)"
      ]
    },
    {
      "cell_type": "code",
      "metadata": {
        "id": "yuoRsZhFCwBh"
      },
      "source": [
        "dataset['C9_TOTAL'] = dataset.loc[:,'C9_B'] + dataset.loc[:,'C9_G']\n",
        "dataset['C8_TOTAL'] = dataset.loc[:,'C8_B'] + dataset.loc[:,'C8_G']\n",
        "\n",
        "dataset['DROP_8_9'] = (dataset.C8_TOTAL - dataset.C9_TOTAL)/dataset.C8_TOTAL"
      ],
      "execution_count": null,
      "outputs": []
    },
    {
      "cell_type": "code",
      "metadata": {
        "colab": {
          "base_uri": "https://localhost:8080/"
        },
        "id": "3MIejdeuCwBh",
        "outputId": "04d2da47-ffba-4950-d5ed-d1adbabafb32"
      },
      "source": [
        "top_bottom_drop = pd.concat([dataset.sort_values('OVERALL_LI').tail(3).DROP_8_9, \n",
        "                             dataset.sort_values('OVERALL_LI').head(3).DROP_8_9], axis = 0)\n",
        "top_bottom_drop"
      ],
      "execution_count": null,
      "outputs": [
        {
          "output_type": "execute_result",
          "data": {
            "text/plain": [
              "STATNAME\n",
              "MIZORAM             -0.025558\n",
              "LAKSHADWEEP         -0.292279\n",
              "KERALA              -0.038128\n",
              "BIHAR                0.216246\n",
              "TELANGANA            0.038714\n",
              "ARUNACHAL PRADESH    0.102825\n",
              "Name: DROP_8_9, dtype: float64"
            ]
          },
          "metadata": {
            "tags": []
          },
          "execution_count": 79
        }
      ]
    },
    {
      "cell_type": "code",
      "metadata": {
        "colab": {
          "base_uri": "https://localhost:8080/"
        },
        "id": "mcXHphNVCwBi",
        "outputId": "443570bb-b883-4b35-bb6f-058ac2b50fcf"
      },
      "source": [
        "top_bottom_drop.plot(kind='bar', y = 'DROP_8_9', x = 'STATNAME')\n",
        "plt.title(\"dropout rate from class 8 to 9\")"
      ],
      "execution_count": null,
      "outputs": [
        {
          "output_type": "execute_result",
          "data": {
            "text/plain": [
              "Text(0.5, 1.0, 'dropout rate from class 8 to 9')"
            ]
          },
          "metadata": {
            "tags": []
          },
          "execution_count": 80
        },
        {
          "output_type": "display_data",
          "data": {
            "image/png": "[encoded data removed]",
            "text/plain": [
              "<Figure size 432x288 with 1 Axes>"
            ]
          },
          "metadata": {
            "tags": []
          }
        }
      ]
    },
    {
      "cell_type": "code",
      "metadata": {
        "colab": {
          "base_uri": "https://localhost:8080/"
        },
        "id": "_Ua9f9PrCwBj",
        "outputId": "367729d4-c627-4ab6-be96-b620b45d114f"
      },
      "source": [
        "dataset[['DROP_8_9','OVERALL_LI']].corr()"
      ],
      "execution_count": null,
      "outputs": [
        {
          "output_type": "execute_result",
          "data": {
            "text/html": [
              "<div>\n",
              "<style scoped>\n",
              "    .dataframe tbody tr th:only-of-type {\n",
              "        vertical-align: middle;\n",
              "    }\n",
              "\n",
              "    .dataframe tbody tr th {\n",
              "        vertical-align: top;\n",
              "    }\n",
              "\n",
              "    .dataframe thead th {\n",
              "        text-align: right;\n",
              "    }\n",
              "</style>\n",
              "<table border=\"1\" class=\"dataframe\">\n",
              "  <thead>\n",
              "    <tr style=\"text-align: right;\">\n",
              "      <th></th>\n",
              "      <th>DROP_8_9</th>\n",
              "      <th>OVERALL_LI</th>\n",
              "    </tr>\n",
              "  </thead>\n",
              "  <tbody>\n",
              "    <tr>\n",
              "      <th>DROP_8_9</th>\n",
              "      <td>1.000000</td>\n",
              "      <td>-0.703246</td>\n",
              "    </tr>\n",
              "    <tr>\n",
              "      <th>OVERALL_LI</th>\n",
              "      <td>-0.703246</td>\n",
              "      <td>1.000000</td>\n",
              "    </tr>\n",
              "  </tbody>\n",
              "</table>\n",
              "</div>"
            ],
            "text/plain": [
              "            DROP_8_9  OVERALL_LI\n",
              "DROP_8_9    1.000000   -0.703246\n",
              "OVERALL_LI -0.703246    1.000000"
            ]
          },
          "metadata": {
            "tags": []
          },
          "execution_count": 81
        }
      ]
    },
    {
      "cell_type": "markdown",
      "metadata": {
        "id": "q0bPAVA8CwBj"
      },
      "source": [
        "We find the drop out rate from 8th to 9th(primary to secondary) a pretty important feature in distinguishing between the top and bottom states. It is an obvious reason but no one knew that there would be this much of a difference. The top states have more admissions in 9th than they had in 8th while the bottom have the opposite going on.\n",
        "\n",
        "Thus, the key takeaways would be from this analysis would be :\n",
        "\n",
        ">* States should try to increase their female literacy rate by making it safer for girls to travel, making girl only schools with female teachers, providing special incentives to the families to get their girl child to omplete her schooling etc.\n",
        ">* People living in rural areas lead a very different life compared to the people living in urban areas. There is less motivation to go to school in rural areas as a lot of people tend to take up their parent's profession or business. Also, often children are made to skip school and work at the farm. The state should provide more incentives to ensure that families living in rural areas get their children to complete their schooling.\n",
        ">* Dropout rate from 8th to 9th class should be decreased and schemes should be made to ensure that this dropout rate declines. Causes for this dropout rate should be looked into and be dealt with."
      ]
    },
    {
      "cell_type": "markdown",
      "metadata": {
        "id": "0LzdmAEHCwBj"
      },
      "source": [
        "## 3. Which class is the dropout rate maximum in ?"
      ]
    },
    {
      "cell_type": "markdown",
      "metadata": {
        "id": "lgBICdVJCwBk"
      },
      "source": [
        "### Data Preparation:\n",
        "To answer our final question, we must calculate the dropout rates for all classes given in the dataset. So we start by summing up the boys and the girls enrollment for each class. We form a dataframe out of this and then take the sum for each class, i.e, sum up total enrollments for all states. Then we calculate the dropout rate for each class and plot it"
      ]
    },
    {
      "cell_type": "code",
      "metadata": {
        "id": "-RWPRJ39CwBk"
      },
      "source": [
        "# setting the index as state name for easy coding\n",
        "dataset.set_index('STATNAME', inplace = True)"
      ],
      "execution_count": null,
      "outputs": []
    },
    {
      "cell_type": "code",
      "metadata": {
        "id": "sk9LN9oTCwBl"
      },
      "source": [
        "# class_columns contains all the columns related to class enrollments\n",
        "class_b_columns = dataset.columns[dataset.columns.str.contains('C\\d_[B]$',case = False, regex = True)].tolist()\n",
        "class_g_columns = dataset.columns[dataset.columns.str.contains('C\\d_[G]$',case = False, regex = True)].tolist()\n",
        "\n",
        "# total enrollments in each class\n",
        "sums_classes_df = pd.DataFrame(np.matrix(dataset[class_b_columns]) + np.matrix(dataset[class_g_columns]))\n",
        "\n",
        "# storing the column names and index for above dataframe\n",
        "sums_classes_cols=[i[:2] for i in class_b_columns]\n",
        "sums_classes_index = dataset.index"
      ],
      "execution_count": null,
      "outputs": []
    },
    {
      "cell_type": "code",
      "metadata": {
        "id": "QiaEgF-2CwBl"
      },
      "source": [
        "sums_classes_df.index = sums_classes_index\n",
        "sums_classes_df.columns = sums_classes_cols"
      ],
      "execution_count": null,
      "outputs": []
    },
    {
      "cell_type": "code",
      "metadata": {
        "id": "ZncM1EvxCwBo"
      },
      "source": [
        "# totalling for columns\n",
        "totals = sums_classes_df.sum(axis = 0)"
      ],
      "execution_count": null,
      "outputs": []
    },
    {
      "cell_type": "code",
      "metadata": {
        "colab": {
          "base_uri": "https://localhost:8080/"
        },
        "id": "oyri984RCwBp",
        "outputId": "30dcfbc5-bc42-4c1f-b64c-7ccc9206ec04"
      },
      "source": [
        "dropout = []\n",
        "for i,_ in enumerate(totals):\n",
        "    try: \n",
        "        dropout.append((totals[i] - totals[i+1])/totals[i])\n",
        "    except:\n",
        "        pass\n",
        "\n",
        "dropout"
      ],
      "execution_count": null,
      "outputs": [
        {
          "output_type": "execute_result",
          "data": {
            "text/plain": [
              "[0.049807894807547,\n",
              " 0.014726304017832778,\n",
              " -0.008486844753752712,\n",
              " 0.023597734638681263,\n",
              " 0.08056395873036064,\n",
              " 0.019658139068640237,\n",
              " 0.026063321302817914,\n",
              " 0.06841362994279623]"
            ]
          },
          "metadata": {
            "tags": []
          },
          "execution_count": 86
        }
      ]
    },
    {
      "cell_type": "code",
      "metadata": {
        "colab": {
          "base_uri": "https://localhost:8080/"
        },
        "id": "y5dcoLshCwBq",
        "outputId": "e26f8c25-43c7-4f5c-f6c8-253690a01df9"
      },
      "source": [
        "plt.bar(x = range(2,10,1),height = dropout)\n",
        "plt.xlabel(\"Classes\")\n",
        "plt.ylabel(\"dropout\")\n",
        "plt.title(\"Drop Out rate per class\")"
      ],
      "execution_count": null,
      "outputs": [
        {
          "output_type": "execute_result",
          "data": {
            "text/plain": [
              "Text(0.5, 1.0, 'Drop Out rate per class')"
            ]
          },
          "metadata": {
            "tags": []
          },
          "execution_count": 87
        },
        {
          "output_type": "display_data",
          "data": {
            "image/png": "[encoded data removed]",
            "text/plain": [
              "<Figure size 432x288 with 1 Axes>"
            ]
          },
          "metadata": {
            "tags": []
          }
        }
      ]
    },
    {
      "cell_type": "markdown",
      "metadata": {
        "id": "4SKdijCtCwBq"
      },
      "source": [
        "We see from this given graph that the dropout rate was maximum in the 6th class followed by the 9th class and 2nd class. Class 4 saw a negative dropout rate, i.e, more students enrolled and less dropped out when moving from class 3 to class 4 and that is some really good news !\n",
        "\n",
        "The dropout rate for 5th to 6th was really high, 8.5%. One reason for this could be that when the child is old enough to be in 5th, he is usually old enough to do a lot of other work too. His parents might need him at the farm or at their business to help them and start earning. This is a huge problem, especially in the rural parts of India. An additional step here could be to compare the dropout rates between the rural and urban schools.\n",
        "\n",
        "## Results and Conclusions :\n",
        "We started out with a comparison of the literacy rates in the different states and union territories in India. We compared the Male and Female literacy rates in these states and saw that there was a huge difference in the states with a low overall literacy rate. The top 3 states were Kerala, Lakshadweep and Mizoram and the bottom 3 were Bihar, Telngana and Arunachal Pradesh.\n",
        "\n",
        "Next we saw that difference in male and female literacy rates, rural population proportion and dropout rates from 8th to 9th class played a huge role in separating the top 3 and bottom 3 states.\n",
        "\n",
        "Finally, the dropout rates in different classes were explored and while the dropout rate for 6th class was really high, more students had enrolled in class 4 than had dropped out.\n",
        "\n",
        "The literacy rate in India has been improving but there are some key issues that need to be tackled aggressively in order to improve the state of education in India. This is not just the job of the govt, but it is the duty of each and everyone living in the country. Hope to see the stats showing a much better India in the future."
      ]
    },
    {
      "cell_type": "code",
      "metadata": {
        "id": "8mz4vuLsCwBs"
      },
      "source": [
        ""
      ],
      "execution_count": null,
      "outputs": []
    }
  ]
}
